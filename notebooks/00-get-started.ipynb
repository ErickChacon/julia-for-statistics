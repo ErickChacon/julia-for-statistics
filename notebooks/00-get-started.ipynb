{
  "cells": [
    {
      "cell_type": "markdown",
      "source": [
        "# Julia Language\n\nThis is a selective description of topics taken from [Julia documentation](https://docs.julialang.org).\n\n## Get started\n\nYou can start using Julia on an interactive session by running `julia` from the command\nline. The session can be closed using `CTRL-D` or typing `exit()` inside Julia session."
      ],
      "metadata": {}
    },
    {
      "outputs": [],
      "cell_type": "code",
      "source": [
        "exit()"
      ],
      "metadata": {},
      "execution_count": null
    },
    {
      "cell_type": "markdown",
      "source": [
        "We can evaluate a script using the function `include`."
      ],
      "metadata": {}
    },
    {
      "outputs": [],
      "cell_type": "code",
      "source": [
        "include(\"file.jl\")"
      ],
      "metadata": {},
      "execution_count": null
    },
    {
      "cell_type": "markdown",
      "source": [
        "A custom script with optional arguments can also be evaluated non-interactively providing\nthe script name as a first argument to the `julia` command.\n\n```bash\njulia script.jl arg1 arg2\n```\n\nNote that the script name is passed to the global variable `PROGRAM_FILE`. Similarly,\nthe arguments are passed to `ARGS`.\n\nA simple example for `script.jl` where the script name and arguments are printed can be\nfound below."
      ],
      "metadata": {}
    },
    {
      "outputs": [],
      "cell_type": "code",
      "source": [
        "# script.jl\nprintln(PROGRAM_FILE)\nfor x in ARGS\n    println(x)\nend"
      ],
      "metadata": {},
      "execution_count": null
    }
  ],
  "nbformat_minor": 2,
  "metadata": {
    "language_info": {
      "file_extension": ".jl",
      "mimetype": "application/julia",
      "name": "julia",
      "version": "1.6.0"
    },
    "kernelspec": {
      "name": "julia-1.6",
      "display_name": "Julia 1.6.0",
      "language": "julia"
    }
  },
  "nbformat": 4
}
