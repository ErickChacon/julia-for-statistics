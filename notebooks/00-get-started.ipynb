{
  "cells": [
    {
      "cell_type": "markdown",
      "source": [
        "# Julia Language\n\nThis is a selective description of topics taken from [Julia\ndocumentation](https://docs.julialang.org).\n\n## Get started\n\n### An interactive session\n\nYou can start using Julia on an interactive session by running `julia` from the command\nline. Once it is opened, you can execute Julia commands:"
      ],
      "metadata": {}
    },
    {
      "outputs": [],
      "cell_type": "code",
      "source": [
        "10 ^ 2"
      ],
      "metadata": {},
      "execution_count": null
    },
    {
      "cell_type": "markdown",
      "source": [
        "The session can be closed using `CTRL-D` or typing `exit()` inside Julia session.\n\n```\nexit()\n```\n\n###  Scripts\n\nJulia scripts have extension `*.jl`. An script is just a file containing Julia commands.\nThe script `src/00-file.jl` has the following commands:"
      ],
      "metadata": {}
    },
    {
      "outputs": [],
      "cell_type": "code",
      "source": [
        "x = [1, 3]\nfor i in x\n    println(i)\nend"
      ],
      "metadata": {},
      "execution_count": null
    },
    {
      "cell_type": "markdown",
      "source": [
        "We can evaluate a script using the function `include`."
      ],
      "metadata": {}
    },
    {
      "outputs": [],
      "cell_type": "code",
      "source": [
        "include(\"src/00-file.jl\")"
      ],
      "metadata": {},
      "execution_count": null
    },
    {
      "cell_type": "markdown",
      "source": [
        "A custom script with optional arguments can also be evaluated non-interactively (on a\nterminal) providing the script name as a first argument to the `julia` command.\n\n```\njulia script.jl arg1 arg2\n```\n\nNote that the script name is passed to the global variable `PROGRAM_FILE`. Similarly,\nthe arguments are passed to `ARGS`.\n\nAs an example the script `src/00-script.jl` prints the filename and the arguments\nprovided.\n\n```\nprintln(PROGRAM_FILE)\nfor x in ARGS\n    println(x)\nend\n```\n\nWe can execute it as follows:\n\n```\njulia src/00-script.jl 1 10 100\n```\n\n### Notebooks\n\nNotebooks are an interactive way to execute code, but also add formated markdown text. You\nare probably looking at this file as a notebook. I this course we will use mainly\nnotebooks given that it will be easier for the students to start up."
      ],
      "metadata": {}
    }
  ],
  "nbformat_minor": 2,
  "metadata": {
    "language_info": {
      "file_extension": ".jl",
      "mimetype": "application/julia",
      "name": "julia",
      "version": "1.6.0"
    },
    "kernelspec": {
      "name": "julia-1.6",
      "display_name": "Julia 1.6.0",
      "language": "julia"
    }
  },
  "nbformat": 4
}
