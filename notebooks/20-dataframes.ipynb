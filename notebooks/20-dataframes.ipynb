{
 "cells": [
  {
   "cell_type": "markdown",
   "source": [
    "# DataFrames"
   ],
   "metadata": {}
  },
  {
   "cell_type": "markdown",
   "source": [
    "Julia has a general representation for `Tables` with different implementations. The most\n",
    "used package is [DataFrames.jl](https://dataframes.juliadata.org/). It takes advantage\n",
    "of Julia syntax to define certain operation."
   ],
   "metadata": {}
  },
  {
   "cell_type": "markdown",
   "source": [
    "## Define a DataFrame"
   ],
   "metadata": {}
  },
  {
   "outputs": [
    {
     "output_type": "execute_result",
     "data": {
      "text/plain": "\u001b[1m100×3 DataFrame\u001b[0m\n\u001b[1m Row \u001b[0m│\u001b[1m id    \u001b[0m\u001b[1m x         \u001b[0m\u001b[1m y          \u001b[0m\n     │\u001b[90m Int64 \u001b[0m\u001b[90m Float64   \u001b[0m\u001b[90m Float64    \u001b[0m\n─────┼──────────────────────────────\n   1 │     1  0.158191    1.10974\n   2 │     2  0.347173   -1.50653\n   3 │     3  0.825763    0.51689\n   4 │     4  0.0488136   0.503437\n   5 │     5  0.317129    1.73841\n   6 │     6  0.201625   -0.0320905\n   7 │     7  0.166747    0.386799\n   8 │     8  0.746656    2.56994\n  ⋮  │   ⋮        ⋮          ⋮\n  94 │    94  0.183476    0.46691\n  95 │    95  0.866707   -2.20157\n  96 │    96  0.304393    0.225218\n  97 │    97  0.605617   -1.44536\n  98 │    98  0.789248   -0.383216\n  99 │    99  0.116929   -0.69564\n 100 │   100  0.330077    0.768729\n\u001b[36m                     85 rows omitted\u001b[0m",
      "text/html": [
       "<div><div style = \"float: left;\"><span>100×3 DataFrame</span></div><div style = \"float: right;\"><span style = \"font-style: italic;\">75 rows omitted</span></div><div style = \"clear: both;\"></div></div><div class = \"data-frame\" style = \"overflow-x: scroll;\"><table class = \"data-frame\" style = \"margin-bottom: 6px;\"><thead><tr class = \"header\"><th class = \"rowNumber\" style = \"font-weight: bold; text-align: right;\">Row</th><th style = \"text-align: left;\">id</th><th style = \"text-align: left;\">x</th><th style = \"text-align: left;\">y</th></tr><tr class = \"subheader headerLastRow\"><th class = \"rowNumber\" style = \"font-weight: bold; text-align: right;\"></th><th title = \"Int64\" style = \"text-align: left;\">Int64</th><th title = \"Float64\" style = \"text-align: left;\">Float64</th><th title = \"Float64\" style = \"text-align: left;\">Float64</th></tr></thead><tbody><tr><td class = \"rowNumber\" style = \"font-weight: bold; text-align: right;\">1</td><td style = \"text-align: right;\">1</td><td style = \"text-align: right;\">0.158191</td><td style = \"text-align: right;\">1.10974</td></tr><tr><td class = \"rowNumber\" style = \"font-weight: bold; text-align: right;\">2</td><td style = \"text-align: right;\">2</td><td style = \"text-align: right;\">0.347173</td><td style = \"text-align: right;\">-1.50653</td></tr><tr><td class = \"rowNumber\" style = \"font-weight: bold; text-align: right;\">3</td><td style = \"text-align: right;\">3</td><td style = \"text-align: right;\">0.825763</td><td style = \"text-align: right;\">0.51689</td></tr><tr><td class = \"rowNumber\" style = \"font-weight: bold; text-align: right;\">4</td><td style = \"text-align: right;\">4</td><td style = \"text-align: right;\">0.0488136</td><td style = \"text-align: right;\">0.503437</td></tr><tr><td class = \"rowNumber\" style = \"font-weight: bold; text-align: right;\">5</td><td style = \"text-align: right;\">5</td><td style = \"text-align: right;\">0.317129</td><td style = \"text-align: right;\">1.73841</td></tr><tr><td class = \"rowNumber\" style = \"font-weight: bold; text-align: right;\">6</td><td style = \"text-align: right;\">6</td><td style = \"text-align: right;\">0.201625</td><td style = \"text-align: right;\">-0.0320905</td></tr><tr><td class = \"rowNumber\" style = \"font-weight: bold; text-align: right;\">7</td><td style = \"text-align: right;\">7</td><td style = \"text-align: right;\">0.166747</td><td style = \"text-align: right;\">0.386799</td></tr><tr><td class = \"rowNumber\" style = \"font-weight: bold; text-align: right;\">8</td><td style = \"text-align: right;\">8</td><td style = \"text-align: right;\">0.746656</td><td style = \"text-align: right;\">2.56994</td></tr><tr><td class = \"rowNumber\" style = \"font-weight: bold; text-align: right;\">9</td><td style = \"text-align: right;\">9</td><td style = \"text-align: right;\">0.37072</td><td style = \"text-align: right;\">-0.64911</td></tr><tr><td class = \"rowNumber\" style = \"font-weight: bold; text-align: right;\">10</td><td style = \"text-align: right;\">10</td><td style = \"text-align: right;\">0.193667</td><td style = \"text-align: right;\">1.52097</td></tr><tr><td class = \"rowNumber\" style = \"font-weight: bold; text-align: right;\">11</td><td style = \"text-align: right;\">11</td><td style = \"text-align: right;\">0.869397</td><td style = \"text-align: right;\">0.111308</td></tr><tr><td class = \"rowNumber\" style = \"font-weight: bold; text-align: right;\">12</td><td style = \"text-align: right;\">12</td><td style = \"text-align: right;\">0.972406</td><td style = \"text-align: right;\">0.420184</td></tr><tr><td class = \"rowNumber\" style = \"font-weight: bold; text-align: right;\">13</td><td style = \"text-align: right;\">13</td><td style = \"text-align: right;\">0.0985933</td><td style = \"text-align: right;\">-1.68366</td></tr><tr><td style = \"text-align: right;\">&vellip;</td><td style = \"text-align: right;\">&vellip;</td><td style = \"text-align: right;\">&vellip;</td><td style = \"text-align: right;\">&vellip;</td></tr><tr><td class = \"rowNumber\" style = \"font-weight: bold; text-align: right;\">89</td><td style = \"text-align: right;\">89</td><td style = \"text-align: right;\">0.215146</td><td style = \"text-align: right;\">-0.692336</td></tr><tr><td class = \"rowNumber\" style = \"font-weight: bold; text-align: right;\">90</td><td style = \"text-align: right;\">90</td><td style = \"text-align: right;\">0.375501</td><td style = \"text-align: right;\">1.79626</td></tr><tr><td class = \"rowNumber\" style = \"font-weight: bold; text-align: right;\">91</td><td style = \"text-align: right;\">91</td><td style = \"text-align: right;\">0.601422</td><td style = \"text-align: right;\">0.583034</td></tr><tr><td class = \"rowNumber\" style = \"font-weight: bold; text-align: right;\">92</td><td style = \"text-align: right;\">92</td><td style = \"text-align: right;\">0.513466</td><td style = \"text-align: right;\">-1.72173</td></tr><tr><td class = \"rowNumber\" style = \"font-weight: bold; text-align: right;\">93</td><td style = \"text-align: right;\">93</td><td style = \"text-align: right;\">0.162463</td><td style = \"text-align: right;\">1.58919</td></tr><tr><td class = \"rowNumber\" style = \"font-weight: bold; text-align: right;\">94</td><td style = \"text-align: right;\">94</td><td style = \"text-align: right;\">0.183476</td><td style = \"text-align: right;\">0.46691</td></tr><tr><td class = \"rowNumber\" style = \"font-weight: bold; text-align: right;\">95</td><td style = \"text-align: right;\">95</td><td style = \"text-align: right;\">0.866707</td><td style = \"text-align: right;\">-2.20157</td></tr><tr><td class = \"rowNumber\" style = \"font-weight: bold; text-align: right;\">96</td><td style = \"text-align: right;\">96</td><td style = \"text-align: right;\">0.304393</td><td style = \"text-align: right;\">0.225218</td></tr><tr><td class = \"rowNumber\" style = \"font-weight: bold; text-align: right;\">97</td><td style = \"text-align: right;\">97</td><td style = \"text-align: right;\">0.605617</td><td style = \"text-align: right;\">-1.44536</td></tr><tr><td class = \"rowNumber\" style = \"font-weight: bold; text-align: right;\">98</td><td style = \"text-align: right;\">98</td><td style = \"text-align: right;\">0.789248</td><td style = \"text-align: right;\">-0.383216</td></tr><tr><td class = \"rowNumber\" style = \"font-weight: bold; text-align: right;\">99</td><td style = \"text-align: right;\">99</td><td style = \"text-align: right;\">0.116929</td><td style = \"text-align: right;\">-0.69564</td></tr><tr><td class = \"rowNumber\" style = \"font-weight: bold; text-align: right;\">100</td><td style = \"text-align: right;\">100</td><td style = \"text-align: right;\">0.330077</td><td style = \"text-align: right;\">0.768729</td></tr></tbody></table></div>"
      ]
     },
     "metadata": {},
     "execution_count": 1
    }
   ],
   "cell_type": "code",
   "source": [
    "using DataFrames\n",
    "\n",
    "n = 100\n",
    "data = DataFrame(id = 1:n, x = rand(n), y = randn(n))"
   ],
   "metadata": {},
   "execution_count": 1
  },
  {
   "cell_type": "markdown",
   "source": [
    "## Subsetting"
   ],
   "metadata": {}
  },
  {
   "cell_type": "markdown",
   "source": [
    "Let's select a column without doing a copy:"
   ],
   "metadata": {}
  },
  {
   "outputs": [
    {
     "output_type": "execute_result",
     "data": {
      "text/plain": "100-element Vector{Int64}:\n   1\n   2\n   3\n   4\n   5\n   6\n   7\n   8\n   9\n  10\n   ⋮\n  92\n  93\n  94\n  95\n  96\n  97\n  98\n  99\n 100"
     },
     "metadata": {},
     "execution_count": 2
    }
   ],
   "cell_type": "code",
   "source": [
    "data.id"
   ],
   "metadata": {},
   "execution_count": 2
  },
  {
   "outputs": [
    {
     "output_type": "execute_result",
     "data": {
      "text/plain": "100-element Vector{Int64}:\n   1\n   2\n   3\n   4\n   5\n   6\n   7\n   8\n   9\n  10\n   ⋮\n  92\n  93\n  94\n  95\n  96\n  97\n  98\n  99\n 100"
     },
     "metadata": {},
     "execution_count": 3
    }
   ],
   "cell_type": "code",
   "source": [
    "data[!, :id]"
   ],
   "metadata": {},
   "execution_count": 3
  },
  {
   "cell_type": "markdown",
   "source": [
    "Modifications on these columns will be reflected in the original data."
   ],
   "metadata": {}
  },
  {
   "outputs": [
    {
     "output_type": "execute_result",
     "data": {
      "text/plain": "100-element Vector{Float64}:\n 0.15819145612741414\n 0.34717318594495494\n 0.8257632067306808\n 0.048813565927749325\n 0.3171286589882776\n 0.20162465630759652\n 0.1667473186099928\n 0.7466562476338594\n 0.37071959695238366\n 0.1936671103597204\n ⋮\n 0.5134663239593764\n 0.1624628585650595\n 0.18347608908012258\n 0.8667070814632595\n 0.3043931343791332\n 0.6056173516038614\n 0.7892477187231555\n 0.11692883718937974\n 0.33007713912249703"
     },
     "metadata": {},
     "execution_count": 4
    }
   ],
   "cell_type": "code",
   "source": [
    "xaux = data.x"
   ],
   "metadata": {},
   "execution_count": 4
  },
  {
   "outputs": [
    {
     "output_type": "execute_result",
     "data": {
      "text/plain": "100"
     },
     "metadata": {},
     "execution_count": 5
    }
   ],
   "cell_type": "code",
   "source": [
    "xaux[1] = 100"
   ],
   "metadata": {},
   "execution_count": 5
  },
  {
   "outputs": [
    {
     "output_type": "execute_result",
     "data": {
      "text/plain": "\u001b[1m2×3 DataFrame\u001b[0m\n\u001b[1m Row \u001b[0m│\u001b[1m id    \u001b[0m\u001b[1m x          \u001b[0m\u001b[1m y        \u001b[0m\n     │\u001b[90m Int64 \u001b[0m\u001b[90m Float64    \u001b[0m\u001b[90m Float64  \u001b[0m\n─────┼─────────────────────────────\n   1 │     1  100.0        1.10974\n   2 │     2    0.347173  -1.50653",
      "text/html": [
       "<div><div style = \"float: left;\"><span>2×3 DataFrame</span></div><div style = \"clear: both;\"></div></div><div class = \"data-frame\" style = \"overflow-x: scroll;\"><table class = \"data-frame\" style = \"margin-bottom: 6px;\"><thead><tr class = \"header\"><th class = \"rowNumber\" style = \"font-weight: bold; text-align: right;\">Row</th><th style = \"text-align: left;\">id</th><th style = \"text-align: left;\">x</th><th style = \"text-align: left;\">y</th></tr><tr class = \"subheader headerLastRow\"><th class = \"rowNumber\" style = \"font-weight: bold; text-align: right;\"></th><th title = \"Int64\" style = \"text-align: left;\">Int64</th><th title = \"Float64\" style = \"text-align: left;\">Float64</th><th title = \"Float64\" style = \"text-align: left;\">Float64</th></tr></thead><tbody><tr><td class = \"rowNumber\" style = \"font-weight: bold; text-align: right;\">1</td><td style = \"text-align: right;\">1</td><td style = \"text-align: right;\">100.0</td><td style = \"text-align: right;\">1.10974</td></tr><tr><td class = \"rowNumber\" style = \"font-weight: bold; text-align: right;\">2</td><td style = \"text-align: right;\">2</td><td style = \"text-align: right;\">0.347173</td><td style = \"text-align: right;\">-1.50653</td></tr></tbody></table></div>"
      ]
     },
     "metadata": {},
     "execution_count": 6
    }
   ],
   "cell_type": "code",
   "source": [
    "first(data, 2)"
   ],
   "metadata": {},
   "execution_count": 6
  },
  {
   "cell_type": "markdown",
   "source": [
    "A copy of a column is created as folows:"
   ],
   "metadata": {}
  },
  {
   "outputs": [
    {
     "output_type": "execute_result",
     "data": {
      "text/plain": "100-element Vector{Float64}:\n 100.0\n   0.34717318594495494\n   0.8257632067306808\n   0.048813565927749325\n   0.3171286589882776\n   0.20162465630759652\n   0.1667473186099928\n   0.7466562476338594\n   0.37071959695238366\n   0.1936671103597204\n   ⋮\n   0.5134663239593764\n   0.1624628585650595\n   0.18347608908012258\n   0.8667070814632595\n   0.3043931343791332\n   0.6056173516038614\n   0.7892477187231555\n   0.11692883718937974\n   0.33007713912249703"
     },
     "metadata": {},
     "execution_count": 7
    }
   ],
   "cell_type": "code",
   "source": [
    "xaux = data[:, :x]"
   ],
   "metadata": {},
   "execution_count": 7
  },
  {
   "outputs": [
    {
     "output_type": "execute_result",
     "data": {
      "text/plain": "10"
     },
     "metadata": {},
     "execution_count": 8
    }
   ],
   "cell_type": "code",
   "source": [
    "xaux[1] = 10"
   ],
   "metadata": {},
   "execution_count": 8
  },
  {
   "outputs": [
    {
     "output_type": "execute_result",
     "data": {
      "text/plain": "\u001b[1m2×3 DataFrame\u001b[0m\n\u001b[1m Row \u001b[0m│\u001b[1m id    \u001b[0m\u001b[1m x          \u001b[0m\u001b[1m y        \u001b[0m\n     │\u001b[90m Int64 \u001b[0m\u001b[90m Float64    \u001b[0m\u001b[90m Float64  \u001b[0m\n─────┼─────────────────────────────\n   1 │     1  100.0        1.10974\n   2 │     2    0.347173  -1.50653",
      "text/html": [
       "<div><div style = \"float: left;\"><span>2×3 DataFrame</span></div><div style = \"clear: both;\"></div></div><div class = \"data-frame\" style = \"overflow-x: scroll;\"><table class = \"data-frame\" style = \"margin-bottom: 6px;\"><thead><tr class = \"header\"><th class = \"rowNumber\" style = \"font-weight: bold; text-align: right;\">Row</th><th style = \"text-align: left;\">id</th><th style = \"text-align: left;\">x</th><th style = \"text-align: left;\">y</th></tr><tr class = \"subheader headerLastRow\"><th class = \"rowNumber\" style = \"font-weight: bold; text-align: right;\"></th><th title = \"Int64\" style = \"text-align: left;\">Int64</th><th title = \"Float64\" style = \"text-align: left;\">Float64</th><th title = \"Float64\" style = \"text-align: left;\">Float64</th></tr></thead><tbody><tr><td class = \"rowNumber\" style = \"font-weight: bold; text-align: right;\">1</td><td style = \"text-align: right;\">1</td><td style = \"text-align: right;\">100.0</td><td style = \"text-align: right;\">1.10974</td></tr><tr><td class = \"rowNumber\" style = \"font-weight: bold; text-align: right;\">2</td><td style = \"text-align: right;\">2</td><td style = \"text-align: right;\">0.347173</td><td style = \"text-align: right;\">-1.50653</td></tr></tbody></table></div>"
      ]
     },
     "metadata": {},
     "execution_count": 9
    }
   ],
   "cell_type": "code",
   "source": [
    "first(data, 2)"
   ],
   "metadata": {},
   "execution_count": 9
  },
  {
   "cell_type": "markdown",
   "source": [
    "More specific subsetting can be done with:"
   ],
   "metadata": {}
  },
  {
   "outputs": [
    {
     "output_type": "execute_result",
     "data": {
      "text/plain": "10-element Vector{Int64}:\n  1\n  2\n  3\n  4\n  5\n  6\n  7\n  8\n  9\n 10"
     },
     "metadata": {},
     "execution_count": 10
    }
   ],
   "cell_type": "code",
   "source": [
    "data.id[1:10]"
   ],
   "metadata": {},
   "execution_count": 10
  },
  {
   "outputs": [
    {
     "output_type": "execute_result",
     "data": {
      "text/plain": "11-element Vector{Int64}:\n  90\n  91\n  92\n  93\n  94\n  95\n  96\n  97\n  98\n  99\n 100"
     },
     "metadata": {},
     "execution_count": 11
    }
   ],
   "cell_type": "code",
   "source": [
    "data.id[90:end]"
   ],
   "metadata": {},
   "execution_count": 11
  },
  {
   "outputs": [
    {
     "output_type": "execute_result",
     "data": {
      "text/plain": "\u001b[1m10×2 DataFrame\u001b[0m\n\u001b[1m Row \u001b[0m│\u001b[1m id    \u001b[0m\u001b[1m x           \u001b[0m\n     │\u001b[90m Int64 \u001b[0m\u001b[90m Float64     \u001b[0m\n─────┼────────────────────\n   1 │     1  100.0\n   2 │     2    0.347173\n   3 │     3    0.825763\n   4 │     4    0.0488136\n   5 │     5    0.317129\n   6 │     6    0.201625\n   7 │     7    0.166747\n   8 │     8    0.746656\n   9 │     9    0.37072\n  10 │    10    0.193667",
      "text/html": [
       "<div><div style = \"float: left;\"><span>10×2 DataFrame</span></div><div style = \"clear: both;\"></div></div><div class = \"data-frame\" style = \"overflow-x: scroll;\"><table class = \"data-frame\" style = \"margin-bottom: 6px;\"><thead><tr class = \"header\"><th class = \"rowNumber\" style = \"font-weight: bold; text-align: right;\">Row</th><th style = \"text-align: left;\">id</th><th style = \"text-align: left;\">x</th></tr><tr class = \"subheader headerLastRow\"><th class = \"rowNumber\" style = \"font-weight: bold; text-align: right;\"></th><th title = \"Int64\" style = \"text-align: left;\">Int64</th><th title = \"Float64\" style = \"text-align: left;\">Float64</th></tr></thead><tbody><tr><td class = \"rowNumber\" style = \"font-weight: bold; text-align: right;\">1</td><td style = \"text-align: right;\">1</td><td style = \"text-align: right;\">100.0</td></tr><tr><td class = \"rowNumber\" style = \"font-weight: bold; text-align: right;\">2</td><td style = \"text-align: right;\">2</td><td style = \"text-align: right;\">0.347173</td></tr><tr><td class = \"rowNumber\" style = \"font-weight: bold; text-align: right;\">3</td><td style = \"text-align: right;\">3</td><td style = \"text-align: right;\">0.825763</td></tr><tr><td class = \"rowNumber\" style = \"font-weight: bold; text-align: right;\">4</td><td style = \"text-align: right;\">4</td><td style = \"text-align: right;\">0.0488136</td></tr><tr><td class = \"rowNumber\" style = \"font-weight: bold; text-align: right;\">5</td><td style = \"text-align: right;\">5</td><td style = \"text-align: right;\">0.317129</td></tr><tr><td class = \"rowNumber\" style = \"font-weight: bold; text-align: right;\">6</td><td style = \"text-align: right;\">6</td><td style = \"text-align: right;\">0.201625</td></tr><tr><td class = \"rowNumber\" style = \"font-weight: bold; text-align: right;\">7</td><td style = \"text-align: right;\">7</td><td style = \"text-align: right;\">0.166747</td></tr><tr><td class = \"rowNumber\" style = \"font-weight: bold; text-align: right;\">8</td><td style = \"text-align: right;\">8</td><td style = \"text-align: right;\">0.746656</td></tr><tr><td class = \"rowNumber\" style = \"font-weight: bold; text-align: right;\">9</td><td style = \"text-align: right;\">9</td><td style = \"text-align: right;\">0.37072</td></tr><tr><td class = \"rowNumber\" style = \"font-weight: bold; text-align: right;\">10</td><td style = \"text-align: right;\">10</td><td style = \"text-align: right;\">0.193667</td></tr></tbody></table></div>"
      ]
     },
     "metadata": {},
     "execution_count": 12
    }
   ],
   "cell_type": "code",
   "source": [
    "data[1:10, 1:2]"
   ],
   "metadata": {},
   "execution_count": 12
  },
  {
   "cell_type": "markdown",
   "source": [
    "You can also create a view that references to you DataFrame:"
   ],
   "metadata": {}
  },
  {
   "outputs": [
    {
     "output_type": "execute_result",
     "data": {
      "text/plain": "\u001b[1m2×3 DataFrame\u001b[0m\n\u001b[1m Row \u001b[0m│\u001b[1m id    \u001b[0m\u001b[1m x        \u001b[0m\u001b[1m y        \u001b[0m\n     │\u001b[90m Int64 \u001b[0m\u001b[90m Float64  \u001b[0m\u001b[90m Float64  \u001b[0m\n─────┼───────────────────────────\n   1 │     1  0.909167   1.10974\n   2 │     2  0.347173  -1.50653",
      "text/html": [
       "<div><div style = \"float: left;\"><span>2×3 DataFrame</span></div><div style = \"clear: both;\"></div></div><div class = \"data-frame\" style = \"overflow-x: scroll;\"><table class = \"data-frame\" style = \"margin-bottom: 6px;\"><thead><tr class = \"header\"><th class = \"rowNumber\" style = \"font-weight: bold; text-align: right;\">Row</th><th style = \"text-align: left;\">id</th><th style = \"text-align: left;\">x</th><th style = \"text-align: left;\">y</th></tr><tr class = \"subheader headerLastRow\"><th class = \"rowNumber\" style = \"font-weight: bold; text-align: right;\"></th><th title = \"Int64\" style = \"text-align: left;\">Int64</th><th title = \"Float64\" style = \"text-align: left;\">Float64</th><th title = \"Float64\" style = \"text-align: left;\">Float64</th></tr></thead><tbody><tr><td class = \"rowNumber\" style = \"font-weight: bold; text-align: right;\">1</td><td style = \"text-align: right;\">1</td><td style = \"text-align: right;\">0.909167</td><td style = \"text-align: right;\">1.10974</td></tr><tr><td class = \"rowNumber\" style = \"font-weight: bold; text-align: right;\">2</td><td style = \"text-align: right;\">2</td><td style = \"text-align: right;\">0.347173</td><td style = \"text-align: right;\">-1.50653</td></tr></tbody></table></div>"
      ]
     },
     "metadata": {},
     "execution_count": 13
    }
   ],
   "cell_type": "code",
   "source": [
    "subdata = view(data, 1:10, 1:3)\n",
    "subdata.x[1] = rand()\n",
    "first(data, 2)"
   ],
   "metadata": {},
   "execution_count": 13
  },
  {
   "cell_type": "markdown",
   "source": [
    "## Transform variables"
   ],
   "metadata": {}
  },
  {
   "cell_type": "markdown",
   "source": [
    "To perform operations over columns, we use the `Pair` syntax:"
   ],
   "metadata": {}
  },
  {
   "outputs": [
    {
     "output_type": "execute_result",
     "data": {
      "text/plain": "\u001b[1m100×4 DataFrame\u001b[0m\n\u001b[1m Row \u001b[0m│\u001b[1m id    \u001b[0m\u001b[1m x         \u001b[0m\u001b[1m y          \u001b[0m\u001b[1m x_function \u001b[0m\n     │\u001b[90m Int64 \u001b[0m\u001b[90m Float64   \u001b[0m\u001b[90m Float64    \u001b[0m\u001b[90m Float64    \u001b[0m\n─────┼──────────────────────────────────────────\n   1 │     1  0.909167    1.10974    0.826584\n   2 │     2  0.347173   -1.50653    0.120529\n   3 │     3  0.825763    0.51689    0.681885\n   4 │     4  0.0488136   0.503437   0.00238276\n   5 │     5  0.317129    1.73841    0.100571\n   6 │     6  0.201625   -0.0320905  0.0406525\n   7 │     7  0.166747    0.386799   0.0278047\n   8 │     8  0.746656    2.56994    0.557496\n  ⋮  │   ⋮        ⋮          ⋮           ⋮\n  94 │    94  0.183476    0.46691    0.0336635\n  95 │    95  0.866707   -2.20157    0.751181\n  96 │    96  0.304393    0.225218   0.0926552\n  97 │    97  0.605617   -1.44536    0.366772\n  98 │    98  0.789248   -0.383216   0.622912\n  99 │    99  0.116929   -0.69564    0.0136724\n 100 │   100  0.330077    0.768729   0.108951\n\u001b[36m                                 85 rows omitted\u001b[0m",
      "text/html": [
       "<div><div style = \"float: left;\"><span>100×4 DataFrame</span></div><div style = \"float: right;\"><span style = \"font-style: italic;\">75 rows omitted</span></div><div style = \"clear: both;\"></div></div><div class = \"data-frame\" style = \"overflow-x: scroll;\"><table class = \"data-frame\" style = \"margin-bottom: 6px;\"><thead><tr class = \"header\"><th class = \"rowNumber\" style = \"font-weight: bold; text-align: right;\">Row</th><th style = \"text-align: left;\">id</th><th style = \"text-align: left;\">x</th><th style = \"text-align: left;\">y</th><th style = \"text-align: left;\">x_function</th></tr><tr class = \"subheader headerLastRow\"><th class = \"rowNumber\" style = \"font-weight: bold; text-align: right;\"></th><th title = \"Int64\" style = \"text-align: left;\">Int64</th><th title = \"Float64\" style = \"text-align: left;\">Float64</th><th title = \"Float64\" style = \"text-align: left;\">Float64</th><th title = \"Float64\" style = \"text-align: left;\">Float64</th></tr></thead><tbody><tr><td class = \"rowNumber\" style = \"font-weight: bold; text-align: right;\">1</td><td style = \"text-align: right;\">1</td><td style = \"text-align: right;\">0.909167</td><td style = \"text-align: right;\">1.10974</td><td style = \"text-align: right;\">0.826584</td></tr><tr><td class = \"rowNumber\" style = \"font-weight: bold; text-align: right;\">2</td><td style = \"text-align: right;\">2</td><td style = \"text-align: right;\">0.347173</td><td style = \"text-align: right;\">-1.50653</td><td style = \"text-align: right;\">0.120529</td></tr><tr><td class = \"rowNumber\" style = \"font-weight: bold; text-align: right;\">3</td><td style = \"text-align: right;\">3</td><td style = \"text-align: right;\">0.825763</td><td style = \"text-align: right;\">0.51689</td><td style = \"text-align: right;\">0.681885</td></tr><tr><td class = \"rowNumber\" style = \"font-weight: bold; text-align: right;\">4</td><td style = \"text-align: right;\">4</td><td style = \"text-align: right;\">0.0488136</td><td style = \"text-align: right;\">0.503437</td><td style = \"text-align: right;\">0.00238276</td></tr><tr><td class = \"rowNumber\" style = \"font-weight: bold; text-align: right;\">5</td><td style = \"text-align: right;\">5</td><td style = \"text-align: right;\">0.317129</td><td style = \"text-align: right;\">1.73841</td><td style = \"text-align: right;\">0.100571</td></tr><tr><td class = \"rowNumber\" style = \"font-weight: bold; text-align: right;\">6</td><td style = \"text-align: right;\">6</td><td style = \"text-align: right;\">0.201625</td><td style = \"text-align: right;\">-0.0320905</td><td style = \"text-align: right;\">0.0406525</td></tr><tr><td class = \"rowNumber\" style = \"font-weight: bold; text-align: right;\">7</td><td style = \"text-align: right;\">7</td><td style = \"text-align: right;\">0.166747</td><td style = \"text-align: right;\">0.386799</td><td style = \"text-align: right;\">0.0278047</td></tr><tr><td class = \"rowNumber\" style = \"font-weight: bold; text-align: right;\">8</td><td style = \"text-align: right;\">8</td><td style = \"text-align: right;\">0.746656</td><td style = \"text-align: right;\">2.56994</td><td style = \"text-align: right;\">0.557496</td></tr><tr><td class = \"rowNumber\" style = \"font-weight: bold; text-align: right;\">9</td><td style = \"text-align: right;\">9</td><td style = \"text-align: right;\">0.37072</td><td style = \"text-align: right;\">-0.64911</td><td style = \"text-align: right;\">0.137433</td></tr><tr><td class = \"rowNumber\" style = \"font-weight: bold; text-align: right;\">10</td><td style = \"text-align: right;\">10</td><td style = \"text-align: right;\">0.193667</td><td style = \"text-align: right;\">1.52097</td><td style = \"text-align: right;\">0.0375069</td></tr><tr><td class = \"rowNumber\" style = \"font-weight: bold; text-align: right;\">11</td><td style = \"text-align: right;\">11</td><td style = \"text-align: right;\">0.869397</td><td style = \"text-align: right;\">0.111308</td><td style = \"text-align: right;\">0.755851</td></tr><tr><td class = \"rowNumber\" style = \"font-weight: bold; text-align: right;\">12</td><td style = \"text-align: right;\">12</td><td style = \"text-align: right;\">0.972406</td><td style = \"text-align: right;\">0.420184</td><td style = \"text-align: right;\">0.945573</td></tr><tr><td class = \"rowNumber\" style = \"font-weight: bold; text-align: right;\">13</td><td style = \"text-align: right;\">13</td><td style = \"text-align: right;\">0.0985933</td><td style = \"text-align: right;\">-1.68366</td><td style = \"text-align: right;\">0.00972064</td></tr><tr><td style = \"text-align: right;\">&vellip;</td><td style = \"text-align: right;\">&vellip;</td><td style = \"text-align: right;\">&vellip;</td><td style = \"text-align: right;\">&vellip;</td><td style = \"text-align: right;\">&vellip;</td></tr><tr><td class = \"rowNumber\" style = \"font-weight: bold; text-align: right;\">89</td><td style = \"text-align: right;\">89</td><td style = \"text-align: right;\">0.215146</td><td style = \"text-align: right;\">-0.692336</td><td style = \"text-align: right;\">0.0462878</td></tr><tr><td class = \"rowNumber\" style = \"font-weight: bold; text-align: right;\">90</td><td style = \"text-align: right;\">90</td><td style = \"text-align: right;\">0.375501</td><td style = \"text-align: right;\">1.79626</td><td style = \"text-align: right;\">0.141001</td></tr><tr><td class = \"rowNumber\" style = \"font-weight: bold; text-align: right;\">91</td><td style = \"text-align: right;\">91</td><td style = \"text-align: right;\">0.601422</td><td style = \"text-align: right;\">0.583034</td><td style = \"text-align: right;\">0.361708</td></tr><tr><td class = \"rowNumber\" style = \"font-weight: bold; text-align: right;\">92</td><td style = \"text-align: right;\">92</td><td style = \"text-align: right;\">0.513466</td><td style = \"text-align: right;\">-1.72173</td><td style = \"text-align: right;\">0.263648</td></tr><tr><td class = \"rowNumber\" style = \"font-weight: bold; text-align: right;\">93</td><td style = \"text-align: right;\">93</td><td style = \"text-align: right;\">0.162463</td><td style = \"text-align: right;\">1.58919</td><td style = \"text-align: right;\">0.0263942</td></tr><tr><td class = \"rowNumber\" style = \"font-weight: bold; text-align: right;\">94</td><td style = \"text-align: right;\">94</td><td style = \"text-align: right;\">0.183476</td><td style = \"text-align: right;\">0.46691</td><td style = \"text-align: right;\">0.0336635</td></tr><tr><td class = \"rowNumber\" style = \"font-weight: bold; text-align: right;\">95</td><td style = \"text-align: right;\">95</td><td style = \"text-align: right;\">0.866707</td><td style = \"text-align: right;\">-2.20157</td><td style = \"text-align: right;\">0.751181</td></tr><tr><td class = \"rowNumber\" style = \"font-weight: bold; text-align: right;\">96</td><td style = \"text-align: right;\">96</td><td style = \"text-align: right;\">0.304393</td><td style = \"text-align: right;\">0.225218</td><td style = \"text-align: right;\">0.0926552</td></tr><tr><td class = \"rowNumber\" style = \"font-weight: bold; text-align: right;\">97</td><td style = \"text-align: right;\">97</td><td style = \"text-align: right;\">0.605617</td><td style = \"text-align: right;\">-1.44536</td><td style = \"text-align: right;\">0.366772</td></tr><tr><td class = \"rowNumber\" style = \"font-weight: bold; text-align: right;\">98</td><td style = \"text-align: right;\">98</td><td style = \"text-align: right;\">0.789248</td><td style = \"text-align: right;\">-0.383216</td><td style = \"text-align: right;\">0.622912</td></tr><tr><td class = \"rowNumber\" style = \"font-weight: bold; text-align: right;\">99</td><td style = \"text-align: right;\">99</td><td style = \"text-align: right;\">0.116929</td><td style = \"text-align: right;\">-0.69564</td><td style = \"text-align: right;\">0.0136724</td></tr><tr><td class = \"rowNumber\" style = \"font-weight: bold; text-align: right;\">100</td><td style = \"text-align: right;\">100</td><td style = \"text-align: right;\">0.330077</td><td style = \"text-align: right;\">0.768729</td><td style = \"text-align: right;\">0.108951</td></tr></tbody></table></div>"
      ]
     },
     "metadata": {},
     "execution_count": 14
    }
   ],
   "cell_type": "code",
   "source": [
    "transform(data, :x => (z -> z .^ 2))"
   ],
   "metadata": {},
   "execution_count": 14
  },
  {
   "outputs": [
    {
     "output_type": "execute_result",
     "data": {
      "text/plain": "Pair{Symbol, Main.var\"##331\".var\"#3#4\"}"
     },
     "metadata": {},
     "execution_count": 15
    }
   ],
   "cell_type": "code",
   "source": [
    "typeof(:x => (z -> z .^ 2))"
   ],
   "metadata": {},
   "execution_count": 15
  },
  {
   "cell_type": "markdown",
   "source": [
    "We can explicitly provide the output name:"
   ],
   "metadata": {}
  },
  {
   "outputs": [
    {
     "output_type": "execute_result",
     "data": {
      "text/plain": "\u001b[1m100×4 DataFrame\u001b[0m\n\u001b[1m Row \u001b[0m│\u001b[1m id    \u001b[0m\u001b[1m x         \u001b[0m\u001b[1m y          \u001b[0m\u001b[1m x2         \u001b[0m\n     │\u001b[90m Int64 \u001b[0m\u001b[90m Float64   \u001b[0m\u001b[90m Float64    \u001b[0m\u001b[90m Float64    \u001b[0m\n─────┼──────────────────────────────────────────\n   1 │     1  0.909167    1.10974    0.826584\n   2 │     2  0.347173   -1.50653    0.120529\n   3 │     3  0.825763    0.51689    0.681885\n   4 │     4  0.0488136   0.503437   0.00238276\n   5 │     5  0.317129    1.73841    0.100571\n   6 │     6  0.201625   -0.0320905  0.0406525\n   7 │     7  0.166747    0.386799   0.0278047\n   8 │     8  0.746656    2.56994    0.557496\n  ⋮  │   ⋮        ⋮          ⋮           ⋮\n  94 │    94  0.183476    0.46691    0.0336635\n  95 │    95  0.866707   -2.20157    0.751181\n  96 │    96  0.304393    0.225218   0.0926552\n  97 │    97  0.605617   -1.44536    0.366772\n  98 │    98  0.789248   -0.383216   0.622912\n  99 │    99  0.116929   -0.69564    0.0136724\n 100 │   100  0.330077    0.768729   0.108951\n\u001b[36m                                 85 rows omitted\u001b[0m",
      "text/html": [
       "<div><div style = \"float: left;\"><span>100×4 DataFrame</span></div><div style = \"float: right;\"><span style = \"font-style: italic;\">75 rows omitted</span></div><div style = \"clear: both;\"></div></div><div class = \"data-frame\" style = \"overflow-x: scroll;\"><table class = \"data-frame\" style = \"margin-bottom: 6px;\"><thead><tr class = \"header\"><th class = \"rowNumber\" style = \"font-weight: bold; text-align: right;\">Row</th><th style = \"text-align: left;\">id</th><th style = \"text-align: left;\">x</th><th style = \"text-align: left;\">y</th><th style = \"text-align: left;\">x2</th></tr><tr class = \"subheader headerLastRow\"><th class = \"rowNumber\" style = \"font-weight: bold; text-align: right;\"></th><th title = \"Int64\" style = \"text-align: left;\">Int64</th><th title = \"Float64\" style = \"text-align: left;\">Float64</th><th title = \"Float64\" style = \"text-align: left;\">Float64</th><th title = \"Float64\" style = \"text-align: left;\">Float64</th></tr></thead><tbody><tr><td class = \"rowNumber\" style = \"font-weight: bold; text-align: right;\">1</td><td style = \"text-align: right;\">1</td><td style = \"text-align: right;\">0.909167</td><td style = \"text-align: right;\">1.10974</td><td style = \"text-align: right;\">0.826584</td></tr><tr><td class = \"rowNumber\" style = \"font-weight: bold; text-align: right;\">2</td><td style = \"text-align: right;\">2</td><td style = \"text-align: right;\">0.347173</td><td style = \"text-align: right;\">-1.50653</td><td style = \"text-align: right;\">0.120529</td></tr><tr><td class = \"rowNumber\" style = \"font-weight: bold; text-align: right;\">3</td><td style = \"text-align: right;\">3</td><td style = \"text-align: right;\">0.825763</td><td style = \"text-align: right;\">0.51689</td><td style = \"text-align: right;\">0.681885</td></tr><tr><td class = \"rowNumber\" style = \"font-weight: bold; text-align: right;\">4</td><td style = \"text-align: right;\">4</td><td style = \"text-align: right;\">0.0488136</td><td style = \"text-align: right;\">0.503437</td><td style = \"text-align: right;\">0.00238276</td></tr><tr><td class = \"rowNumber\" style = \"font-weight: bold; text-align: right;\">5</td><td style = \"text-align: right;\">5</td><td style = \"text-align: right;\">0.317129</td><td style = \"text-align: right;\">1.73841</td><td style = \"text-align: right;\">0.100571</td></tr><tr><td class = \"rowNumber\" style = \"font-weight: bold; text-align: right;\">6</td><td style = \"text-align: right;\">6</td><td style = \"text-align: right;\">0.201625</td><td style = \"text-align: right;\">-0.0320905</td><td style = \"text-align: right;\">0.0406525</td></tr><tr><td class = \"rowNumber\" style = \"font-weight: bold; text-align: right;\">7</td><td style = \"text-align: right;\">7</td><td style = \"text-align: right;\">0.166747</td><td style = \"text-align: right;\">0.386799</td><td style = \"text-align: right;\">0.0278047</td></tr><tr><td class = \"rowNumber\" style = \"font-weight: bold; text-align: right;\">8</td><td style = \"text-align: right;\">8</td><td style = \"text-align: right;\">0.746656</td><td style = \"text-align: right;\">2.56994</td><td style = \"text-align: right;\">0.557496</td></tr><tr><td class = \"rowNumber\" style = \"font-weight: bold; text-align: right;\">9</td><td style = \"text-align: right;\">9</td><td style = \"text-align: right;\">0.37072</td><td style = \"text-align: right;\">-0.64911</td><td style = \"text-align: right;\">0.137433</td></tr><tr><td class = \"rowNumber\" style = \"font-weight: bold; text-align: right;\">10</td><td style = \"text-align: right;\">10</td><td style = \"text-align: right;\">0.193667</td><td style = \"text-align: right;\">1.52097</td><td style = \"text-align: right;\">0.0375069</td></tr><tr><td class = \"rowNumber\" style = \"font-weight: bold; text-align: right;\">11</td><td style = \"text-align: right;\">11</td><td style = \"text-align: right;\">0.869397</td><td style = \"text-align: right;\">0.111308</td><td style = \"text-align: right;\">0.755851</td></tr><tr><td class = \"rowNumber\" style = \"font-weight: bold; text-align: right;\">12</td><td style = \"text-align: right;\">12</td><td style = \"text-align: right;\">0.972406</td><td style = \"text-align: right;\">0.420184</td><td style = \"text-align: right;\">0.945573</td></tr><tr><td class = \"rowNumber\" style = \"font-weight: bold; text-align: right;\">13</td><td style = \"text-align: right;\">13</td><td style = \"text-align: right;\">0.0985933</td><td style = \"text-align: right;\">-1.68366</td><td style = \"text-align: right;\">0.00972064</td></tr><tr><td style = \"text-align: right;\">&vellip;</td><td style = \"text-align: right;\">&vellip;</td><td style = \"text-align: right;\">&vellip;</td><td style = \"text-align: right;\">&vellip;</td><td style = \"text-align: right;\">&vellip;</td></tr><tr><td class = \"rowNumber\" style = \"font-weight: bold; text-align: right;\">89</td><td style = \"text-align: right;\">89</td><td style = \"text-align: right;\">0.215146</td><td style = \"text-align: right;\">-0.692336</td><td style = \"text-align: right;\">0.0462878</td></tr><tr><td class = \"rowNumber\" style = \"font-weight: bold; text-align: right;\">90</td><td style = \"text-align: right;\">90</td><td style = \"text-align: right;\">0.375501</td><td style = \"text-align: right;\">1.79626</td><td style = \"text-align: right;\">0.141001</td></tr><tr><td class = \"rowNumber\" style = \"font-weight: bold; text-align: right;\">91</td><td style = \"text-align: right;\">91</td><td style = \"text-align: right;\">0.601422</td><td style = \"text-align: right;\">0.583034</td><td style = \"text-align: right;\">0.361708</td></tr><tr><td class = \"rowNumber\" style = \"font-weight: bold; text-align: right;\">92</td><td style = \"text-align: right;\">92</td><td style = \"text-align: right;\">0.513466</td><td style = \"text-align: right;\">-1.72173</td><td style = \"text-align: right;\">0.263648</td></tr><tr><td class = \"rowNumber\" style = \"font-weight: bold; text-align: right;\">93</td><td style = \"text-align: right;\">93</td><td style = \"text-align: right;\">0.162463</td><td style = \"text-align: right;\">1.58919</td><td style = \"text-align: right;\">0.0263942</td></tr><tr><td class = \"rowNumber\" style = \"font-weight: bold; text-align: right;\">94</td><td style = \"text-align: right;\">94</td><td style = \"text-align: right;\">0.183476</td><td style = \"text-align: right;\">0.46691</td><td style = \"text-align: right;\">0.0336635</td></tr><tr><td class = \"rowNumber\" style = \"font-weight: bold; text-align: right;\">95</td><td style = \"text-align: right;\">95</td><td style = \"text-align: right;\">0.866707</td><td style = \"text-align: right;\">-2.20157</td><td style = \"text-align: right;\">0.751181</td></tr><tr><td class = \"rowNumber\" style = \"font-weight: bold; text-align: right;\">96</td><td style = \"text-align: right;\">96</td><td style = \"text-align: right;\">0.304393</td><td style = \"text-align: right;\">0.225218</td><td style = \"text-align: right;\">0.0926552</td></tr><tr><td class = \"rowNumber\" style = \"font-weight: bold; text-align: right;\">97</td><td style = \"text-align: right;\">97</td><td style = \"text-align: right;\">0.605617</td><td style = \"text-align: right;\">-1.44536</td><td style = \"text-align: right;\">0.366772</td></tr><tr><td class = \"rowNumber\" style = \"font-weight: bold; text-align: right;\">98</td><td style = \"text-align: right;\">98</td><td style = \"text-align: right;\">0.789248</td><td style = \"text-align: right;\">-0.383216</td><td style = \"text-align: right;\">0.622912</td></tr><tr><td class = \"rowNumber\" style = \"font-weight: bold; text-align: right;\">99</td><td style = \"text-align: right;\">99</td><td style = \"text-align: right;\">0.116929</td><td style = \"text-align: right;\">-0.69564</td><td style = \"text-align: right;\">0.0136724</td></tr><tr><td class = \"rowNumber\" style = \"font-weight: bold; text-align: right;\">100</td><td style = \"text-align: right;\">100</td><td style = \"text-align: right;\">0.330077</td><td style = \"text-align: right;\">0.768729</td><td style = \"text-align: right;\">0.108951</td></tr></tbody></table></div>"
      ]
     },
     "metadata": {},
     "execution_count": 16
    }
   ],
   "cell_type": "code",
   "source": [
    "transform(data, :x => (z -> z .^ 2) => :x2)"
   ],
   "metadata": {},
   "execution_count": 16
  },
  {
   "cell_type": "markdown",
   "source": [
    "We can also vectorize any function with `ByRow`:"
   ],
   "metadata": {}
  },
  {
   "outputs": [
    {
     "output_type": "execute_result",
     "data": {
      "text/plain": "\u001b[1m100×4 DataFrame\u001b[0m\n\u001b[1m Row \u001b[0m│\u001b[1m id    \u001b[0m\u001b[1m x         \u001b[0m\u001b[1m y          \u001b[0m\u001b[1m x_sqrt   \u001b[0m\n     │\u001b[90m Int64 \u001b[0m\u001b[90m Float64   \u001b[0m\u001b[90m Float64    \u001b[0m\u001b[90m Float64  \u001b[0m\n─────┼────────────────────────────────────────\n   1 │     1  0.909167    1.10974    0.953502\n   2 │     2  0.347173   -1.50653    0.589214\n   3 │     3  0.825763    0.51689    0.908715\n   4 │     4  0.0488136   0.503437   0.220938\n   5 │     5  0.317129    1.73841    0.563142\n   6 │     6  0.201625   -0.0320905  0.449026\n   7 │     7  0.166747    0.386799   0.408347\n   8 │     8  0.746656    2.56994    0.864093\n  ⋮  │   ⋮        ⋮          ⋮          ⋮\n  94 │    94  0.183476    0.46691    0.428341\n  95 │    95  0.866707   -2.20157    0.930971\n  96 │    96  0.304393    0.225218   0.551718\n  97 │    97  0.605617   -1.44536    0.778214\n  98 │    98  0.789248   -0.383216   0.888396\n  99 │    99  0.116929   -0.69564    0.341949\n 100 │   100  0.330077    0.768729   0.574523\n\u001b[36m                               85 rows omitted\u001b[0m",
      "text/html": [
       "<div><div style = \"float: left;\"><span>100×4 DataFrame</span></div><div style = \"float: right;\"><span style = \"font-style: italic;\">75 rows omitted</span></div><div style = \"clear: both;\"></div></div><div class = \"data-frame\" style = \"overflow-x: scroll;\"><table class = \"data-frame\" style = \"margin-bottom: 6px;\"><thead><tr class = \"header\"><th class = \"rowNumber\" style = \"font-weight: bold; text-align: right;\">Row</th><th style = \"text-align: left;\">id</th><th style = \"text-align: left;\">x</th><th style = \"text-align: left;\">y</th><th style = \"text-align: left;\">x_sqrt</th></tr><tr class = \"subheader headerLastRow\"><th class = \"rowNumber\" style = \"font-weight: bold; text-align: right;\"></th><th title = \"Int64\" style = \"text-align: left;\">Int64</th><th title = \"Float64\" style = \"text-align: left;\">Float64</th><th title = \"Float64\" style = \"text-align: left;\">Float64</th><th title = \"Float64\" style = \"text-align: left;\">Float64</th></tr></thead><tbody><tr><td class = \"rowNumber\" style = \"font-weight: bold; text-align: right;\">1</td><td style = \"text-align: right;\">1</td><td style = \"text-align: right;\">0.909167</td><td style = \"text-align: right;\">1.10974</td><td style = \"text-align: right;\">0.953502</td></tr><tr><td class = \"rowNumber\" style = \"font-weight: bold; text-align: right;\">2</td><td style = \"text-align: right;\">2</td><td style = \"text-align: right;\">0.347173</td><td style = \"text-align: right;\">-1.50653</td><td style = \"text-align: right;\">0.589214</td></tr><tr><td class = \"rowNumber\" style = \"font-weight: bold; text-align: right;\">3</td><td style = \"text-align: right;\">3</td><td style = \"text-align: right;\">0.825763</td><td style = \"text-align: right;\">0.51689</td><td style = \"text-align: right;\">0.908715</td></tr><tr><td class = \"rowNumber\" style = \"font-weight: bold; text-align: right;\">4</td><td style = \"text-align: right;\">4</td><td style = \"text-align: right;\">0.0488136</td><td style = \"text-align: right;\">0.503437</td><td style = \"text-align: right;\">0.220938</td></tr><tr><td class = \"rowNumber\" style = \"font-weight: bold; text-align: right;\">5</td><td style = \"text-align: right;\">5</td><td style = \"text-align: right;\">0.317129</td><td style = \"text-align: right;\">1.73841</td><td style = \"text-align: right;\">0.563142</td></tr><tr><td class = \"rowNumber\" style = \"font-weight: bold; text-align: right;\">6</td><td style = \"text-align: right;\">6</td><td style = \"text-align: right;\">0.201625</td><td style = \"text-align: right;\">-0.0320905</td><td style = \"text-align: right;\">0.449026</td></tr><tr><td class = \"rowNumber\" style = \"font-weight: bold; text-align: right;\">7</td><td style = \"text-align: right;\">7</td><td style = \"text-align: right;\">0.166747</td><td style = \"text-align: right;\">0.386799</td><td style = \"text-align: right;\">0.408347</td></tr><tr><td class = \"rowNumber\" style = \"font-weight: bold; text-align: right;\">8</td><td style = \"text-align: right;\">8</td><td style = \"text-align: right;\">0.746656</td><td style = \"text-align: right;\">2.56994</td><td style = \"text-align: right;\">0.864093</td></tr><tr><td class = \"rowNumber\" style = \"font-weight: bold; text-align: right;\">9</td><td style = \"text-align: right;\">9</td><td style = \"text-align: right;\">0.37072</td><td style = \"text-align: right;\">-0.64911</td><td style = \"text-align: right;\">0.608867</td></tr><tr><td class = \"rowNumber\" style = \"font-weight: bold; text-align: right;\">10</td><td style = \"text-align: right;\">10</td><td style = \"text-align: right;\">0.193667</td><td style = \"text-align: right;\">1.52097</td><td style = \"text-align: right;\">0.440076</td></tr><tr><td class = \"rowNumber\" style = \"font-weight: bold; text-align: right;\">11</td><td style = \"text-align: right;\">11</td><td style = \"text-align: right;\">0.869397</td><td style = \"text-align: right;\">0.111308</td><td style = \"text-align: right;\">0.932415</td></tr><tr><td class = \"rowNumber\" style = \"font-weight: bold; text-align: right;\">12</td><td style = \"text-align: right;\">12</td><td style = \"text-align: right;\">0.972406</td><td style = \"text-align: right;\">0.420184</td><td style = \"text-align: right;\">0.986106</td></tr><tr><td class = \"rowNumber\" style = \"font-weight: bold; text-align: right;\">13</td><td style = \"text-align: right;\">13</td><td style = \"text-align: right;\">0.0985933</td><td style = \"text-align: right;\">-1.68366</td><td style = \"text-align: right;\">0.313996</td></tr><tr><td style = \"text-align: right;\">&vellip;</td><td style = \"text-align: right;\">&vellip;</td><td style = \"text-align: right;\">&vellip;</td><td style = \"text-align: right;\">&vellip;</td><td style = \"text-align: right;\">&vellip;</td></tr><tr><td class = \"rowNumber\" style = \"font-weight: bold; text-align: right;\">89</td><td style = \"text-align: right;\">89</td><td style = \"text-align: right;\">0.215146</td><td style = \"text-align: right;\">-0.692336</td><td style = \"text-align: right;\">0.463838</td></tr><tr><td class = \"rowNumber\" style = \"font-weight: bold; text-align: right;\">90</td><td style = \"text-align: right;\">90</td><td style = \"text-align: right;\">0.375501</td><td style = \"text-align: right;\">1.79626</td><td style = \"text-align: right;\">0.612781</td></tr><tr><td class = \"rowNumber\" style = \"font-weight: bold; text-align: right;\">91</td><td style = \"text-align: right;\">91</td><td style = \"text-align: right;\">0.601422</td><td style = \"text-align: right;\">0.583034</td><td style = \"text-align: right;\">0.775514</td></tr><tr><td class = \"rowNumber\" style = \"font-weight: bold; text-align: right;\">92</td><td style = \"text-align: right;\">92</td><td style = \"text-align: right;\">0.513466</td><td style = \"text-align: right;\">-1.72173</td><td style = \"text-align: right;\">0.716566</td></tr><tr><td class = \"rowNumber\" style = \"font-weight: bold; text-align: right;\">93</td><td style = \"text-align: right;\">93</td><td style = \"text-align: right;\">0.162463</td><td style = \"text-align: right;\">1.58919</td><td style = \"text-align: right;\">0.403067</td></tr><tr><td class = \"rowNumber\" style = \"font-weight: bold; text-align: right;\">94</td><td style = \"text-align: right;\">94</td><td style = \"text-align: right;\">0.183476</td><td style = \"text-align: right;\">0.46691</td><td style = \"text-align: right;\">0.428341</td></tr><tr><td class = \"rowNumber\" style = \"font-weight: bold; text-align: right;\">95</td><td style = \"text-align: right;\">95</td><td style = \"text-align: right;\">0.866707</td><td style = \"text-align: right;\">-2.20157</td><td style = \"text-align: right;\">0.930971</td></tr><tr><td class = \"rowNumber\" style = \"font-weight: bold; text-align: right;\">96</td><td style = \"text-align: right;\">96</td><td style = \"text-align: right;\">0.304393</td><td style = \"text-align: right;\">0.225218</td><td style = \"text-align: right;\">0.551718</td></tr><tr><td class = \"rowNumber\" style = \"font-weight: bold; text-align: right;\">97</td><td style = \"text-align: right;\">97</td><td style = \"text-align: right;\">0.605617</td><td style = \"text-align: right;\">-1.44536</td><td style = \"text-align: right;\">0.778214</td></tr><tr><td class = \"rowNumber\" style = \"font-weight: bold; text-align: right;\">98</td><td style = \"text-align: right;\">98</td><td style = \"text-align: right;\">0.789248</td><td style = \"text-align: right;\">-0.383216</td><td style = \"text-align: right;\">0.888396</td></tr><tr><td class = \"rowNumber\" style = \"font-weight: bold; text-align: right;\">99</td><td style = \"text-align: right;\">99</td><td style = \"text-align: right;\">0.116929</td><td style = \"text-align: right;\">-0.69564</td><td style = \"text-align: right;\">0.341949</td></tr><tr><td class = \"rowNumber\" style = \"font-weight: bold; text-align: right;\">100</td><td style = \"text-align: right;\">100</td><td style = \"text-align: right;\">0.330077</td><td style = \"text-align: right;\">0.768729</td><td style = \"text-align: right;\">0.574523</td></tr></tbody></table></div>"
      ]
     },
     "metadata": {},
     "execution_count": 17
    }
   ],
   "cell_type": "code",
   "source": [
    "transform(data, :x => ByRow(sqrt))"
   ],
   "metadata": {},
   "execution_count": 17
  },
  {
   "cell_type": "markdown",
   "source": [
    "Notice that the previous operations did not modify the original dataset. You can modify\n",
    "your original dataset using the in-place function `transform!`:"
   ],
   "metadata": {}
  },
  {
   "outputs": [
    {
     "output_type": "execute_result",
     "data": {
      "text/plain": "\u001b[1m100×4 DataFrame\u001b[0m\n\u001b[1m Row \u001b[0m│\u001b[1m id    \u001b[0m\u001b[1m x         \u001b[0m\u001b[1m y          \u001b[0m\u001b[1m x2         \u001b[0m\n     │\u001b[90m Int64 \u001b[0m\u001b[90m Float64   \u001b[0m\u001b[90m Float64    \u001b[0m\u001b[90m Float64    \u001b[0m\n─────┼──────────────────────────────────────────\n   1 │     1  0.909167    1.10974    0.826584\n   2 │     2  0.347173   -1.50653    0.120529\n   3 │     3  0.825763    0.51689    0.681885\n   4 │     4  0.0488136   0.503437   0.00238276\n   5 │     5  0.317129    1.73841    0.100571\n   6 │     6  0.201625   -0.0320905  0.0406525\n   7 │     7  0.166747    0.386799   0.0278047\n   8 │     8  0.746656    2.56994    0.557496\n  ⋮  │   ⋮        ⋮          ⋮           ⋮\n  94 │    94  0.183476    0.46691    0.0336635\n  95 │    95  0.866707   -2.20157    0.751181\n  96 │    96  0.304393    0.225218   0.0926552\n  97 │    97  0.605617   -1.44536    0.366772\n  98 │    98  0.789248   -0.383216   0.622912\n  99 │    99  0.116929   -0.69564    0.0136724\n 100 │   100  0.330077    0.768729   0.108951\n\u001b[36m                                 85 rows omitted\u001b[0m",
      "text/html": [
       "<div><div style = \"float: left;\"><span>100×4 DataFrame</span></div><div style = \"float: right;\"><span style = \"font-style: italic;\">75 rows omitted</span></div><div style = \"clear: both;\"></div></div><div class = \"data-frame\" style = \"overflow-x: scroll;\"><table class = \"data-frame\" style = \"margin-bottom: 6px;\"><thead><tr class = \"header\"><th class = \"rowNumber\" style = \"font-weight: bold; text-align: right;\">Row</th><th style = \"text-align: left;\">id</th><th style = \"text-align: left;\">x</th><th style = \"text-align: left;\">y</th><th style = \"text-align: left;\">x2</th></tr><tr class = \"subheader headerLastRow\"><th class = \"rowNumber\" style = \"font-weight: bold; text-align: right;\"></th><th title = \"Int64\" style = \"text-align: left;\">Int64</th><th title = \"Float64\" style = \"text-align: left;\">Float64</th><th title = \"Float64\" style = \"text-align: left;\">Float64</th><th title = \"Float64\" style = \"text-align: left;\">Float64</th></tr></thead><tbody><tr><td class = \"rowNumber\" style = \"font-weight: bold; text-align: right;\">1</td><td style = \"text-align: right;\">1</td><td style = \"text-align: right;\">0.909167</td><td style = \"text-align: right;\">1.10974</td><td style = \"text-align: right;\">0.826584</td></tr><tr><td class = \"rowNumber\" style = \"font-weight: bold; text-align: right;\">2</td><td style = \"text-align: right;\">2</td><td style = \"text-align: right;\">0.347173</td><td style = \"text-align: right;\">-1.50653</td><td style = \"text-align: right;\">0.120529</td></tr><tr><td class = \"rowNumber\" style = \"font-weight: bold; text-align: right;\">3</td><td style = \"text-align: right;\">3</td><td style = \"text-align: right;\">0.825763</td><td style = \"text-align: right;\">0.51689</td><td style = \"text-align: right;\">0.681885</td></tr><tr><td class = \"rowNumber\" style = \"font-weight: bold; text-align: right;\">4</td><td style = \"text-align: right;\">4</td><td style = \"text-align: right;\">0.0488136</td><td style = \"text-align: right;\">0.503437</td><td style = \"text-align: right;\">0.00238276</td></tr><tr><td class = \"rowNumber\" style = \"font-weight: bold; text-align: right;\">5</td><td style = \"text-align: right;\">5</td><td style = \"text-align: right;\">0.317129</td><td style = \"text-align: right;\">1.73841</td><td style = \"text-align: right;\">0.100571</td></tr><tr><td class = \"rowNumber\" style = \"font-weight: bold; text-align: right;\">6</td><td style = \"text-align: right;\">6</td><td style = \"text-align: right;\">0.201625</td><td style = \"text-align: right;\">-0.0320905</td><td style = \"text-align: right;\">0.0406525</td></tr><tr><td class = \"rowNumber\" style = \"font-weight: bold; text-align: right;\">7</td><td style = \"text-align: right;\">7</td><td style = \"text-align: right;\">0.166747</td><td style = \"text-align: right;\">0.386799</td><td style = \"text-align: right;\">0.0278047</td></tr><tr><td class = \"rowNumber\" style = \"font-weight: bold; text-align: right;\">8</td><td style = \"text-align: right;\">8</td><td style = \"text-align: right;\">0.746656</td><td style = \"text-align: right;\">2.56994</td><td style = \"text-align: right;\">0.557496</td></tr><tr><td class = \"rowNumber\" style = \"font-weight: bold; text-align: right;\">9</td><td style = \"text-align: right;\">9</td><td style = \"text-align: right;\">0.37072</td><td style = \"text-align: right;\">-0.64911</td><td style = \"text-align: right;\">0.137433</td></tr><tr><td class = \"rowNumber\" style = \"font-weight: bold; text-align: right;\">10</td><td style = \"text-align: right;\">10</td><td style = \"text-align: right;\">0.193667</td><td style = \"text-align: right;\">1.52097</td><td style = \"text-align: right;\">0.0375069</td></tr><tr><td class = \"rowNumber\" style = \"font-weight: bold; text-align: right;\">11</td><td style = \"text-align: right;\">11</td><td style = \"text-align: right;\">0.869397</td><td style = \"text-align: right;\">0.111308</td><td style = \"text-align: right;\">0.755851</td></tr><tr><td class = \"rowNumber\" style = \"font-weight: bold; text-align: right;\">12</td><td style = \"text-align: right;\">12</td><td style = \"text-align: right;\">0.972406</td><td style = \"text-align: right;\">0.420184</td><td style = \"text-align: right;\">0.945573</td></tr><tr><td class = \"rowNumber\" style = \"font-weight: bold; text-align: right;\">13</td><td style = \"text-align: right;\">13</td><td style = \"text-align: right;\">0.0985933</td><td style = \"text-align: right;\">-1.68366</td><td style = \"text-align: right;\">0.00972064</td></tr><tr><td style = \"text-align: right;\">&vellip;</td><td style = \"text-align: right;\">&vellip;</td><td style = \"text-align: right;\">&vellip;</td><td style = \"text-align: right;\">&vellip;</td><td style = \"text-align: right;\">&vellip;</td></tr><tr><td class = \"rowNumber\" style = \"font-weight: bold; text-align: right;\">89</td><td style = \"text-align: right;\">89</td><td style = \"text-align: right;\">0.215146</td><td style = \"text-align: right;\">-0.692336</td><td style = \"text-align: right;\">0.0462878</td></tr><tr><td class = \"rowNumber\" style = \"font-weight: bold; text-align: right;\">90</td><td style = \"text-align: right;\">90</td><td style = \"text-align: right;\">0.375501</td><td style = \"text-align: right;\">1.79626</td><td style = \"text-align: right;\">0.141001</td></tr><tr><td class = \"rowNumber\" style = \"font-weight: bold; text-align: right;\">91</td><td style = \"text-align: right;\">91</td><td style = \"text-align: right;\">0.601422</td><td style = \"text-align: right;\">0.583034</td><td style = \"text-align: right;\">0.361708</td></tr><tr><td class = \"rowNumber\" style = \"font-weight: bold; text-align: right;\">92</td><td style = \"text-align: right;\">92</td><td style = \"text-align: right;\">0.513466</td><td style = \"text-align: right;\">-1.72173</td><td style = \"text-align: right;\">0.263648</td></tr><tr><td class = \"rowNumber\" style = \"font-weight: bold; text-align: right;\">93</td><td style = \"text-align: right;\">93</td><td style = \"text-align: right;\">0.162463</td><td style = \"text-align: right;\">1.58919</td><td style = \"text-align: right;\">0.0263942</td></tr><tr><td class = \"rowNumber\" style = \"font-weight: bold; text-align: right;\">94</td><td style = \"text-align: right;\">94</td><td style = \"text-align: right;\">0.183476</td><td style = \"text-align: right;\">0.46691</td><td style = \"text-align: right;\">0.0336635</td></tr><tr><td class = \"rowNumber\" style = \"font-weight: bold; text-align: right;\">95</td><td style = \"text-align: right;\">95</td><td style = \"text-align: right;\">0.866707</td><td style = \"text-align: right;\">-2.20157</td><td style = \"text-align: right;\">0.751181</td></tr><tr><td class = \"rowNumber\" style = \"font-weight: bold; text-align: right;\">96</td><td style = \"text-align: right;\">96</td><td style = \"text-align: right;\">0.304393</td><td style = \"text-align: right;\">0.225218</td><td style = \"text-align: right;\">0.0926552</td></tr><tr><td class = \"rowNumber\" style = \"font-weight: bold; text-align: right;\">97</td><td style = \"text-align: right;\">97</td><td style = \"text-align: right;\">0.605617</td><td style = \"text-align: right;\">-1.44536</td><td style = \"text-align: right;\">0.366772</td></tr><tr><td class = \"rowNumber\" style = \"font-weight: bold; text-align: right;\">98</td><td style = \"text-align: right;\">98</td><td style = \"text-align: right;\">0.789248</td><td style = \"text-align: right;\">-0.383216</td><td style = \"text-align: right;\">0.622912</td></tr><tr><td class = \"rowNumber\" style = \"font-weight: bold; text-align: right;\">99</td><td style = \"text-align: right;\">99</td><td style = \"text-align: right;\">0.116929</td><td style = \"text-align: right;\">-0.69564</td><td style = \"text-align: right;\">0.0136724</td></tr><tr><td class = \"rowNumber\" style = \"font-weight: bold; text-align: right;\">100</td><td style = \"text-align: right;\">100</td><td style = \"text-align: right;\">0.330077</td><td style = \"text-align: right;\">0.768729</td><td style = \"text-align: right;\">0.108951</td></tr></tbody></table></div>"
      ]
     },
     "metadata": {},
     "execution_count": 18
    }
   ],
   "cell_type": "code",
   "source": [
    "transform!(data, :x => (z -> z .^ 2) => :x2)"
   ],
   "metadata": {},
   "execution_count": 18
  },
  {
   "outputs": [
    {
     "output_type": "execute_result",
     "data": {
      "text/plain": "\u001b[1m100×4 DataFrame\u001b[0m\n\u001b[1m Row \u001b[0m│\u001b[1m id    \u001b[0m\u001b[1m x         \u001b[0m\u001b[1m y          \u001b[0m\u001b[1m x2         \u001b[0m\n     │\u001b[90m Int64 \u001b[0m\u001b[90m Float64   \u001b[0m\u001b[90m Float64    \u001b[0m\u001b[90m Float64    \u001b[0m\n─────┼──────────────────────────────────────────\n   1 │     1  0.909167    1.10974    0.826584\n   2 │     2  0.347173   -1.50653    0.120529\n   3 │     3  0.825763    0.51689    0.681885\n   4 │     4  0.0488136   0.503437   0.00238276\n   5 │     5  0.317129    1.73841    0.100571\n   6 │     6  0.201625   -0.0320905  0.0406525\n   7 │     7  0.166747    0.386799   0.0278047\n   8 │     8  0.746656    2.56994    0.557496\n  ⋮  │   ⋮        ⋮          ⋮           ⋮\n  94 │    94  0.183476    0.46691    0.0336635\n  95 │    95  0.866707   -2.20157    0.751181\n  96 │    96  0.304393    0.225218   0.0926552\n  97 │    97  0.605617   -1.44536    0.366772\n  98 │    98  0.789248   -0.383216   0.622912\n  99 │    99  0.116929   -0.69564    0.0136724\n 100 │   100  0.330077    0.768729   0.108951\n\u001b[36m                                 85 rows omitted\u001b[0m",
      "text/html": [
       "<div><div style = \"float: left;\"><span>100×4 DataFrame</span></div><div style = \"float: right;\"><span style = \"font-style: italic;\">75 rows omitted</span></div><div style = \"clear: both;\"></div></div><div class = \"data-frame\" style = \"overflow-x: scroll;\"><table class = \"data-frame\" style = \"margin-bottom: 6px;\"><thead><tr class = \"header\"><th class = \"rowNumber\" style = \"font-weight: bold; text-align: right;\">Row</th><th style = \"text-align: left;\">id</th><th style = \"text-align: left;\">x</th><th style = \"text-align: left;\">y</th><th style = \"text-align: left;\">x2</th></tr><tr class = \"subheader headerLastRow\"><th class = \"rowNumber\" style = \"font-weight: bold; text-align: right;\"></th><th title = \"Int64\" style = \"text-align: left;\">Int64</th><th title = \"Float64\" style = \"text-align: left;\">Float64</th><th title = \"Float64\" style = \"text-align: left;\">Float64</th><th title = \"Float64\" style = \"text-align: left;\">Float64</th></tr></thead><tbody><tr><td class = \"rowNumber\" style = \"font-weight: bold; text-align: right;\">1</td><td style = \"text-align: right;\">1</td><td style = \"text-align: right;\">0.909167</td><td style = \"text-align: right;\">1.10974</td><td style = \"text-align: right;\">0.826584</td></tr><tr><td class = \"rowNumber\" style = \"font-weight: bold; text-align: right;\">2</td><td style = \"text-align: right;\">2</td><td style = \"text-align: right;\">0.347173</td><td style = \"text-align: right;\">-1.50653</td><td style = \"text-align: right;\">0.120529</td></tr><tr><td class = \"rowNumber\" style = \"font-weight: bold; text-align: right;\">3</td><td style = \"text-align: right;\">3</td><td style = \"text-align: right;\">0.825763</td><td style = \"text-align: right;\">0.51689</td><td style = \"text-align: right;\">0.681885</td></tr><tr><td class = \"rowNumber\" style = \"font-weight: bold; text-align: right;\">4</td><td style = \"text-align: right;\">4</td><td style = \"text-align: right;\">0.0488136</td><td style = \"text-align: right;\">0.503437</td><td style = \"text-align: right;\">0.00238276</td></tr><tr><td class = \"rowNumber\" style = \"font-weight: bold; text-align: right;\">5</td><td style = \"text-align: right;\">5</td><td style = \"text-align: right;\">0.317129</td><td style = \"text-align: right;\">1.73841</td><td style = \"text-align: right;\">0.100571</td></tr><tr><td class = \"rowNumber\" style = \"font-weight: bold; text-align: right;\">6</td><td style = \"text-align: right;\">6</td><td style = \"text-align: right;\">0.201625</td><td style = \"text-align: right;\">-0.0320905</td><td style = \"text-align: right;\">0.0406525</td></tr><tr><td class = \"rowNumber\" style = \"font-weight: bold; text-align: right;\">7</td><td style = \"text-align: right;\">7</td><td style = \"text-align: right;\">0.166747</td><td style = \"text-align: right;\">0.386799</td><td style = \"text-align: right;\">0.0278047</td></tr><tr><td class = \"rowNumber\" style = \"font-weight: bold; text-align: right;\">8</td><td style = \"text-align: right;\">8</td><td style = \"text-align: right;\">0.746656</td><td style = \"text-align: right;\">2.56994</td><td style = \"text-align: right;\">0.557496</td></tr><tr><td class = \"rowNumber\" style = \"font-weight: bold; text-align: right;\">9</td><td style = \"text-align: right;\">9</td><td style = \"text-align: right;\">0.37072</td><td style = \"text-align: right;\">-0.64911</td><td style = \"text-align: right;\">0.137433</td></tr><tr><td class = \"rowNumber\" style = \"font-weight: bold; text-align: right;\">10</td><td style = \"text-align: right;\">10</td><td style = \"text-align: right;\">0.193667</td><td style = \"text-align: right;\">1.52097</td><td style = \"text-align: right;\">0.0375069</td></tr><tr><td class = \"rowNumber\" style = \"font-weight: bold; text-align: right;\">11</td><td style = \"text-align: right;\">11</td><td style = \"text-align: right;\">0.869397</td><td style = \"text-align: right;\">0.111308</td><td style = \"text-align: right;\">0.755851</td></tr><tr><td class = \"rowNumber\" style = \"font-weight: bold; text-align: right;\">12</td><td style = \"text-align: right;\">12</td><td style = \"text-align: right;\">0.972406</td><td style = \"text-align: right;\">0.420184</td><td style = \"text-align: right;\">0.945573</td></tr><tr><td class = \"rowNumber\" style = \"font-weight: bold; text-align: right;\">13</td><td style = \"text-align: right;\">13</td><td style = \"text-align: right;\">0.0985933</td><td style = \"text-align: right;\">-1.68366</td><td style = \"text-align: right;\">0.00972064</td></tr><tr><td style = \"text-align: right;\">&vellip;</td><td style = \"text-align: right;\">&vellip;</td><td style = \"text-align: right;\">&vellip;</td><td style = \"text-align: right;\">&vellip;</td><td style = \"text-align: right;\">&vellip;</td></tr><tr><td class = \"rowNumber\" style = \"font-weight: bold; text-align: right;\">89</td><td style = \"text-align: right;\">89</td><td style = \"text-align: right;\">0.215146</td><td style = \"text-align: right;\">-0.692336</td><td style = \"text-align: right;\">0.0462878</td></tr><tr><td class = \"rowNumber\" style = \"font-weight: bold; text-align: right;\">90</td><td style = \"text-align: right;\">90</td><td style = \"text-align: right;\">0.375501</td><td style = \"text-align: right;\">1.79626</td><td style = \"text-align: right;\">0.141001</td></tr><tr><td class = \"rowNumber\" style = \"font-weight: bold; text-align: right;\">91</td><td style = \"text-align: right;\">91</td><td style = \"text-align: right;\">0.601422</td><td style = \"text-align: right;\">0.583034</td><td style = \"text-align: right;\">0.361708</td></tr><tr><td class = \"rowNumber\" style = \"font-weight: bold; text-align: right;\">92</td><td style = \"text-align: right;\">92</td><td style = \"text-align: right;\">0.513466</td><td style = \"text-align: right;\">-1.72173</td><td style = \"text-align: right;\">0.263648</td></tr><tr><td class = \"rowNumber\" style = \"font-weight: bold; text-align: right;\">93</td><td style = \"text-align: right;\">93</td><td style = \"text-align: right;\">0.162463</td><td style = \"text-align: right;\">1.58919</td><td style = \"text-align: right;\">0.0263942</td></tr><tr><td class = \"rowNumber\" style = \"font-weight: bold; text-align: right;\">94</td><td style = \"text-align: right;\">94</td><td style = \"text-align: right;\">0.183476</td><td style = \"text-align: right;\">0.46691</td><td style = \"text-align: right;\">0.0336635</td></tr><tr><td class = \"rowNumber\" style = \"font-weight: bold; text-align: right;\">95</td><td style = \"text-align: right;\">95</td><td style = \"text-align: right;\">0.866707</td><td style = \"text-align: right;\">-2.20157</td><td style = \"text-align: right;\">0.751181</td></tr><tr><td class = \"rowNumber\" style = \"font-weight: bold; text-align: right;\">96</td><td style = \"text-align: right;\">96</td><td style = \"text-align: right;\">0.304393</td><td style = \"text-align: right;\">0.225218</td><td style = \"text-align: right;\">0.0926552</td></tr><tr><td class = \"rowNumber\" style = \"font-weight: bold; text-align: right;\">97</td><td style = \"text-align: right;\">97</td><td style = \"text-align: right;\">0.605617</td><td style = \"text-align: right;\">-1.44536</td><td style = \"text-align: right;\">0.366772</td></tr><tr><td class = \"rowNumber\" style = \"font-weight: bold; text-align: right;\">98</td><td style = \"text-align: right;\">98</td><td style = \"text-align: right;\">0.789248</td><td style = \"text-align: right;\">-0.383216</td><td style = \"text-align: right;\">0.622912</td></tr><tr><td class = \"rowNumber\" style = \"font-weight: bold; text-align: right;\">99</td><td style = \"text-align: right;\">99</td><td style = \"text-align: right;\">0.116929</td><td style = \"text-align: right;\">-0.69564</td><td style = \"text-align: right;\">0.0136724</td></tr><tr><td class = \"rowNumber\" style = \"font-weight: bold; text-align: right;\">100</td><td style = \"text-align: right;\">100</td><td style = \"text-align: right;\">0.330077</td><td style = \"text-align: right;\">0.768729</td><td style = \"text-align: right;\">0.108951</td></tr></tbody></table></div>"
      ]
     },
     "metadata": {},
     "execution_count": 19
    }
   ],
   "cell_type": "code",
   "source": [
    "data"
   ],
   "metadata": {},
   "execution_count": 19
  },
  {
   "cell_type": "markdown",
   "source": [
    "The function `select` works in a similar way, but only includes the desired variables:"
   ],
   "metadata": {}
  },
  {
   "outputs": [
    {
     "output_type": "execute_result",
     "data": {
      "text/plain": "\u001b[1m100×1 DataFrame\u001b[0m\n\u001b[1m Row \u001b[0m│\u001b[1m x2         \u001b[0m\n     │\u001b[90m Float64    \u001b[0m\n─────┼────────────\n   1 │ 0.826584\n   2 │ 0.120529\n   3 │ 0.681885\n   4 │ 0.00238276\n   5 │ 0.100571\n   6 │ 0.0406525\n   7 │ 0.0278047\n   8 │ 0.557496\n  ⋮  │     ⋮\n  94 │ 0.0336635\n  95 │ 0.751181\n  96 │ 0.0926552\n  97 │ 0.366772\n  98 │ 0.622912\n  99 │ 0.0136724\n 100 │ 0.108951\n\u001b[36m   85 rows omitted\u001b[0m",
      "text/html": [
       "<div><div style = \"float: left;\"><span>100×1 DataFrame</span></div><div style = \"float: right;\"><span style = \"font-style: italic;\">75 rows omitted</span></div><div style = \"clear: both;\"></div></div><div class = \"data-frame\" style = \"overflow-x: scroll;\"><table class = \"data-frame\" style = \"margin-bottom: 6px;\"><thead><tr class = \"header\"><th class = \"rowNumber\" style = \"font-weight: bold; text-align: right;\">Row</th><th style = \"text-align: left;\">x2</th></tr><tr class = \"subheader headerLastRow\"><th class = \"rowNumber\" style = \"font-weight: bold; text-align: right;\"></th><th title = \"Float64\" style = \"text-align: left;\">Float64</th></tr></thead><tbody><tr><td class = \"rowNumber\" style = \"font-weight: bold; text-align: right;\">1</td><td style = \"text-align: right;\">0.826584</td></tr><tr><td class = \"rowNumber\" style = \"font-weight: bold; text-align: right;\">2</td><td style = \"text-align: right;\">0.120529</td></tr><tr><td class = \"rowNumber\" style = \"font-weight: bold; text-align: right;\">3</td><td style = \"text-align: right;\">0.681885</td></tr><tr><td class = \"rowNumber\" style = \"font-weight: bold; text-align: right;\">4</td><td style = \"text-align: right;\">0.00238276</td></tr><tr><td class = \"rowNumber\" style = \"font-weight: bold; text-align: right;\">5</td><td style = \"text-align: right;\">0.100571</td></tr><tr><td class = \"rowNumber\" style = \"font-weight: bold; text-align: right;\">6</td><td style = \"text-align: right;\">0.0406525</td></tr><tr><td class = \"rowNumber\" style = \"font-weight: bold; text-align: right;\">7</td><td style = \"text-align: right;\">0.0278047</td></tr><tr><td class = \"rowNumber\" style = \"font-weight: bold; text-align: right;\">8</td><td style = \"text-align: right;\">0.557496</td></tr><tr><td class = \"rowNumber\" style = \"font-weight: bold; text-align: right;\">9</td><td style = \"text-align: right;\">0.137433</td></tr><tr><td class = \"rowNumber\" style = \"font-weight: bold; text-align: right;\">10</td><td style = \"text-align: right;\">0.0375069</td></tr><tr><td class = \"rowNumber\" style = \"font-weight: bold; text-align: right;\">11</td><td style = \"text-align: right;\">0.755851</td></tr><tr><td class = \"rowNumber\" style = \"font-weight: bold; text-align: right;\">12</td><td style = \"text-align: right;\">0.945573</td></tr><tr><td class = \"rowNumber\" style = \"font-weight: bold; text-align: right;\">13</td><td style = \"text-align: right;\">0.00972064</td></tr><tr><td style = \"text-align: right;\">&vellip;</td><td style = \"text-align: right;\">&vellip;</td></tr><tr><td class = \"rowNumber\" style = \"font-weight: bold; text-align: right;\">89</td><td style = \"text-align: right;\">0.0462878</td></tr><tr><td class = \"rowNumber\" style = \"font-weight: bold; text-align: right;\">90</td><td style = \"text-align: right;\">0.141001</td></tr><tr><td class = \"rowNumber\" style = \"font-weight: bold; text-align: right;\">91</td><td style = \"text-align: right;\">0.361708</td></tr><tr><td class = \"rowNumber\" style = \"font-weight: bold; text-align: right;\">92</td><td style = \"text-align: right;\">0.263648</td></tr><tr><td class = \"rowNumber\" style = \"font-weight: bold; text-align: right;\">93</td><td style = \"text-align: right;\">0.0263942</td></tr><tr><td class = \"rowNumber\" style = \"font-weight: bold; text-align: right;\">94</td><td style = \"text-align: right;\">0.0336635</td></tr><tr><td class = \"rowNumber\" style = \"font-weight: bold; text-align: right;\">95</td><td style = \"text-align: right;\">0.751181</td></tr><tr><td class = \"rowNumber\" style = \"font-weight: bold; text-align: right;\">96</td><td style = \"text-align: right;\">0.0926552</td></tr><tr><td class = \"rowNumber\" style = \"font-weight: bold; text-align: right;\">97</td><td style = \"text-align: right;\">0.366772</td></tr><tr><td class = \"rowNumber\" style = \"font-weight: bold; text-align: right;\">98</td><td style = \"text-align: right;\">0.622912</td></tr><tr><td class = \"rowNumber\" style = \"font-weight: bold; text-align: right;\">99</td><td style = \"text-align: right;\">0.0136724</td></tr><tr><td class = \"rowNumber\" style = \"font-weight: bold; text-align: right;\">100</td><td style = \"text-align: right;\">0.108951</td></tr></tbody></table></div>"
      ]
     },
     "metadata": {},
     "execution_count": 20
    }
   ],
   "cell_type": "code",
   "source": [
    "select(data, :x => (z -> z .^ 2) => :x2)"
   ],
   "metadata": {},
   "execution_count": 20
  },
  {
   "outputs": [
    {
     "output_type": "execute_result",
     "data": {
      "text/plain": "\u001b[1m100×2 DataFrame\u001b[0m\n\u001b[1m Row \u001b[0m│\u001b[1m x         \u001b[0m\u001b[1m y          \u001b[0m\n     │\u001b[90m Float64   \u001b[0m\u001b[90m Float64    \u001b[0m\n─────┼───────────────────────\n   1 │ 0.909167    1.10974\n   2 │ 0.347173   -1.50653\n   3 │ 0.825763    0.51689\n   4 │ 0.0488136   0.503437\n   5 │ 0.317129    1.73841\n   6 │ 0.201625   -0.0320905\n   7 │ 0.166747    0.386799\n   8 │ 0.746656    2.56994\n  ⋮  │     ⋮          ⋮\n  94 │ 0.183476    0.46691\n  95 │ 0.866707   -2.20157\n  96 │ 0.304393    0.225218\n  97 │ 0.605617   -1.44536\n  98 │ 0.789248   -0.383216\n  99 │ 0.116929   -0.69564\n 100 │ 0.330077    0.768729\n\u001b[36m              85 rows omitted\u001b[0m",
      "text/html": [
       "<div><div style = \"float: left;\"><span>100×2 DataFrame</span></div><div style = \"float: right;\"><span style = \"font-style: italic;\">75 rows omitted</span></div><div style = \"clear: both;\"></div></div><div class = \"data-frame\" style = \"overflow-x: scroll;\"><table class = \"data-frame\" style = \"margin-bottom: 6px;\"><thead><tr class = \"header\"><th class = \"rowNumber\" style = \"font-weight: bold; text-align: right;\">Row</th><th style = \"text-align: left;\">x</th><th style = \"text-align: left;\">y</th></tr><tr class = \"subheader headerLastRow\"><th class = \"rowNumber\" style = \"font-weight: bold; text-align: right;\"></th><th title = \"Float64\" style = \"text-align: left;\">Float64</th><th title = \"Float64\" style = \"text-align: left;\">Float64</th></tr></thead><tbody><tr><td class = \"rowNumber\" style = \"font-weight: bold; text-align: right;\">1</td><td style = \"text-align: right;\">0.909167</td><td style = \"text-align: right;\">1.10974</td></tr><tr><td class = \"rowNumber\" style = \"font-weight: bold; text-align: right;\">2</td><td style = \"text-align: right;\">0.347173</td><td style = \"text-align: right;\">-1.50653</td></tr><tr><td class = \"rowNumber\" style = \"font-weight: bold; text-align: right;\">3</td><td style = \"text-align: right;\">0.825763</td><td style = \"text-align: right;\">0.51689</td></tr><tr><td class = \"rowNumber\" style = \"font-weight: bold; text-align: right;\">4</td><td style = \"text-align: right;\">0.0488136</td><td style = \"text-align: right;\">0.503437</td></tr><tr><td class = \"rowNumber\" style = \"font-weight: bold; text-align: right;\">5</td><td style = \"text-align: right;\">0.317129</td><td style = \"text-align: right;\">1.73841</td></tr><tr><td class = \"rowNumber\" style = \"font-weight: bold; text-align: right;\">6</td><td style = \"text-align: right;\">0.201625</td><td style = \"text-align: right;\">-0.0320905</td></tr><tr><td class = \"rowNumber\" style = \"font-weight: bold; text-align: right;\">7</td><td style = \"text-align: right;\">0.166747</td><td style = \"text-align: right;\">0.386799</td></tr><tr><td class = \"rowNumber\" style = \"font-weight: bold; text-align: right;\">8</td><td style = \"text-align: right;\">0.746656</td><td style = \"text-align: right;\">2.56994</td></tr><tr><td class = \"rowNumber\" style = \"font-weight: bold; text-align: right;\">9</td><td style = \"text-align: right;\">0.37072</td><td style = \"text-align: right;\">-0.64911</td></tr><tr><td class = \"rowNumber\" style = \"font-weight: bold; text-align: right;\">10</td><td style = \"text-align: right;\">0.193667</td><td style = \"text-align: right;\">1.52097</td></tr><tr><td class = \"rowNumber\" style = \"font-weight: bold; text-align: right;\">11</td><td style = \"text-align: right;\">0.869397</td><td style = \"text-align: right;\">0.111308</td></tr><tr><td class = \"rowNumber\" style = \"font-weight: bold; text-align: right;\">12</td><td style = \"text-align: right;\">0.972406</td><td style = \"text-align: right;\">0.420184</td></tr><tr><td class = \"rowNumber\" style = \"font-weight: bold; text-align: right;\">13</td><td style = \"text-align: right;\">0.0985933</td><td style = \"text-align: right;\">-1.68366</td></tr><tr><td style = \"text-align: right;\">&vellip;</td><td style = \"text-align: right;\">&vellip;</td><td style = \"text-align: right;\">&vellip;</td></tr><tr><td class = \"rowNumber\" style = \"font-weight: bold; text-align: right;\">89</td><td style = \"text-align: right;\">0.215146</td><td style = \"text-align: right;\">-0.692336</td></tr><tr><td class = \"rowNumber\" style = \"font-weight: bold; text-align: right;\">90</td><td style = \"text-align: right;\">0.375501</td><td style = \"text-align: right;\">1.79626</td></tr><tr><td class = \"rowNumber\" style = \"font-weight: bold; text-align: right;\">91</td><td style = \"text-align: right;\">0.601422</td><td style = \"text-align: right;\">0.583034</td></tr><tr><td class = \"rowNumber\" style = \"font-weight: bold; text-align: right;\">92</td><td style = \"text-align: right;\">0.513466</td><td style = \"text-align: right;\">-1.72173</td></tr><tr><td class = \"rowNumber\" style = \"font-weight: bold; text-align: right;\">93</td><td style = \"text-align: right;\">0.162463</td><td style = \"text-align: right;\">1.58919</td></tr><tr><td class = \"rowNumber\" style = \"font-weight: bold; text-align: right;\">94</td><td style = \"text-align: right;\">0.183476</td><td style = \"text-align: right;\">0.46691</td></tr><tr><td class = \"rowNumber\" style = \"font-weight: bold; text-align: right;\">95</td><td style = \"text-align: right;\">0.866707</td><td style = \"text-align: right;\">-2.20157</td></tr><tr><td class = \"rowNumber\" style = \"font-weight: bold; text-align: right;\">96</td><td style = \"text-align: right;\">0.304393</td><td style = \"text-align: right;\">0.225218</td></tr><tr><td class = \"rowNumber\" style = \"font-weight: bold; text-align: right;\">97</td><td style = \"text-align: right;\">0.605617</td><td style = \"text-align: right;\">-1.44536</td></tr><tr><td class = \"rowNumber\" style = \"font-weight: bold; text-align: right;\">98</td><td style = \"text-align: right;\">0.789248</td><td style = \"text-align: right;\">-0.383216</td></tr><tr><td class = \"rowNumber\" style = \"font-weight: bold; text-align: right;\">99</td><td style = \"text-align: right;\">0.116929</td><td style = \"text-align: right;\">-0.69564</td></tr><tr><td class = \"rowNumber\" style = \"font-weight: bold; text-align: right;\">100</td><td style = \"text-align: right;\">0.330077</td><td style = \"text-align: right;\">0.768729</td></tr></tbody></table></div>"
      ]
     },
     "metadata": {},
     "execution_count": 21
    }
   ],
   "cell_type": "code",
   "source": [
    "select(data, :x, :y)"
   ],
   "metadata": {},
   "execution_count": 21
  },
  {
   "outputs": [
    {
     "output_type": "execute_result",
     "data": {
      "text/plain": "Regex"
     },
     "metadata": {},
     "execution_count": 22
    }
   ],
   "cell_type": "code",
   "source": [
    "typeof(r\"^x\")"
   ],
   "metadata": {},
   "execution_count": 22
  },
  {
   "outputs": [
    {
     "output_type": "execute_result",
     "data": {
      "text/plain": "\u001b[1m100×2 DataFrame\u001b[0m\n\u001b[1m Row \u001b[0m│\u001b[1m x         \u001b[0m\u001b[1m x2         \u001b[0m\n     │\u001b[90m Float64   \u001b[0m\u001b[90m Float64    \u001b[0m\n─────┼───────────────────────\n   1 │ 0.909167   0.826584\n   2 │ 0.347173   0.120529\n   3 │ 0.825763   0.681885\n   4 │ 0.0488136  0.00238276\n   5 │ 0.317129   0.100571\n   6 │ 0.201625   0.0406525\n   7 │ 0.166747   0.0278047\n   8 │ 0.746656   0.557496\n  ⋮  │     ⋮          ⋮\n  94 │ 0.183476   0.0336635\n  95 │ 0.866707   0.751181\n  96 │ 0.304393   0.0926552\n  97 │ 0.605617   0.366772\n  98 │ 0.789248   0.622912\n  99 │ 0.116929   0.0136724\n 100 │ 0.330077   0.108951\n\u001b[36m              85 rows omitted\u001b[0m",
      "text/html": [
       "<div><div style = \"float: left;\"><span>100×2 DataFrame</span></div><div style = \"float: right;\"><span style = \"font-style: italic;\">75 rows omitted</span></div><div style = \"clear: both;\"></div></div><div class = \"data-frame\" style = \"overflow-x: scroll;\"><table class = \"data-frame\" style = \"margin-bottom: 6px;\"><thead><tr class = \"header\"><th class = \"rowNumber\" style = \"font-weight: bold; text-align: right;\">Row</th><th style = \"text-align: left;\">x</th><th style = \"text-align: left;\">x2</th></tr><tr class = \"subheader headerLastRow\"><th class = \"rowNumber\" style = \"font-weight: bold; text-align: right;\"></th><th title = \"Float64\" style = \"text-align: left;\">Float64</th><th title = \"Float64\" style = \"text-align: left;\">Float64</th></tr></thead><tbody><tr><td class = \"rowNumber\" style = \"font-weight: bold; text-align: right;\">1</td><td style = \"text-align: right;\">0.909167</td><td style = \"text-align: right;\">0.826584</td></tr><tr><td class = \"rowNumber\" style = \"font-weight: bold; text-align: right;\">2</td><td style = \"text-align: right;\">0.347173</td><td style = \"text-align: right;\">0.120529</td></tr><tr><td class = \"rowNumber\" style = \"font-weight: bold; text-align: right;\">3</td><td style = \"text-align: right;\">0.825763</td><td style = \"text-align: right;\">0.681885</td></tr><tr><td class = \"rowNumber\" style = \"font-weight: bold; text-align: right;\">4</td><td style = \"text-align: right;\">0.0488136</td><td style = \"text-align: right;\">0.00238276</td></tr><tr><td class = \"rowNumber\" style = \"font-weight: bold; text-align: right;\">5</td><td style = \"text-align: right;\">0.317129</td><td style = \"text-align: right;\">0.100571</td></tr><tr><td class = \"rowNumber\" style = \"font-weight: bold; text-align: right;\">6</td><td style = \"text-align: right;\">0.201625</td><td style = \"text-align: right;\">0.0406525</td></tr><tr><td class = \"rowNumber\" style = \"font-weight: bold; text-align: right;\">7</td><td style = \"text-align: right;\">0.166747</td><td style = \"text-align: right;\">0.0278047</td></tr><tr><td class = \"rowNumber\" style = \"font-weight: bold; text-align: right;\">8</td><td style = \"text-align: right;\">0.746656</td><td style = \"text-align: right;\">0.557496</td></tr><tr><td class = \"rowNumber\" style = \"font-weight: bold; text-align: right;\">9</td><td style = \"text-align: right;\">0.37072</td><td style = \"text-align: right;\">0.137433</td></tr><tr><td class = \"rowNumber\" style = \"font-weight: bold; text-align: right;\">10</td><td style = \"text-align: right;\">0.193667</td><td style = \"text-align: right;\">0.0375069</td></tr><tr><td class = \"rowNumber\" style = \"font-weight: bold; text-align: right;\">11</td><td style = \"text-align: right;\">0.869397</td><td style = \"text-align: right;\">0.755851</td></tr><tr><td class = \"rowNumber\" style = \"font-weight: bold; text-align: right;\">12</td><td style = \"text-align: right;\">0.972406</td><td style = \"text-align: right;\">0.945573</td></tr><tr><td class = \"rowNumber\" style = \"font-weight: bold; text-align: right;\">13</td><td style = \"text-align: right;\">0.0985933</td><td style = \"text-align: right;\">0.00972064</td></tr><tr><td style = \"text-align: right;\">&vellip;</td><td style = \"text-align: right;\">&vellip;</td><td style = \"text-align: right;\">&vellip;</td></tr><tr><td class = \"rowNumber\" style = \"font-weight: bold; text-align: right;\">89</td><td style = \"text-align: right;\">0.215146</td><td style = \"text-align: right;\">0.0462878</td></tr><tr><td class = \"rowNumber\" style = \"font-weight: bold; text-align: right;\">90</td><td style = \"text-align: right;\">0.375501</td><td style = \"text-align: right;\">0.141001</td></tr><tr><td class = \"rowNumber\" style = \"font-weight: bold; text-align: right;\">91</td><td style = \"text-align: right;\">0.601422</td><td style = \"text-align: right;\">0.361708</td></tr><tr><td class = \"rowNumber\" style = \"font-weight: bold; text-align: right;\">92</td><td style = \"text-align: right;\">0.513466</td><td style = \"text-align: right;\">0.263648</td></tr><tr><td class = \"rowNumber\" style = \"font-weight: bold; text-align: right;\">93</td><td style = \"text-align: right;\">0.162463</td><td style = \"text-align: right;\">0.0263942</td></tr><tr><td class = \"rowNumber\" style = \"font-weight: bold; text-align: right;\">94</td><td style = \"text-align: right;\">0.183476</td><td style = \"text-align: right;\">0.0336635</td></tr><tr><td class = \"rowNumber\" style = \"font-weight: bold; text-align: right;\">95</td><td style = \"text-align: right;\">0.866707</td><td style = \"text-align: right;\">0.751181</td></tr><tr><td class = \"rowNumber\" style = \"font-weight: bold; text-align: right;\">96</td><td style = \"text-align: right;\">0.304393</td><td style = \"text-align: right;\">0.0926552</td></tr><tr><td class = \"rowNumber\" style = \"font-weight: bold; text-align: right;\">97</td><td style = \"text-align: right;\">0.605617</td><td style = \"text-align: right;\">0.366772</td></tr><tr><td class = \"rowNumber\" style = \"font-weight: bold; text-align: right;\">98</td><td style = \"text-align: right;\">0.789248</td><td style = \"text-align: right;\">0.622912</td></tr><tr><td class = \"rowNumber\" style = \"font-weight: bold; text-align: right;\">99</td><td style = \"text-align: right;\">0.116929</td><td style = \"text-align: right;\">0.0136724</td></tr><tr><td class = \"rowNumber\" style = \"font-weight: bold; text-align: right;\">100</td><td style = \"text-align: right;\">0.330077</td><td style = \"text-align: right;\">0.108951</td></tr></tbody></table></div>"
      ]
     },
     "metadata": {},
     "execution_count": 23
    }
   ],
   "cell_type": "code",
   "source": [
    "select(data, r\"^x\")"
   ],
   "metadata": {},
   "execution_count": 23
  },
  {
   "cell_type": "markdown",
   "source": [
    "Let's add new columns:"
   ],
   "metadata": {}
  },
  {
   "outputs": [
    {
     "output_type": "execute_result",
     "data": {
      "text/plain": "\u001b[1m100×5 DataFrame\u001b[0m\n\u001b[1m Row \u001b[0m│\u001b[1m id    \u001b[0m\u001b[1m x         \u001b[0m\u001b[1m y          \u001b[0m\u001b[1m x2         \u001b[0m\u001b[1m z         \u001b[0m\n     │\u001b[90m Int64 \u001b[0m\u001b[90m Float64   \u001b[0m\u001b[90m Float64    \u001b[0m\u001b[90m Float64    \u001b[0m\u001b[90m Float64   \u001b[0m\n─────┼─────────────────────────────────────────────────────\n   1 │     1  0.909167    1.10974    0.826584    0.602754\n   2 │     2  0.347173   -1.50653    0.120529    0.916813\n   3 │     3  0.825763    0.51689    0.681885    0.702482\n   4 │     4  0.0488136   0.503437   0.00238276  0.821883\n   5 │     5  0.317129    1.73841    0.100571    0.963452\n   6 │     6  0.201625   -0.0320905  0.0406525   0.420871\n   7 │     7  0.166747    0.386799   0.0278047   0.728749\n   8 │     8  0.746656    2.56994    0.557496    0.708707\n  ⋮  │   ⋮        ⋮          ⋮           ⋮           ⋮\n  94 │    94  0.183476    0.46691    0.0336635   0.780929\n  95 │    95  0.866707   -2.20157    0.751181    0.20805\n  96 │    96  0.304393    0.225218   0.0926552   0.437397\n  97 │    97  0.605617   -1.44536    0.366772    0.130834\n  98 │    98  0.789248   -0.383216   0.622912    0.0751066\n  99 │    99  0.116929   -0.69564    0.0136724   0.956322\n 100 │   100  0.330077    0.768729   0.108951    0.80458\n\u001b[36m                                            85 rows omitted\u001b[0m",
      "text/html": [
       "<div><div style = \"float: left;\"><span>100×5 DataFrame</span></div><div style = \"float: right;\"><span style = \"font-style: italic;\">75 rows omitted</span></div><div style = \"clear: both;\"></div></div><div class = \"data-frame\" style = \"overflow-x: scroll;\"><table class = \"data-frame\" style = \"margin-bottom: 6px;\"><thead><tr class = \"header\"><th class = \"rowNumber\" style = \"font-weight: bold; text-align: right;\">Row</th><th style = \"text-align: left;\">id</th><th style = \"text-align: left;\">x</th><th style = \"text-align: left;\">y</th><th style = \"text-align: left;\">x2</th><th style = \"text-align: left;\">z</th></tr><tr class = \"subheader headerLastRow\"><th class = \"rowNumber\" style = \"font-weight: bold; text-align: right;\"></th><th title = \"Int64\" style = \"text-align: left;\">Int64</th><th title = \"Float64\" style = \"text-align: left;\">Float64</th><th title = \"Float64\" style = \"text-align: left;\">Float64</th><th title = \"Float64\" style = \"text-align: left;\">Float64</th><th title = \"Float64\" style = \"text-align: left;\">Float64</th></tr></thead><tbody><tr><td class = \"rowNumber\" style = \"font-weight: bold; text-align: right;\">1</td><td style = \"text-align: right;\">1</td><td style = \"text-align: right;\">0.909167</td><td style = \"text-align: right;\">1.10974</td><td style = \"text-align: right;\">0.826584</td><td style = \"text-align: right;\">0.602754</td></tr><tr><td class = \"rowNumber\" style = \"font-weight: bold; text-align: right;\">2</td><td style = \"text-align: right;\">2</td><td style = \"text-align: right;\">0.347173</td><td style = \"text-align: right;\">-1.50653</td><td style = \"text-align: right;\">0.120529</td><td style = \"text-align: right;\">0.916813</td></tr><tr><td class = \"rowNumber\" style = \"font-weight: bold; text-align: right;\">3</td><td style = \"text-align: right;\">3</td><td style = \"text-align: right;\">0.825763</td><td style = \"text-align: right;\">0.51689</td><td style = \"text-align: right;\">0.681885</td><td style = \"text-align: right;\">0.702482</td></tr><tr><td class = \"rowNumber\" style = \"font-weight: bold; text-align: right;\">4</td><td style = \"text-align: right;\">4</td><td style = \"text-align: right;\">0.0488136</td><td style = \"text-align: right;\">0.503437</td><td style = \"text-align: right;\">0.00238276</td><td style = \"text-align: right;\">0.821883</td></tr><tr><td class = \"rowNumber\" style = \"font-weight: bold; text-align: right;\">5</td><td style = \"text-align: right;\">5</td><td style = \"text-align: right;\">0.317129</td><td style = \"text-align: right;\">1.73841</td><td style = \"text-align: right;\">0.100571</td><td style = \"text-align: right;\">0.963452</td></tr><tr><td class = \"rowNumber\" style = \"font-weight: bold; text-align: right;\">6</td><td style = \"text-align: right;\">6</td><td style = \"text-align: right;\">0.201625</td><td style = \"text-align: right;\">-0.0320905</td><td style = \"text-align: right;\">0.0406525</td><td style = \"text-align: right;\">0.420871</td></tr><tr><td class = \"rowNumber\" style = \"font-weight: bold; text-align: right;\">7</td><td style = \"text-align: right;\">7</td><td style = \"text-align: right;\">0.166747</td><td style = \"text-align: right;\">0.386799</td><td style = \"text-align: right;\">0.0278047</td><td style = \"text-align: right;\">0.728749</td></tr><tr><td class = \"rowNumber\" style = \"font-weight: bold; text-align: right;\">8</td><td style = \"text-align: right;\">8</td><td style = \"text-align: right;\">0.746656</td><td style = \"text-align: right;\">2.56994</td><td style = \"text-align: right;\">0.557496</td><td style = \"text-align: right;\">0.708707</td></tr><tr><td class = \"rowNumber\" style = \"font-weight: bold; text-align: right;\">9</td><td style = \"text-align: right;\">9</td><td style = \"text-align: right;\">0.37072</td><td style = \"text-align: right;\">-0.64911</td><td style = \"text-align: right;\">0.137433</td><td style = \"text-align: right;\">0.312758</td></tr><tr><td class = \"rowNumber\" style = \"font-weight: bold; text-align: right;\">10</td><td style = \"text-align: right;\">10</td><td style = \"text-align: right;\">0.193667</td><td style = \"text-align: right;\">1.52097</td><td style = \"text-align: right;\">0.0375069</td><td style = \"text-align: right;\">0.324507</td></tr><tr><td class = \"rowNumber\" style = \"font-weight: bold; text-align: right;\">11</td><td style = \"text-align: right;\">11</td><td style = \"text-align: right;\">0.869397</td><td style = \"text-align: right;\">0.111308</td><td style = \"text-align: right;\">0.755851</td><td style = \"text-align: right;\">0.521918</td></tr><tr><td class = \"rowNumber\" style = \"font-weight: bold; text-align: right;\">12</td><td style = \"text-align: right;\">12</td><td style = \"text-align: right;\">0.972406</td><td style = \"text-align: right;\">0.420184</td><td style = \"text-align: right;\">0.945573</td><td style = \"text-align: right;\">0.779954</td></tr><tr><td class = \"rowNumber\" style = \"font-weight: bold; text-align: right;\">13</td><td style = \"text-align: right;\">13</td><td style = \"text-align: right;\">0.0985933</td><td style = \"text-align: right;\">-1.68366</td><td style = \"text-align: right;\">0.00972064</td><td style = \"text-align: right;\">0.381342</td></tr><tr><td style = \"text-align: right;\">&vellip;</td><td style = \"text-align: right;\">&vellip;</td><td style = \"text-align: right;\">&vellip;</td><td style = \"text-align: right;\">&vellip;</td><td style = \"text-align: right;\">&vellip;</td><td style = \"text-align: right;\">&vellip;</td></tr><tr><td class = \"rowNumber\" style = \"font-weight: bold; text-align: right;\">89</td><td style = \"text-align: right;\">89</td><td style = \"text-align: right;\">0.215146</td><td style = \"text-align: right;\">-0.692336</td><td style = \"text-align: right;\">0.0462878</td><td style = \"text-align: right;\">0.46339</td></tr><tr><td class = \"rowNumber\" style = \"font-weight: bold; text-align: right;\">90</td><td style = \"text-align: right;\">90</td><td style = \"text-align: right;\">0.375501</td><td style = \"text-align: right;\">1.79626</td><td style = \"text-align: right;\">0.141001</td><td style = \"text-align: right;\">0.84538</td></tr><tr><td class = \"rowNumber\" style = \"font-weight: bold; text-align: right;\">91</td><td style = \"text-align: right;\">91</td><td style = \"text-align: right;\">0.601422</td><td style = \"text-align: right;\">0.583034</td><td style = \"text-align: right;\">0.361708</td><td style = \"text-align: right;\">0.888315</td></tr><tr><td class = \"rowNumber\" style = \"font-weight: bold; text-align: right;\">92</td><td style = \"text-align: right;\">92</td><td style = \"text-align: right;\">0.513466</td><td style = \"text-align: right;\">-1.72173</td><td style = \"text-align: right;\">0.263648</td><td style = \"text-align: right;\">0.787179</td></tr><tr><td class = \"rowNumber\" style = \"font-weight: bold; text-align: right;\">93</td><td style = \"text-align: right;\">93</td><td style = \"text-align: right;\">0.162463</td><td style = \"text-align: right;\">1.58919</td><td style = \"text-align: right;\">0.0263942</td><td style = \"text-align: right;\">0.427621</td></tr><tr><td class = \"rowNumber\" style = \"font-weight: bold; text-align: right;\">94</td><td style = \"text-align: right;\">94</td><td style = \"text-align: right;\">0.183476</td><td style = \"text-align: right;\">0.46691</td><td style = \"text-align: right;\">0.0336635</td><td style = \"text-align: right;\">0.780929</td></tr><tr><td class = \"rowNumber\" style = \"font-weight: bold; text-align: right;\">95</td><td style = \"text-align: right;\">95</td><td style = \"text-align: right;\">0.866707</td><td style = \"text-align: right;\">-2.20157</td><td style = \"text-align: right;\">0.751181</td><td style = \"text-align: right;\">0.20805</td></tr><tr><td class = \"rowNumber\" style = \"font-weight: bold; text-align: right;\">96</td><td style = \"text-align: right;\">96</td><td style = \"text-align: right;\">0.304393</td><td style = \"text-align: right;\">0.225218</td><td style = \"text-align: right;\">0.0926552</td><td style = \"text-align: right;\">0.437397</td></tr><tr><td class = \"rowNumber\" style = \"font-weight: bold; text-align: right;\">97</td><td style = \"text-align: right;\">97</td><td style = \"text-align: right;\">0.605617</td><td style = \"text-align: right;\">-1.44536</td><td style = \"text-align: right;\">0.366772</td><td style = \"text-align: right;\">0.130834</td></tr><tr><td class = \"rowNumber\" style = \"font-weight: bold; text-align: right;\">98</td><td style = \"text-align: right;\">98</td><td style = \"text-align: right;\">0.789248</td><td style = \"text-align: right;\">-0.383216</td><td style = \"text-align: right;\">0.622912</td><td style = \"text-align: right;\">0.0751066</td></tr><tr><td class = \"rowNumber\" style = \"font-weight: bold; text-align: right;\">99</td><td style = \"text-align: right;\">99</td><td style = \"text-align: right;\">0.116929</td><td style = \"text-align: right;\">-0.69564</td><td style = \"text-align: right;\">0.0136724</td><td style = \"text-align: right;\">0.956322</td></tr><tr><td class = \"rowNumber\" style = \"font-weight: bold; text-align: right;\">100</td><td style = \"text-align: right;\">100</td><td style = \"text-align: right;\">0.330077</td><td style = \"text-align: right;\">0.768729</td><td style = \"text-align: right;\">0.108951</td><td style = \"text-align: right;\">0.80458</td></tr></tbody></table></div>"
      ]
     },
     "metadata": {},
     "execution_count": 24
    }
   ],
   "cell_type": "code",
   "source": [
    "insertcols!(data, :z => rand(100))"
   ],
   "metadata": {},
   "execution_count": 24
  },
  {
   "outputs": [
    {
     "output_type": "execute_result",
     "data": {
      "text/plain": "\u001b[1m5×5 DataFrame\u001b[0m\n\u001b[1m Row \u001b[0m│\u001b[1m id    \u001b[0m\u001b[1m x         \u001b[0m\u001b[1m y         \u001b[0m\u001b[1m x2         \u001b[0m\u001b[1m z        \u001b[0m\n     │\u001b[90m Int64 \u001b[0m\u001b[90m Float64   \u001b[0m\u001b[90m Float64   \u001b[0m\u001b[90m Float64    \u001b[0m\u001b[90m Float64  \u001b[0m\n─────┼───────────────────────────────────────────────────\n   1 │     1  0.909167    1.10974   0.826584    0.602754\n   2 │     2  0.347173   -1.50653   0.120529    0.916813\n   3 │     3  0.825763    0.51689   0.681885    0.702482\n   4 │     4  0.0488136   0.503437  0.00238276  0.821883\n   5 │     5  0.317129    1.73841   0.100571    0.963452",
      "text/html": [
       "<div><div style = \"float: left;\"><span>5×5 DataFrame</span></div><div style = \"clear: both;\"></div></div><div class = \"data-frame\" style = \"overflow-x: scroll;\"><table class = \"data-frame\" style = \"margin-bottom: 6px;\"><thead><tr class = \"header\"><th class = \"rowNumber\" style = \"font-weight: bold; text-align: right;\">Row</th><th style = \"text-align: left;\">id</th><th style = \"text-align: left;\">x</th><th style = \"text-align: left;\">y</th><th style = \"text-align: left;\">x2</th><th style = \"text-align: left;\">z</th></tr><tr class = \"subheader headerLastRow\"><th class = \"rowNumber\" style = \"font-weight: bold; text-align: right;\"></th><th title = \"Int64\" style = \"text-align: left;\">Int64</th><th title = \"Float64\" style = \"text-align: left;\">Float64</th><th title = \"Float64\" style = \"text-align: left;\">Float64</th><th title = \"Float64\" style = \"text-align: left;\">Float64</th><th title = \"Float64\" style = \"text-align: left;\">Float64</th></tr></thead><tbody><tr><td class = \"rowNumber\" style = \"font-weight: bold; text-align: right;\">1</td><td style = \"text-align: right;\">1</td><td style = \"text-align: right;\">0.909167</td><td style = \"text-align: right;\">1.10974</td><td style = \"text-align: right;\">0.826584</td><td style = \"text-align: right;\">0.602754</td></tr><tr><td class = \"rowNumber\" style = \"font-weight: bold; text-align: right;\">2</td><td style = \"text-align: right;\">2</td><td style = \"text-align: right;\">0.347173</td><td style = \"text-align: right;\">-1.50653</td><td style = \"text-align: right;\">0.120529</td><td style = \"text-align: right;\">0.916813</td></tr><tr><td class = \"rowNumber\" style = \"font-weight: bold; text-align: right;\">3</td><td style = \"text-align: right;\">3</td><td style = \"text-align: right;\">0.825763</td><td style = \"text-align: right;\">0.51689</td><td style = \"text-align: right;\">0.681885</td><td style = \"text-align: right;\">0.702482</td></tr><tr><td class = \"rowNumber\" style = \"font-weight: bold; text-align: right;\">4</td><td style = \"text-align: right;\">4</td><td style = \"text-align: right;\">0.0488136</td><td style = \"text-align: right;\">0.503437</td><td style = \"text-align: right;\">0.00238276</td><td style = \"text-align: right;\">0.821883</td></tr><tr><td class = \"rowNumber\" style = \"font-weight: bold; text-align: right;\">5</td><td style = \"text-align: right;\">5</td><td style = \"text-align: right;\">0.317129</td><td style = \"text-align: right;\">1.73841</td><td style = \"text-align: right;\">0.100571</td><td style = \"text-align: right;\">0.963452</td></tr></tbody></table></div>"
      ]
     },
     "metadata": {},
     "execution_count": 25
    }
   ],
   "cell_type": "code",
   "source": [
    "first(data, 5)"
   ],
   "metadata": {},
   "execution_count": 25
  },
  {
   "cell_type": "markdown",
   "source": [
    "Let's remove columns:"
   ],
   "metadata": {}
  },
  {
   "outputs": [
    {
     "output_type": "execute_result",
     "data": {
      "text/plain": "\u001b[1m100×4 DataFrame\u001b[0m\n\u001b[1m Row \u001b[0m│\u001b[1m id    \u001b[0m\u001b[1m x         \u001b[0m\u001b[1m y          \u001b[0m\u001b[1m z         \u001b[0m\n     │\u001b[90m Int64 \u001b[0m\u001b[90m Float64   \u001b[0m\u001b[90m Float64    \u001b[0m\u001b[90m Float64   \u001b[0m\n─────┼─────────────────────────────────────────\n   1 │     1  0.909167    1.10974    0.602754\n   2 │     2  0.347173   -1.50653    0.916813\n   3 │     3  0.825763    0.51689    0.702482\n   4 │     4  0.0488136   0.503437   0.821883\n   5 │     5  0.317129    1.73841    0.963452\n   6 │     6  0.201625   -0.0320905  0.420871\n   7 │     7  0.166747    0.386799   0.728749\n   8 │     8  0.746656    2.56994    0.708707\n  ⋮  │   ⋮        ⋮          ⋮           ⋮\n  94 │    94  0.183476    0.46691    0.780929\n  95 │    95  0.866707   -2.20157    0.20805\n  96 │    96  0.304393    0.225218   0.437397\n  97 │    97  0.605617   -1.44536    0.130834\n  98 │    98  0.789248   -0.383216   0.0751066\n  99 │    99  0.116929   -0.69564    0.956322\n 100 │   100  0.330077    0.768729   0.80458\n\u001b[36m                                85 rows omitted\u001b[0m",
      "text/html": [
       "<div><div style = \"float: left;\"><span>100×4 DataFrame</span></div><div style = \"float: right;\"><span style = \"font-style: italic;\">75 rows omitted</span></div><div style = \"clear: both;\"></div></div><div class = \"data-frame\" style = \"overflow-x: scroll;\"><table class = \"data-frame\" style = \"margin-bottom: 6px;\"><thead><tr class = \"header\"><th class = \"rowNumber\" style = \"font-weight: bold; text-align: right;\">Row</th><th style = \"text-align: left;\">id</th><th style = \"text-align: left;\">x</th><th style = \"text-align: left;\">y</th><th style = \"text-align: left;\">z</th></tr><tr class = \"subheader headerLastRow\"><th class = \"rowNumber\" style = \"font-weight: bold; text-align: right;\"></th><th title = \"Int64\" style = \"text-align: left;\">Int64</th><th title = \"Float64\" style = \"text-align: left;\">Float64</th><th title = \"Float64\" style = \"text-align: left;\">Float64</th><th title = \"Float64\" style = \"text-align: left;\">Float64</th></tr></thead><tbody><tr><td class = \"rowNumber\" style = \"font-weight: bold; text-align: right;\">1</td><td style = \"text-align: right;\">1</td><td style = \"text-align: right;\">0.909167</td><td style = \"text-align: right;\">1.10974</td><td style = \"text-align: right;\">0.602754</td></tr><tr><td class = \"rowNumber\" style = \"font-weight: bold; text-align: right;\">2</td><td style = \"text-align: right;\">2</td><td style = \"text-align: right;\">0.347173</td><td style = \"text-align: right;\">-1.50653</td><td style = \"text-align: right;\">0.916813</td></tr><tr><td class = \"rowNumber\" style = \"font-weight: bold; text-align: right;\">3</td><td style = \"text-align: right;\">3</td><td style = \"text-align: right;\">0.825763</td><td style = \"text-align: right;\">0.51689</td><td style = \"text-align: right;\">0.702482</td></tr><tr><td class = \"rowNumber\" style = \"font-weight: bold; text-align: right;\">4</td><td style = \"text-align: right;\">4</td><td style = \"text-align: right;\">0.0488136</td><td style = \"text-align: right;\">0.503437</td><td style = \"text-align: right;\">0.821883</td></tr><tr><td class = \"rowNumber\" style = \"font-weight: bold; text-align: right;\">5</td><td style = \"text-align: right;\">5</td><td style = \"text-align: right;\">0.317129</td><td style = \"text-align: right;\">1.73841</td><td style = \"text-align: right;\">0.963452</td></tr><tr><td class = \"rowNumber\" style = \"font-weight: bold; text-align: right;\">6</td><td style = \"text-align: right;\">6</td><td style = \"text-align: right;\">0.201625</td><td style = \"text-align: right;\">-0.0320905</td><td style = \"text-align: right;\">0.420871</td></tr><tr><td class = \"rowNumber\" style = \"font-weight: bold; text-align: right;\">7</td><td style = \"text-align: right;\">7</td><td style = \"text-align: right;\">0.166747</td><td style = \"text-align: right;\">0.386799</td><td style = \"text-align: right;\">0.728749</td></tr><tr><td class = \"rowNumber\" style = \"font-weight: bold; text-align: right;\">8</td><td style = \"text-align: right;\">8</td><td style = \"text-align: right;\">0.746656</td><td style = \"text-align: right;\">2.56994</td><td style = \"text-align: right;\">0.708707</td></tr><tr><td class = \"rowNumber\" style = \"font-weight: bold; text-align: right;\">9</td><td style = \"text-align: right;\">9</td><td style = \"text-align: right;\">0.37072</td><td style = \"text-align: right;\">-0.64911</td><td style = \"text-align: right;\">0.312758</td></tr><tr><td class = \"rowNumber\" style = \"font-weight: bold; text-align: right;\">10</td><td style = \"text-align: right;\">10</td><td style = \"text-align: right;\">0.193667</td><td style = \"text-align: right;\">1.52097</td><td style = \"text-align: right;\">0.324507</td></tr><tr><td class = \"rowNumber\" style = \"font-weight: bold; text-align: right;\">11</td><td style = \"text-align: right;\">11</td><td style = \"text-align: right;\">0.869397</td><td style = \"text-align: right;\">0.111308</td><td style = \"text-align: right;\">0.521918</td></tr><tr><td class = \"rowNumber\" style = \"font-weight: bold; text-align: right;\">12</td><td style = \"text-align: right;\">12</td><td style = \"text-align: right;\">0.972406</td><td style = \"text-align: right;\">0.420184</td><td style = \"text-align: right;\">0.779954</td></tr><tr><td class = \"rowNumber\" style = \"font-weight: bold; text-align: right;\">13</td><td style = \"text-align: right;\">13</td><td style = \"text-align: right;\">0.0985933</td><td style = \"text-align: right;\">-1.68366</td><td style = \"text-align: right;\">0.381342</td></tr><tr><td style = \"text-align: right;\">&vellip;</td><td style = \"text-align: right;\">&vellip;</td><td style = \"text-align: right;\">&vellip;</td><td style = \"text-align: right;\">&vellip;</td><td style = \"text-align: right;\">&vellip;</td></tr><tr><td class = \"rowNumber\" style = \"font-weight: bold; text-align: right;\">89</td><td style = \"text-align: right;\">89</td><td style = \"text-align: right;\">0.215146</td><td style = \"text-align: right;\">-0.692336</td><td style = \"text-align: right;\">0.46339</td></tr><tr><td class = \"rowNumber\" style = \"font-weight: bold; text-align: right;\">90</td><td style = \"text-align: right;\">90</td><td style = \"text-align: right;\">0.375501</td><td style = \"text-align: right;\">1.79626</td><td style = \"text-align: right;\">0.84538</td></tr><tr><td class = \"rowNumber\" style = \"font-weight: bold; text-align: right;\">91</td><td style = \"text-align: right;\">91</td><td style = \"text-align: right;\">0.601422</td><td style = \"text-align: right;\">0.583034</td><td style = \"text-align: right;\">0.888315</td></tr><tr><td class = \"rowNumber\" style = \"font-weight: bold; text-align: right;\">92</td><td style = \"text-align: right;\">92</td><td style = \"text-align: right;\">0.513466</td><td style = \"text-align: right;\">-1.72173</td><td style = \"text-align: right;\">0.787179</td></tr><tr><td class = \"rowNumber\" style = \"font-weight: bold; text-align: right;\">93</td><td style = \"text-align: right;\">93</td><td style = \"text-align: right;\">0.162463</td><td style = \"text-align: right;\">1.58919</td><td style = \"text-align: right;\">0.427621</td></tr><tr><td class = \"rowNumber\" style = \"font-weight: bold; text-align: right;\">94</td><td style = \"text-align: right;\">94</td><td style = \"text-align: right;\">0.183476</td><td style = \"text-align: right;\">0.46691</td><td style = \"text-align: right;\">0.780929</td></tr><tr><td class = \"rowNumber\" style = \"font-weight: bold; text-align: right;\">95</td><td style = \"text-align: right;\">95</td><td style = \"text-align: right;\">0.866707</td><td style = \"text-align: right;\">-2.20157</td><td style = \"text-align: right;\">0.20805</td></tr><tr><td class = \"rowNumber\" style = \"font-weight: bold; text-align: right;\">96</td><td style = \"text-align: right;\">96</td><td style = \"text-align: right;\">0.304393</td><td style = \"text-align: right;\">0.225218</td><td style = \"text-align: right;\">0.437397</td></tr><tr><td class = \"rowNumber\" style = \"font-weight: bold; text-align: right;\">97</td><td style = \"text-align: right;\">97</td><td style = \"text-align: right;\">0.605617</td><td style = \"text-align: right;\">-1.44536</td><td style = \"text-align: right;\">0.130834</td></tr><tr><td class = \"rowNumber\" style = \"font-weight: bold; text-align: right;\">98</td><td style = \"text-align: right;\">98</td><td style = \"text-align: right;\">0.789248</td><td style = \"text-align: right;\">-0.383216</td><td style = \"text-align: right;\">0.0751066</td></tr><tr><td class = \"rowNumber\" style = \"font-weight: bold; text-align: right;\">99</td><td style = \"text-align: right;\">99</td><td style = \"text-align: right;\">0.116929</td><td style = \"text-align: right;\">-0.69564</td><td style = \"text-align: right;\">0.956322</td></tr><tr><td class = \"rowNumber\" style = \"font-weight: bold; text-align: right;\">100</td><td style = \"text-align: right;\">100</td><td style = \"text-align: right;\">0.330077</td><td style = \"text-align: right;\">0.768729</td><td style = \"text-align: right;\">0.80458</td></tr></tbody></table></div>"
      ]
     },
     "metadata": {},
     "execution_count": 26
    }
   ],
   "cell_type": "code",
   "source": [
    "select!(data, Not(:x2))"
   ],
   "metadata": {},
   "execution_count": 26
  },
  {
   "outputs": [
    {
     "output_type": "execute_result",
     "data": {
      "text/plain": "\u001b[1m5×4 DataFrame\u001b[0m\n\u001b[1m Row \u001b[0m│\u001b[1m id    \u001b[0m\u001b[1m x         \u001b[0m\u001b[1m y         \u001b[0m\u001b[1m z        \u001b[0m\n     │\u001b[90m Int64 \u001b[0m\u001b[90m Float64   \u001b[0m\u001b[90m Float64   \u001b[0m\u001b[90m Float64  \u001b[0m\n─────┼───────────────────────────────────────\n   1 │     1  0.909167    1.10974   0.602754\n   2 │     2  0.347173   -1.50653   0.916813\n   3 │     3  0.825763    0.51689   0.702482\n   4 │     4  0.0488136   0.503437  0.821883\n   5 │     5  0.317129    1.73841   0.963452",
      "text/html": [
       "<div><div style = \"float: left;\"><span>5×4 DataFrame</span></div><div style = \"clear: both;\"></div></div><div class = \"data-frame\" style = \"overflow-x: scroll;\"><table class = \"data-frame\" style = \"margin-bottom: 6px;\"><thead><tr class = \"header\"><th class = \"rowNumber\" style = \"font-weight: bold; text-align: right;\">Row</th><th style = \"text-align: left;\">id</th><th style = \"text-align: left;\">x</th><th style = \"text-align: left;\">y</th><th style = \"text-align: left;\">z</th></tr><tr class = \"subheader headerLastRow\"><th class = \"rowNumber\" style = \"font-weight: bold; text-align: right;\"></th><th title = \"Int64\" style = \"text-align: left;\">Int64</th><th title = \"Float64\" style = \"text-align: left;\">Float64</th><th title = \"Float64\" style = \"text-align: left;\">Float64</th><th title = \"Float64\" style = \"text-align: left;\">Float64</th></tr></thead><tbody><tr><td class = \"rowNumber\" style = \"font-weight: bold; text-align: right;\">1</td><td style = \"text-align: right;\">1</td><td style = \"text-align: right;\">0.909167</td><td style = \"text-align: right;\">1.10974</td><td style = \"text-align: right;\">0.602754</td></tr><tr><td class = \"rowNumber\" style = \"font-weight: bold; text-align: right;\">2</td><td style = \"text-align: right;\">2</td><td style = \"text-align: right;\">0.347173</td><td style = \"text-align: right;\">-1.50653</td><td style = \"text-align: right;\">0.916813</td></tr><tr><td class = \"rowNumber\" style = \"font-weight: bold; text-align: right;\">3</td><td style = \"text-align: right;\">3</td><td style = \"text-align: right;\">0.825763</td><td style = \"text-align: right;\">0.51689</td><td style = \"text-align: right;\">0.702482</td></tr><tr><td class = \"rowNumber\" style = \"font-weight: bold; text-align: right;\">4</td><td style = \"text-align: right;\">4</td><td style = \"text-align: right;\">0.0488136</td><td style = \"text-align: right;\">0.503437</td><td style = \"text-align: right;\">0.821883</td></tr><tr><td class = \"rowNumber\" style = \"font-weight: bold; text-align: right;\">5</td><td style = \"text-align: right;\">5</td><td style = \"text-align: right;\">0.317129</td><td style = \"text-align: right;\">1.73841</td><td style = \"text-align: right;\">0.963452</td></tr></tbody></table></div>"
      ]
     },
     "metadata": {},
     "execution_count": 27
    }
   ],
   "cell_type": "code",
   "source": [
    "first(data, 5)"
   ],
   "metadata": {},
   "execution_count": 27
  },
  {
   "cell_type": "markdown",
   "source": [
    "Another simple operation is to rename columns:"
   ],
   "metadata": {}
  },
  {
   "outputs": [
    {
     "output_type": "execute_result",
     "data": {
      "text/plain": "\u001b[1m100×4 DataFrame\u001b[0m\n\u001b[1m Row \u001b[0m│\u001b[1m id    \u001b[0m\u001b[1m xnew      \u001b[0m\u001b[1m y          \u001b[0m\u001b[1m znew      \u001b[0m\n     │\u001b[90m Int64 \u001b[0m\u001b[90m Float64   \u001b[0m\u001b[90m Float64    \u001b[0m\u001b[90m Float64   \u001b[0m\n─────┼─────────────────────────────────────────\n   1 │     1  0.909167    1.10974    0.602754\n   2 │     2  0.347173   -1.50653    0.916813\n   3 │     3  0.825763    0.51689    0.702482\n   4 │     4  0.0488136   0.503437   0.821883\n   5 │     5  0.317129    1.73841    0.963452\n   6 │     6  0.201625   -0.0320905  0.420871\n   7 │     7  0.166747    0.386799   0.728749\n   8 │     8  0.746656    2.56994    0.708707\n  ⋮  │   ⋮        ⋮          ⋮           ⋮\n  94 │    94  0.183476    0.46691    0.780929\n  95 │    95  0.866707   -2.20157    0.20805\n  96 │    96  0.304393    0.225218   0.437397\n  97 │    97  0.605617   -1.44536    0.130834\n  98 │    98  0.789248   -0.383216   0.0751066\n  99 │    99  0.116929   -0.69564    0.956322\n 100 │   100  0.330077    0.768729   0.80458\n\u001b[36m                                85 rows omitted\u001b[0m",
      "text/html": [
       "<div><div style = \"float: left;\"><span>100×4 DataFrame</span></div><div style = \"float: right;\"><span style = \"font-style: italic;\">75 rows omitted</span></div><div style = \"clear: both;\"></div></div><div class = \"data-frame\" style = \"overflow-x: scroll;\"><table class = \"data-frame\" style = \"margin-bottom: 6px;\"><thead><tr class = \"header\"><th class = \"rowNumber\" style = \"font-weight: bold; text-align: right;\">Row</th><th style = \"text-align: left;\">id</th><th style = \"text-align: left;\">xnew</th><th style = \"text-align: left;\">y</th><th style = \"text-align: left;\">znew</th></tr><tr class = \"subheader headerLastRow\"><th class = \"rowNumber\" style = \"font-weight: bold; text-align: right;\"></th><th title = \"Int64\" style = \"text-align: left;\">Int64</th><th title = \"Float64\" style = \"text-align: left;\">Float64</th><th title = \"Float64\" style = \"text-align: left;\">Float64</th><th title = \"Float64\" style = \"text-align: left;\">Float64</th></tr></thead><tbody><tr><td class = \"rowNumber\" style = \"font-weight: bold; text-align: right;\">1</td><td style = \"text-align: right;\">1</td><td style = \"text-align: right;\">0.909167</td><td style = \"text-align: right;\">1.10974</td><td style = \"text-align: right;\">0.602754</td></tr><tr><td class = \"rowNumber\" style = \"font-weight: bold; text-align: right;\">2</td><td style = \"text-align: right;\">2</td><td style = \"text-align: right;\">0.347173</td><td style = \"text-align: right;\">-1.50653</td><td style = \"text-align: right;\">0.916813</td></tr><tr><td class = \"rowNumber\" style = \"font-weight: bold; text-align: right;\">3</td><td style = \"text-align: right;\">3</td><td style = \"text-align: right;\">0.825763</td><td style = \"text-align: right;\">0.51689</td><td style = \"text-align: right;\">0.702482</td></tr><tr><td class = \"rowNumber\" style = \"font-weight: bold; text-align: right;\">4</td><td style = \"text-align: right;\">4</td><td style = \"text-align: right;\">0.0488136</td><td style = \"text-align: right;\">0.503437</td><td style = \"text-align: right;\">0.821883</td></tr><tr><td class = \"rowNumber\" style = \"font-weight: bold; text-align: right;\">5</td><td style = \"text-align: right;\">5</td><td style = \"text-align: right;\">0.317129</td><td style = \"text-align: right;\">1.73841</td><td style = \"text-align: right;\">0.963452</td></tr><tr><td class = \"rowNumber\" style = \"font-weight: bold; text-align: right;\">6</td><td style = \"text-align: right;\">6</td><td style = \"text-align: right;\">0.201625</td><td style = \"text-align: right;\">-0.0320905</td><td style = \"text-align: right;\">0.420871</td></tr><tr><td class = \"rowNumber\" style = \"font-weight: bold; text-align: right;\">7</td><td style = \"text-align: right;\">7</td><td style = \"text-align: right;\">0.166747</td><td style = \"text-align: right;\">0.386799</td><td style = \"text-align: right;\">0.728749</td></tr><tr><td class = \"rowNumber\" style = \"font-weight: bold; text-align: right;\">8</td><td style = \"text-align: right;\">8</td><td style = \"text-align: right;\">0.746656</td><td style = \"text-align: right;\">2.56994</td><td style = \"text-align: right;\">0.708707</td></tr><tr><td class = \"rowNumber\" style = \"font-weight: bold; text-align: right;\">9</td><td style = \"text-align: right;\">9</td><td style = \"text-align: right;\">0.37072</td><td style = \"text-align: right;\">-0.64911</td><td style = \"text-align: right;\">0.312758</td></tr><tr><td class = \"rowNumber\" style = \"font-weight: bold; text-align: right;\">10</td><td style = \"text-align: right;\">10</td><td style = \"text-align: right;\">0.193667</td><td style = \"text-align: right;\">1.52097</td><td style = \"text-align: right;\">0.324507</td></tr><tr><td class = \"rowNumber\" style = \"font-weight: bold; text-align: right;\">11</td><td style = \"text-align: right;\">11</td><td style = \"text-align: right;\">0.869397</td><td style = \"text-align: right;\">0.111308</td><td style = \"text-align: right;\">0.521918</td></tr><tr><td class = \"rowNumber\" style = \"font-weight: bold; text-align: right;\">12</td><td style = \"text-align: right;\">12</td><td style = \"text-align: right;\">0.972406</td><td style = \"text-align: right;\">0.420184</td><td style = \"text-align: right;\">0.779954</td></tr><tr><td class = \"rowNumber\" style = \"font-weight: bold; text-align: right;\">13</td><td style = \"text-align: right;\">13</td><td style = \"text-align: right;\">0.0985933</td><td style = \"text-align: right;\">-1.68366</td><td style = \"text-align: right;\">0.381342</td></tr><tr><td style = \"text-align: right;\">&vellip;</td><td style = \"text-align: right;\">&vellip;</td><td style = \"text-align: right;\">&vellip;</td><td style = \"text-align: right;\">&vellip;</td><td style = \"text-align: right;\">&vellip;</td></tr><tr><td class = \"rowNumber\" style = \"font-weight: bold; text-align: right;\">89</td><td style = \"text-align: right;\">89</td><td style = \"text-align: right;\">0.215146</td><td style = \"text-align: right;\">-0.692336</td><td style = \"text-align: right;\">0.46339</td></tr><tr><td class = \"rowNumber\" style = \"font-weight: bold; text-align: right;\">90</td><td style = \"text-align: right;\">90</td><td style = \"text-align: right;\">0.375501</td><td style = \"text-align: right;\">1.79626</td><td style = \"text-align: right;\">0.84538</td></tr><tr><td class = \"rowNumber\" style = \"font-weight: bold; text-align: right;\">91</td><td style = \"text-align: right;\">91</td><td style = \"text-align: right;\">0.601422</td><td style = \"text-align: right;\">0.583034</td><td style = \"text-align: right;\">0.888315</td></tr><tr><td class = \"rowNumber\" style = \"font-weight: bold; text-align: right;\">92</td><td style = \"text-align: right;\">92</td><td style = \"text-align: right;\">0.513466</td><td style = \"text-align: right;\">-1.72173</td><td style = \"text-align: right;\">0.787179</td></tr><tr><td class = \"rowNumber\" style = \"font-weight: bold; text-align: right;\">93</td><td style = \"text-align: right;\">93</td><td style = \"text-align: right;\">0.162463</td><td style = \"text-align: right;\">1.58919</td><td style = \"text-align: right;\">0.427621</td></tr><tr><td class = \"rowNumber\" style = \"font-weight: bold; text-align: right;\">94</td><td style = \"text-align: right;\">94</td><td style = \"text-align: right;\">0.183476</td><td style = \"text-align: right;\">0.46691</td><td style = \"text-align: right;\">0.780929</td></tr><tr><td class = \"rowNumber\" style = \"font-weight: bold; text-align: right;\">95</td><td style = \"text-align: right;\">95</td><td style = \"text-align: right;\">0.866707</td><td style = \"text-align: right;\">-2.20157</td><td style = \"text-align: right;\">0.20805</td></tr><tr><td class = \"rowNumber\" style = \"font-weight: bold; text-align: right;\">96</td><td style = \"text-align: right;\">96</td><td style = \"text-align: right;\">0.304393</td><td style = \"text-align: right;\">0.225218</td><td style = \"text-align: right;\">0.437397</td></tr><tr><td class = \"rowNumber\" style = \"font-weight: bold; text-align: right;\">97</td><td style = \"text-align: right;\">97</td><td style = \"text-align: right;\">0.605617</td><td style = \"text-align: right;\">-1.44536</td><td style = \"text-align: right;\">0.130834</td></tr><tr><td class = \"rowNumber\" style = \"font-weight: bold; text-align: right;\">98</td><td style = \"text-align: right;\">98</td><td style = \"text-align: right;\">0.789248</td><td style = \"text-align: right;\">-0.383216</td><td style = \"text-align: right;\">0.0751066</td></tr><tr><td class = \"rowNumber\" style = \"font-weight: bold; text-align: right;\">99</td><td style = \"text-align: right;\">99</td><td style = \"text-align: right;\">0.116929</td><td style = \"text-align: right;\">-0.69564</td><td style = \"text-align: right;\">0.956322</td></tr><tr><td class = \"rowNumber\" style = \"font-weight: bold; text-align: right;\">100</td><td style = \"text-align: right;\">100</td><td style = \"text-align: right;\">0.330077</td><td style = \"text-align: right;\">0.768729</td><td style = \"text-align: right;\">0.80458</td></tr></tbody></table></div>"
      ]
     },
     "metadata": {},
     "execution_count": 28
    }
   ],
   "cell_type": "code",
   "source": [
    "rename(data, :x => :xnew, :z => :znew)"
   ],
   "metadata": {},
   "execution_count": 28
  },
  {
   "outputs": [
    {
     "output_type": "execute_result",
     "data": {
      "text/plain": "\u001b[1m100×4 DataFrame\u001b[0m\n\u001b[1m Row \u001b[0m│\u001b[1m id    \u001b[0m\u001b[1m xnew      \u001b[0m\u001b[1m y          \u001b[0m\u001b[1m znew      \u001b[0m\n     │\u001b[90m Int64 \u001b[0m\u001b[90m Float64   \u001b[0m\u001b[90m Float64    \u001b[0m\u001b[90m Float64   \u001b[0m\n─────┼─────────────────────────────────────────\n   1 │     1  0.909167    1.10974    0.602754\n   2 │     2  0.347173   -1.50653    0.916813\n   3 │     3  0.825763    0.51689    0.702482\n   4 │     4  0.0488136   0.503437   0.821883\n   5 │     5  0.317129    1.73841    0.963452\n   6 │     6  0.201625   -0.0320905  0.420871\n   7 │     7  0.166747    0.386799   0.728749\n   8 │     8  0.746656    2.56994    0.708707\n  ⋮  │   ⋮        ⋮          ⋮           ⋮\n  94 │    94  0.183476    0.46691    0.780929\n  95 │    95  0.866707   -2.20157    0.20805\n  96 │    96  0.304393    0.225218   0.437397\n  97 │    97  0.605617   -1.44536    0.130834\n  98 │    98  0.789248   -0.383216   0.0751066\n  99 │    99  0.116929   -0.69564    0.956322\n 100 │   100  0.330077    0.768729   0.80458\n\u001b[36m                                85 rows omitted\u001b[0m",
      "text/html": [
       "<div><div style = \"float: left;\"><span>100×4 DataFrame</span></div><div style = \"float: right;\"><span style = \"font-style: italic;\">75 rows omitted</span></div><div style = \"clear: both;\"></div></div><div class = \"data-frame\" style = \"overflow-x: scroll;\"><table class = \"data-frame\" style = \"margin-bottom: 6px;\"><thead><tr class = \"header\"><th class = \"rowNumber\" style = \"font-weight: bold; text-align: right;\">Row</th><th style = \"text-align: left;\">id</th><th style = \"text-align: left;\">xnew</th><th style = \"text-align: left;\">y</th><th style = \"text-align: left;\">znew</th></tr><tr class = \"subheader headerLastRow\"><th class = \"rowNumber\" style = \"font-weight: bold; text-align: right;\"></th><th title = \"Int64\" style = \"text-align: left;\">Int64</th><th title = \"Float64\" style = \"text-align: left;\">Float64</th><th title = \"Float64\" style = \"text-align: left;\">Float64</th><th title = \"Float64\" style = \"text-align: left;\">Float64</th></tr></thead><tbody><tr><td class = \"rowNumber\" style = \"font-weight: bold; text-align: right;\">1</td><td style = \"text-align: right;\">1</td><td style = \"text-align: right;\">0.909167</td><td style = \"text-align: right;\">1.10974</td><td style = \"text-align: right;\">0.602754</td></tr><tr><td class = \"rowNumber\" style = \"font-weight: bold; text-align: right;\">2</td><td style = \"text-align: right;\">2</td><td style = \"text-align: right;\">0.347173</td><td style = \"text-align: right;\">-1.50653</td><td style = \"text-align: right;\">0.916813</td></tr><tr><td class = \"rowNumber\" style = \"font-weight: bold; text-align: right;\">3</td><td style = \"text-align: right;\">3</td><td style = \"text-align: right;\">0.825763</td><td style = \"text-align: right;\">0.51689</td><td style = \"text-align: right;\">0.702482</td></tr><tr><td class = \"rowNumber\" style = \"font-weight: bold; text-align: right;\">4</td><td style = \"text-align: right;\">4</td><td style = \"text-align: right;\">0.0488136</td><td style = \"text-align: right;\">0.503437</td><td style = \"text-align: right;\">0.821883</td></tr><tr><td class = \"rowNumber\" style = \"font-weight: bold; text-align: right;\">5</td><td style = \"text-align: right;\">5</td><td style = \"text-align: right;\">0.317129</td><td style = \"text-align: right;\">1.73841</td><td style = \"text-align: right;\">0.963452</td></tr><tr><td class = \"rowNumber\" style = \"font-weight: bold; text-align: right;\">6</td><td style = \"text-align: right;\">6</td><td style = \"text-align: right;\">0.201625</td><td style = \"text-align: right;\">-0.0320905</td><td style = \"text-align: right;\">0.420871</td></tr><tr><td class = \"rowNumber\" style = \"font-weight: bold; text-align: right;\">7</td><td style = \"text-align: right;\">7</td><td style = \"text-align: right;\">0.166747</td><td style = \"text-align: right;\">0.386799</td><td style = \"text-align: right;\">0.728749</td></tr><tr><td class = \"rowNumber\" style = \"font-weight: bold; text-align: right;\">8</td><td style = \"text-align: right;\">8</td><td style = \"text-align: right;\">0.746656</td><td style = \"text-align: right;\">2.56994</td><td style = \"text-align: right;\">0.708707</td></tr><tr><td class = \"rowNumber\" style = \"font-weight: bold; text-align: right;\">9</td><td style = \"text-align: right;\">9</td><td style = \"text-align: right;\">0.37072</td><td style = \"text-align: right;\">-0.64911</td><td style = \"text-align: right;\">0.312758</td></tr><tr><td class = \"rowNumber\" style = \"font-weight: bold; text-align: right;\">10</td><td style = \"text-align: right;\">10</td><td style = \"text-align: right;\">0.193667</td><td style = \"text-align: right;\">1.52097</td><td style = \"text-align: right;\">0.324507</td></tr><tr><td class = \"rowNumber\" style = \"font-weight: bold; text-align: right;\">11</td><td style = \"text-align: right;\">11</td><td style = \"text-align: right;\">0.869397</td><td style = \"text-align: right;\">0.111308</td><td style = \"text-align: right;\">0.521918</td></tr><tr><td class = \"rowNumber\" style = \"font-weight: bold; text-align: right;\">12</td><td style = \"text-align: right;\">12</td><td style = \"text-align: right;\">0.972406</td><td style = \"text-align: right;\">0.420184</td><td style = \"text-align: right;\">0.779954</td></tr><tr><td class = \"rowNumber\" style = \"font-weight: bold; text-align: right;\">13</td><td style = \"text-align: right;\">13</td><td style = \"text-align: right;\">0.0985933</td><td style = \"text-align: right;\">-1.68366</td><td style = \"text-align: right;\">0.381342</td></tr><tr><td style = \"text-align: right;\">&vellip;</td><td style = \"text-align: right;\">&vellip;</td><td style = \"text-align: right;\">&vellip;</td><td style = \"text-align: right;\">&vellip;</td><td style = \"text-align: right;\">&vellip;</td></tr><tr><td class = \"rowNumber\" style = \"font-weight: bold; text-align: right;\">89</td><td style = \"text-align: right;\">89</td><td style = \"text-align: right;\">0.215146</td><td style = \"text-align: right;\">-0.692336</td><td style = \"text-align: right;\">0.46339</td></tr><tr><td class = \"rowNumber\" style = \"font-weight: bold; text-align: right;\">90</td><td style = \"text-align: right;\">90</td><td style = \"text-align: right;\">0.375501</td><td style = \"text-align: right;\">1.79626</td><td style = \"text-align: right;\">0.84538</td></tr><tr><td class = \"rowNumber\" style = \"font-weight: bold; text-align: right;\">91</td><td style = \"text-align: right;\">91</td><td style = \"text-align: right;\">0.601422</td><td style = \"text-align: right;\">0.583034</td><td style = \"text-align: right;\">0.888315</td></tr><tr><td class = \"rowNumber\" style = \"font-weight: bold; text-align: right;\">92</td><td style = \"text-align: right;\">92</td><td style = \"text-align: right;\">0.513466</td><td style = \"text-align: right;\">-1.72173</td><td style = \"text-align: right;\">0.787179</td></tr><tr><td class = \"rowNumber\" style = \"font-weight: bold; text-align: right;\">93</td><td style = \"text-align: right;\">93</td><td style = \"text-align: right;\">0.162463</td><td style = \"text-align: right;\">1.58919</td><td style = \"text-align: right;\">0.427621</td></tr><tr><td class = \"rowNumber\" style = \"font-weight: bold; text-align: right;\">94</td><td style = \"text-align: right;\">94</td><td style = \"text-align: right;\">0.183476</td><td style = \"text-align: right;\">0.46691</td><td style = \"text-align: right;\">0.780929</td></tr><tr><td class = \"rowNumber\" style = \"font-weight: bold; text-align: right;\">95</td><td style = \"text-align: right;\">95</td><td style = \"text-align: right;\">0.866707</td><td style = \"text-align: right;\">-2.20157</td><td style = \"text-align: right;\">0.20805</td></tr><tr><td class = \"rowNumber\" style = \"font-weight: bold; text-align: right;\">96</td><td style = \"text-align: right;\">96</td><td style = \"text-align: right;\">0.304393</td><td style = \"text-align: right;\">0.225218</td><td style = \"text-align: right;\">0.437397</td></tr><tr><td class = \"rowNumber\" style = \"font-weight: bold; text-align: right;\">97</td><td style = \"text-align: right;\">97</td><td style = \"text-align: right;\">0.605617</td><td style = \"text-align: right;\">-1.44536</td><td style = \"text-align: right;\">0.130834</td></tr><tr><td class = \"rowNumber\" style = \"font-weight: bold; text-align: right;\">98</td><td style = \"text-align: right;\">98</td><td style = \"text-align: right;\">0.789248</td><td style = \"text-align: right;\">-0.383216</td><td style = \"text-align: right;\">0.0751066</td></tr><tr><td class = \"rowNumber\" style = \"font-weight: bold; text-align: right;\">99</td><td style = \"text-align: right;\">99</td><td style = \"text-align: right;\">0.116929</td><td style = \"text-align: right;\">-0.69564</td><td style = \"text-align: right;\">0.956322</td></tr><tr><td class = \"rowNumber\" style = \"font-weight: bold; text-align: right;\">100</td><td style = \"text-align: right;\">100</td><td style = \"text-align: right;\">0.330077</td><td style = \"text-align: right;\">0.768729</td><td style = \"text-align: right;\">0.80458</td></tr></tbody></table></div>"
      ]
     },
     "metadata": {},
     "execution_count": 29
    }
   ],
   "cell_type": "code",
   "source": [
    "rename(data, [:x, :z] .=> [:xnew, :znew])"
   ],
   "metadata": {},
   "execution_count": 29
  },
  {
   "outputs": [
    {
     "output_type": "execute_result",
     "data": {
      "text/plain": "\u001b[1m100×4 DataFrame\u001b[0m\n\u001b[1m Row \u001b[0m│\u001b[1m id_new \u001b[0m\u001b[1m x_new     \u001b[0m\u001b[1m y_new      \u001b[0m\u001b[1m z_new     \u001b[0m\n     │\u001b[90m Int64  \u001b[0m\u001b[90m Float64   \u001b[0m\u001b[90m Float64    \u001b[0m\u001b[90m Float64   \u001b[0m\n─────┼──────────────────────────────────────────\n   1 │      1  0.909167    1.10974    0.602754\n   2 │      2  0.347173   -1.50653    0.916813\n   3 │      3  0.825763    0.51689    0.702482\n   4 │      4  0.0488136   0.503437   0.821883\n   5 │      5  0.317129    1.73841    0.963452\n   6 │      6  0.201625   -0.0320905  0.420871\n   7 │      7  0.166747    0.386799   0.728749\n   8 │      8  0.746656    2.56994    0.708707\n  ⋮  │   ⋮         ⋮          ⋮           ⋮\n  94 │     94  0.183476    0.46691    0.780929\n  95 │     95  0.866707   -2.20157    0.20805\n  96 │     96  0.304393    0.225218   0.437397\n  97 │     97  0.605617   -1.44536    0.130834\n  98 │     98  0.789248   -0.383216   0.0751066\n  99 │     99  0.116929   -0.69564    0.956322\n 100 │    100  0.330077    0.768729   0.80458\n\u001b[36m                                 85 rows omitted\u001b[0m",
      "text/html": [
       "<div><div style = \"float: left;\"><span>100×4 DataFrame</span></div><div style = \"float: right;\"><span style = \"font-style: italic;\">75 rows omitted</span></div><div style = \"clear: both;\"></div></div><div class = \"data-frame\" style = \"overflow-x: scroll;\"><table class = \"data-frame\" style = \"margin-bottom: 6px;\"><thead><tr class = \"header\"><th class = \"rowNumber\" style = \"font-weight: bold; text-align: right;\">Row</th><th style = \"text-align: left;\">id_new</th><th style = \"text-align: left;\">x_new</th><th style = \"text-align: left;\">y_new</th><th style = \"text-align: left;\">z_new</th></tr><tr class = \"subheader headerLastRow\"><th class = \"rowNumber\" style = \"font-weight: bold; text-align: right;\"></th><th title = \"Int64\" style = \"text-align: left;\">Int64</th><th title = \"Float64\" style = \"text-align: left;\">Float64</th><th title = \"Float64\" style = \"text-align: left;\">Float64</th><th title = \"Float64\" style = \"text-align: left;\">Float64</th></tr></thead><tbody><tr><td class = \"rowNumber\" style = \"font-weight: bold; text-align: right;\">1</td><td style = \"text-align: right;\">1</td><td style = \"text-align: right;\">0.909167</td><td style = \"text-align: right;\">1.10974</td><td style = \"text-align: right;\">0.602754</td></tr><tr><td class = \"rowNumber\" style = \"font-weight: bold; text-align: right;\">2</td><td style = \"text-align: right;\">2</td><td style = \"text-align: right;\">0.347173</td><td style = \"text-align: right;\">-1.50653</td><td style = \"text-align: right;\">0.916813</td></tr><tr><td class = \"rowNumber\" style = \"font-weight: bold; text-align: right;\">3</td><td style = \"text-align: right;\">3</td><td style = \"text-align: right;\">0.825763</td><td style = \"text-align: right;\">0.51689</td><td style = \"text-align: right;\">0.702482</td></tr><tr><td class = \"rowNumber\" style = \"font-weight: bold; text-align: right;\">4</td><td style = \"text-align: right;\">4</td><td style = \"text-align: right;\">0.0488136</td><td style = \"text-align: right;\">0.503437</td><td style = \"text-align: right;\">0.821883</td></tr><tr><td class = \"rowNumber\" style = \"font-weight: bold; text-align: right;\">5</td><td style = \"text-align: right;\">5</td><td style = \"text-align: right;\">0.317129</td><td style = \"text-align: right;\">1.73841</td><td style = \"text-align: right;\">0.963452</td></tr><tr><td class = \"rowNumber\" style = \"font-weight: bold; text-align: right;\">6</td><td style = \"text-align: right;\">6</td><td style = \"text-align: right;\">0.201625</td><td style = \"text-align: right;\">-0.0320905</td><td style = \"text-align: right;\">0.420871</td></tr><tr><td class = \"rowNumber\" style = \"font-weight: bold; text-align: right;\">7</td><td style = \"text-align: right;\">7</td><td style = \"text-align: right;\">0.166747</td><td style = \"text-align: right;\">0.386799</td><td style = \"text-align: right;\">0.728749</td></tr><tr><td class = \"rowNumber\" style = \"font-weight: bold; text-align: right;\">8</td><td style = \"text-align: right;\">8</td><td style = \"text-align: right;\">0.746656</td><td style = \"text-align: right;\">2.56994</td><td style = \"text-align: right;\">0.708707</td></tr><tr><td class = \"rowNumber\" style = \"font-weight: bold; text-align: right;\">9</td><td style = \"text-align: right;\">9</td><td style = \"text-align: right;\">0.37072</td><td style = \"text-align: right;\">-0.64911</td><td style = \"text-align: right;\">0.312758</td></tr><tr><td class = \"rowNumber\" style = \"font-weight: bold; text-align: right;\">10</td><td style = \"text-align: right;\">10</td><td style = \"text-align: right;\">0.193667</td><td style = \"text-align: right;\">1.52097</td><td style = \"text-align: right;\">0.324507</td></tr><tr><td class = \"rowNumber\" style = \"font-weight: bold; text-align: right;\">11</td><td style = \"text-align: right;\">11</td><td style = \"text-align: right;\">0.869397</td><td style = \"text-align: right;\">0.111308</td><td style = \"text-align: right;\">0.521918</td></tr><tr><td class = \"rowNumber\" style = \"font-weight: bold; text-align: right;\">12</td><td style = \"text-align: right;\">12</td><td style = \"text-align: right;\">0.972406</td><td style = \"text-align: right;\">0.420184</td><td style = \"text-align: right;\">0.779954</td></tr><tr><td class = \"rowNumber\" style = \"font-weight: bold; text-align: right;\">13</td><td style = \"text-align: right;\">13</td><td style = \"text-align: right;\">0.0985933</td><td style = \"text-align: right;\">-1.68366</td><td style = \"text-align: right;\">0.381342</td></tr><tr><td style = \"text-align: right;\">&vellip;</td><td style = \"text-align: right;\">&vellip;</td><td style = \"text-align: right;\">&vellip;</td><td style = \"text-align: right;\">&vellip;</td><td style = \"text-align: right;\">&vellip;</td></tr><tr><td class = \"rowNumber\" style = \"font-weight: bold; text-align: right;\">89</td><td style = \"text-align: right;\">89</td><td style = \"text-align: right;\">0.215146</td><td style = \"text-align: right;\">-0.692336</td><td style = \"text-align: right;\">0.46339</td></tr><tr><td class = \"rowNumber\" style = \"font-weight: bold; text-align: right;\">90</td><td style = \"text-align: right;\">90</td><td style = \"text-align: right;\">0.375501</td><td style = \"text-align: right;\">1.79626</td><td style = \"text-align: right;\">0.84538</td></tr><tr><td class = \"rowNumber\" style = \"font-weight: bold; text-align: right;\">91</td><td style = \"text-align: right;\">91</td><td style = \"text-align: right;\">0.601422</td><td style = \"text-align: right;\">0.583034</td><td style = \"text-align: right;\">0.888315</td></tr><tr><td class = \"rowNumber\" style = \"font-weight: bold; text-align: right;\">92</td><td style = \"text-align: right;\">92</td><td style = \"text-align: right;\">0.513466</td><td style = \"text-align: right;\">-1.72173</td><td style = \"text-align: right;\">0.787179</td></tr><tr><td class = \"rowNumber\" style = \"font-weight: bold; text-align: right;\">93</td><td style = \"text-align: right;\">93</td><td style = \"text-align: right;\">0.162463</td><td style = \"text-align: right;\">1.58919</td><td style = \"text-align: right;\">0.427621</td></tr><tr><td class = \"rowNumber\" style = \"font-weight: bold; text-align: right;\">94</td><td style = \"text-align: right;\">94</td><td style = \"text-align: right;\">0.183476</td><td style = \"text-align: right;\">0.46691</td><td style = \"text-align: right;\">0.780929</td></tr><tr><td class = \"rowNumber\" style = \"font-weight: bold; text-align: right;\">95</td><td style = \"text-align: right;\">95</td><td style = \"text-align: right;\">0.866707</td><td style = \"text-align: right;\">-2.20157</td><td style = \"text-align: right;\">0.20805</td></tr><tr><td class = \"rowNumber\" style = \"font-weight: bold; text-align: right;\">96</td><td style = \"text-align: right;\">96</td><td style = \"text-align: right;\">0.304393</td><td style = \"text-align: right;\">0.225218</td><td style = \"text-align: right;\">0.437397</td></tr><tr><td class = \"rowNumber\" style = \"font-weight: bold; text-align: right;\">97</td><td style = \"text-align: right;\">97</td><td style = \"text-align: right;\">0.605617</td><td style = \"text-align: right;\">-1.44536</td><td style = \"text-align: right;\">0.130834</td></tr><tr><td class = \"rowNumber\" style = \"font-weight: bold; text-align: right;\">98</td><td style = \"text-align: right;\">98</td><td style = \"text-align: right;\">0.789248</td><td style = \"text-align: right;\">-0.383216</td><td style = \"text-align: right;\">0.0751066</td></tr><tr><td class = \"rowNumber\" style = \"font-weight: bold; text-align: right;\">99</td><td style = \"text-align: right;\">99</td><td style = \"text-align: right;\">0.116929</td><td style = \"text-align: right;\">-0.69564</td><td style = \"text-align: right;\">0.956322</td></tr><tr><td class = \"rowNumber\" style = \"font-weight: bold; text-align: right;\">100</td><td style = \"text-align: right;\">100</td><td style = \"text-align: right;\">0.330077</td><td style = \"text-align: right;\">0.768729</td><td style = \"text-align: right;\">0.80458</td></tr></tbody></table></div>"
      ]
     },
     "metadata": {},
     "execution_count": 30
    }
   ],
   "cell_type": "code",
   "source": [
    "rename(var -> var * \"_new\", data)"
   ],
   "metadata": {},
   "execution_count": 30
  },
  {
   "cell_type": "markdown",
   "source": [
    "Remember to use `rename!` to actually make the changes on the original dataset."
   ],
   "metadata": {}
  },
  {
   "cell_type": "markdown",
   "source": [
    "---\n",
    "\n",
    "*This notebook was generated using [Literate.jl](https://github.com/fredrikekre/Literate.jl).*"
   ],
   "metadata": {}
  }
 ],
 "nbformat_minor": 3,
 "metadata": {
  "language_info": {
   "file_extension": ".jl",
   "mimetype": "application/julia",
   "name": "julia",
   "version": "1.9.3"
  },
  "kernelspec": {
   "name": "julia-1.9",
   "display_name": "Julia 1.9.3",
   "language": "julia"
  }
 },
 "nbformat": 4
}
