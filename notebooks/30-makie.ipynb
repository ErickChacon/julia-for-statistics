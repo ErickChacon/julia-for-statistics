{
 "cells": [
  {
   "cell_type": "markdown",
   "source": [
    "# Visualize with Makie"
   ],
   "metadata": {}
  },
  {
   "cell_type": "markdown",
   "source": [
    "## Basic Makie"
   ],
   "metadata": {}
  },
  {
   "outputs": [
    {
     "output_type": "execute_result",
     "data": {
      "text/plain": "\u001b[1m100×3 DataFrame\n\u001b[1m Row │\u001b[1m id    \u001b[1m x         \u001b[1m y\n     │\u001b[90m Int64 \u001b[90m Float64   \u001b[90m Float64\n─────┼─────────────────────────────\n   1 │     1  0.120905   0.52338\n   2 │     2  0.16501    0.77903\n   3 │     3  0.254897   0.938276\n   4 │     4  0.697232   0.230076\n   5 │     5  0.737533   0.178688\n   6 │     6  0.593539   0.759423\n   7 │     7  0.076987   0.246096\n   8 │     8  0.5973     0.924726\n  ⋮  │   ⋮        ⋮          ⋮\n  94 │    94  0.58206    0.678626\n  95 │    95  0.0232562  0.754396\n  96 │    96  0.442896   0.507275\n  97 │    97  0.0734952  0.803588\n  98 │    98  0.277172   0.748842\n  99 │    99  0.850974   0.292394\n 100 │   100  0.189201   0.0214497\n\u001b[36m                    85 rows omitted",
      "text/html": [
       "<div><div style = \"float: left;\"><span>100×3 DataFrame</span></div><div style = \"float: right;\"><span style = \"font-style: italic;\">75 rows omitted</span></div><div style = \"clear: both;\"></div></div><div class = \"data-frame\" style = \"overflow-x: scroll;\"><table class = \"data-frame\" style = \"margin-bottom: 6px;\"><thead><tr class = \"header\"><th class = \"rowNumber\" style = \"font-weight: bold; text-align: right;\">Row</th><th style = \"text-align: left;\">id</th><th style = \"text-align: left;\">x</th><th style = \"text-align: left;\">y</th></tr><tr class = \"subheader headerLastRow\"><th class = \"rowNumber\" style = \"font-weight: bold; text-align: right;\"></th><th title = \"Int64\" style = \"text-align: left;\">Int64</th><th title = \"Float64\" style = \"text-align: left;\">Float64</th><th title = \"Float64\" style = \"text-align: left;\">Float64</th></tr></thead><tbody><tr><td class = \"rowNumber\" style = \"font-weight: bold; text-align: right;\">1</td><td style = \"text-align: right;\">1</td><td style = \"text-align: right;\">0.120905</td><td style = \"text-align: right;\">0.52338</td></tr><tr><td class = \"rowNumber\" style = \"font-weight: bold; text-align: right;\">2</td><td style = \"text-align: right;\">2</td><td style = \"text-align: right;\">0.16501</td><td style = \"text-align: right;\">0.77903</td></tr><tr><td class = \"rowNumber\" style = \"font-weight: bold; text-align: right;\">3</td><td style = \"text-align: right;\">3</td><td style = \"text-align: right;\">0.254897</td><td style = \"text-align: right;\">0.938276</td></tr><tr><td class = \"rowNumber\" style = \"font-weight: bold; text-align: right;\">4</td><td style = \"text-align: right;\">4</td><td style = \"text-align: right;\">0.697232</td><td style = \"text-align: right;\">0.230076</td></tr><tr><td class = \"rowNumber\" style = \"font-weight: bold; text-align: right;\">5</td><td style = \"text-align: right;\">5</td><td style = \"text-align: right;\">0.737533</td><td style = \"text-align: right;\">0.178688</td></tr><tr><td class = \"rowNumber\" style = \"font-weight: bold; text-align: right;\">6</td><td style = \"text-align: right;\">6</td><td style = \"text-align: right;\">0.593539</td><td style = \"text-align: right;\">0.759423</td></tr><tr><td class = \"rowNumber\" style = \"font-weight: bold; text-align: right;\">7</td><td style = \"text-align: right;\">7</td><td style = \"text-align: right;\">0.076987</td><td style = \"text-align: right;\">0.246096</td></tr><tr><td class = \"rowNumber\" style = \"font-weight: bold; text-align: right;\">8</td><td style = \"text-align: right;\">8</td><td style = \"text-align: right;\">0.5973</td><td style = \"text-align: right;\">0.924726</td></tr><tr><td class = \"rowNumber\" style = \"font-weight: bold; text-align: right;\">9</td><td style = \"text-align: right;\">9</td><td style = \"text-align: right;\">0.142266</td><td style = \"text-align: right;\">0.517901</td></tr><tr><td class = \"rowNumber\" style = \"font-weight: bold; text-align: right;\">10</td><td style = \"text-align: right;\">10</td><td style = \"text-align: right;\">0.138939</td><td style = \"text-align: right;\">0.457972</td></tr><tr><td class = \"rowNumber\" style = \"font-weight: bold; text-align: right;\">11</td><td style = \"text-align: right;\">11</td><td style = \"text-align: right;\">0.676689</td><td style = \"text-align: right;\">0.590793</td></tr><tr><td class = \"rowNumber\" style = \"font-weight: bold; text-align: right;\">12</td><td style = \"text-align: right;\">12</td><td style = \"text-align: right;\">0.293245</td><td style = \"text-align: right;\">0.323989</td></tr><tr><td class = \"rowNumber\" style = \"font-weight: bold; text-align: right;\">13</td><td style = \"text-align: right;\">13</td><td style = \"text-align: right;\">0.89783</td><td style = \"text-align: right;\">0.273579</td></tr><tr><td style = \"text-align: right;\">&vellip;</td><td style = \"text-align: right;\">&vellip;</td><td style = \"text-align: right;\">&vellip;</td><td style = \"text-align: right;\">&vellip;</td></tr><tr><td class = \"rowNumber\" style = \"font-weight: bold; text-align: right;\">89</td><td style = \"text-align: right;\">89</td><td style = \"text-align: right;\">0.361518</td><td style = \"text-align: right;\">0.857256</td></tr><tr><td class = \"rowNumber\" style = \"font-weight: bold; text-align: right;\">90</td><td style = \"text-align: right;\">90</td><td style = \"text-align: right;\">0.184324</td><td style = \"text-align: right;\">0.529409</td></tr><tr><td class = \"rowNumber\" style = \"font-weight: bold; text-align: right;\">91</td><td style = \"text-align: right;\">91</td><td style = \"text-align: right;\">0.0300352</td><td style = \"text-align: right;\">0.233973</td></tr><tr><td class = \"rowNumber\" style = \"font-weight: bold; text-align: right;\">92</td><td style = \"text-align: right;\">92</td><td style = \"text-align: right;\">0.264376</td><td style = \"text-align: right;\">0.298883</td></tr><tr><td class = \"rowNumber\" style = \"font-weight: bold; text-align: right;\">93</td><td style = \"text-align: right;\">93</td><td style = \"text-align: right;\">0.213695</td><td style = \"text-align: right;\">0.589456</td></tr><tr><td class = \"rowNumber\" style = \"font-weight: bold; text-align: right;\">94</td><td style = \"text-align: right;\">94</td><td style = \"text-align: right;\">0.58206</td><td style = \"text-align: right;\">0.678626</td></tr><tr><td class = \"rowNumber\" style = \"font-weight: bold; text-align: right;\">95</td><td style = \"text-align: right;\">95</td><td style = \"text-align: right;\">0.0232562</td><td style = \"text-align: right;\">0.754396</td></tr><tr><td class = \"rowNumber\" style = \"font-weight: bold; text-align: right;\">96</td><td style = \"text-align: right;\">96</td><td style = \"text-align: right;\">0.442896</td><td style = \"text-align: right;\">0.507275</td></tr><tr><td class = \"rowNumber\" style = \"font-weight: bold; text-align: right;\">97</td><td style = \"text-align: right;\">97</td><td style = \"text-align: right;\">0.0734952</td><td style = \"text-align: right;\">0.803588</td></tr><tr><td class = \"rowNumber\" style = \"font-weight: bold; text-align: right;\">98</td><td style = \"text-align: right;\">98</td><td style = \"text-align: right;\">0.277172</td><td style = \"text-align: right;\">0.748842</td></tr><tr><td class = \"rowNumber\" style = \"font-weight: bold; text-align: right;\">99</td><td style = \"text-align: right;\">99</td><td style = \"text-align: right;\">0.850974</td><td style = \"text-align: right;\">0.292394</td></tr><tr><td class = \"rowNumber\" style = \"font-weight: bold; text-align: right;\">100</td><td style = \"text-align: right;\">100</td><td style = \"text-align: right;\">0.189201</td><td style = \"text-align: right;\">0.0214497</td></tr></tbody></table></div>"
      ]
     },
     "metadata": {},
     "execution_count": 1
    }
   ],
   "cell_type": "code",
   "source": [
    "using DataFrames\n",
    "import CairoMakie as MK\n",
    "using AlgebraOfGraphics\n",
    "\n",
    "df = DataFrame(id = 1:100, x = rand(100), y = rand(100))"
   ],
   "metadata": {},
   "execution_count": 1
  },
  {
   "outputs": [
    {
     "output_type": "execute_result",
     "data": {
      "text/plain": "CairoMakie.Screen{PDF}\n"
     },
     "metadata": {},
     "execution_count": 2
    }
   ],
   "cell_type": "code",
   "source": [
    "fig = MK.lines(df.x, df.y)\n",
    "MK.scatter!(df.x, df.y, color = :red)\n",
    "MK.save(\"makie.pdf\", fig) # src"
   ],
   "metadata": {},
   "execution_count": 2
  },
  {
   "outputs": [
    {
     "output_type": "execute_result",
     "data": {
      "text/plain": "CairoMakie.Screen{PDF}\n"
     },
     "metadata": {},
     "execution_count": 3
    }
   ],
   "cell_type": "code",
   "source": [
    "fig = MK.Figure(backgroundcolor = :tomato)\n",
    "MK.Axis(fig[1,1], title = \"First figure\")\n",
    "MK.scatter!(df.x, df.y, color = :red)\n",
    "MK.Axis(fig[1,2], title = \"Second figure\")\n",
    "MK.lines!(df.x, df.y, color = :blue)\n",
    "MK.save(\"makie.pdf\", fig) # src"
   ],
   "metadata": {},
   "execution_count": 3
  },
  {
   "outputs": [
    {
     "output_type": "execute_result",
     "data": {
      "text/plain": "CairoMakie.Screen{PDF}\n"
     },
     "metadata": {},
     "execution_count": 4
    }
   ],
   "cell_type": "code",
   "source": [
    "fig = MK.scatter(df.x, df.y, color = :red, label = \"group 1\")\n",
    "MK.scatter!(rand(100), rand(100), color = :blue, label = \"group 2\")\n",
    "MK.axislegend()\n",
    "MK.save(\"makie.pdf\", fig) # src"
   ],
   "metadata": {},
   "execution_count": 4
  },
  {
   "outputs": [
    {
     "output_type": "execute_result",
     "data": {
      "text/plain": "CairoMakie.Screen{PDF}\n"
     },
     "metadata": {},
     "execution_count": 5
    }
   ],
   "cell_type": "code",
   "source": [
    "X = rand(100, 80)\n",
    "\n",
    "fig, ax, hm = MK.heatmap(X, colormap = MK.Reverse(:RdBu))\n",
    "MK.Colorbar(fig[1,2], hm)\n",
    "MK.save(\"makie.pdf\", fig) # src"
   ],
   "metadata": {},
   "execution_count": 5
  },
  {
   "cell_type": "markdown",
   "source": [
    "## Algebra of Graphics"
   ],
   "metadata": {}
  },
  {
   "outputs": [
    {
     "output_type": "execute_result",
     "data": {
      "text/plain": "100-element Vector{String}:\n \"2\"\n \"1\"\n \"2\"\n \"2\"\n \"2\"\n \"4\"\n \"2\"\n \"3\"\n \"2\"\n \"4\"\n ⋮\n \"1\"\n \"3\"\n \"4\"\n \"1\"\n \"2\"\n \"3\"\n \"2\"\n \"4\"\n \"4\""
     },
     "metadata": {},
     "execution_count": 6
    }
   ],
   "cell_type": "code",
   "source": [
    "df.group = rand(string.(1:4), 100)"
   ],
   "metadata": {},
   "execution_count": 6
  },
  {
   "outputs": [
    {
     "output_type": "execute_result",
     "data": {
      "text/plain": "CairoMakie.Screen{PDF}\n"
     },
     "metadata": {},
     "execution_count": 7
    }
   ],
   "cell_type": "code",
   "source": [
    "g = data(df) * mapping(:x, :y) * visual(MK.Scatter)\n",
    "fig = draw(g)\n",
    "MK.save(\"makie.pdf\", fig) # src"
   ],
   "metadata": {},
   "execution_count": 7
  },
  {
   "outputs": [
    {
     "output_type": "execute_result",
     "data": {
      "text/plain": "CairoMakie.Screen{PDF}\n"
     },
     "metadata": {},
     "execution_count": 8
    }
   ],
   "cell_type": "code",
   "source": [
    "g = data(df) * mapping(:x, :y) * visual(MK.Lines, color = :red)\n",
    "fig = draw(g)\n",
    "MK.save(\"makie.pdf\", fig) # src"
   ],
   "metadata": {},
   "execution_count": 8
  },
  {
   "outputs": [
    {
     "output_type": "execute_result",
     "data": {
      "text/plain": "CairoMakie.Screen{PDF}\n"
     },
     "metadata": {},
     "execution_count": 9
    }
   ],
   "cell_type": "code",
   "source": [
    "g = data(df) * mapping(:x, :y, color = :group) *\n",
    "    (visual(MK.Scatter) + visual(MK.Lines))\n",
    "fig = draw(g)\n",
    "MK.save(\"makie.pdf\", fig) # src"
   ],
   "metadata": {},
   "execution_count": 9
  },
  {
   "outputs": [
    {
     "output_type": "execute_result",
     "data": {
      "text/plain": "CairoMakie.Screen{PDF}\n"
     },
     "metadata": {},
     "execution_count": 10
    }
   ],
   "cell_type": "code",
   "source": [
    "g = data(df) * mapping(:x, :y, layout = :group, color = :group) *\n",
    "    (visual(MK.Scatter) + visual(MK.Lines))\n",
    "fig = draw(g)\n",
    "MK.save(\"makie.pdf\", fig) # src"
   ],
   "metadata": {},
   "execution_count": 10
  },
  {
   "cell_type": "markdown",
   "source": [
    "---\n",
    "\n",
    "*This notebook was generated using [Literate.jl](https://github.com/fredrikekre/Literate.jl).*"
   ],
   "metadata": {}
  }
 ],
 "nbformat_minor": 3,
 "metadata": {
  "language_info": {
   "file_extension": ".jl",
   "mimetype": "application/julia",
   "name": "julia",
   "version": "1.9.1"
  },
  "kernelspec": {
   "name": "julia-1.9",
   "display_name": "Julia 1.9.1",
   "language": "julia"
  }
 },
 "nbformat": 4
}
