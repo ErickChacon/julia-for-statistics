{
 "cells": [
  {
   "cell_type": "markdown",
   "source": [
    "## Functions\n",
    "A function is an object mapping a tuple of arguments to a return value.\n",
    "\n",
    "### Basic syntax\n",
    "\n",
    "A block with definition, body and return"
   ],
   "metadata": {}
  },
  {
   "outputs": [
    {
     "output_type": "execute_result",
     "data": {
      "text/plain": "4"
     },
     "metadata": {},
     "execution_count": 1
    }
   ],
   "cell_type": "code",
   "source": [
    "function f(x, y)\n",
    "  return x + y\n",
    "end\n",
    "f(1, 3)"
   ],
   "metadata": {},
   "execution_count": 1
  },
  {
   "cell_type": "markdown",
   "source": [
    "When return is omited, the return value is the last evaluated expression"
   ],
   "metadata": {}
  },
  {
   "outputs": [
    {
     "output_type": "execute_result",
     "data": {
      "text/plain": "4"
     },
     "metadata": {},
     "execution_count": 2
    }
   ],
   "cell_type": "code",
   "source": [
    "function f(x, y)\n",
    "  x + y\n",
    "end\n",
    "f(1, 3)"
   ],
   "metadata": {},
   "execution_count": 2
  },
  {
   "cell_type": "markdown",
   "source": [
    "A simpler approach for short functions"
   ],
   "metadata": {}
  },
  {
   "outputs": [
    {
     "output_type": "execute_result",
     "data": {
      "text/plain": "4"
     },
     "metadata": {},
     "execution_count": 3
    }
   ],
   "cell_type": "code",
   "source": [
    "f(x, y) = x + y\n",
    "f(1, 3)"
   ],
   "metadata": {},
   "execution_count": 3
  },
  {
   "cell_type": "markdown",
   "source": [
    "It is possible to use unicode names"
   ],
   "metadata": {}
  },
  {
   "outputs": [
    {
     "output_type": "execute_result",
     "data": {
      "text/plain": "4"
     },
     "metadata": {},
     "execution_count": 4
    }
   ],
   "cell_type": "code",
   "source": [
    "γ(x, y) = x + y\n",
    "γ(1, 3)"
   ],
   "metadata": {},
   "execution_count": 4
  },
  {
   "cell_type": "markdown",
   "source": [
    "Anonymous functions that are useful for functional programming"
   ],
   "metadata": {}
  },
  {
   "outputs": [
    {
     "output_type": "execute_result",
     "data": {
      "text/plain": "3-element Vector{Int64}:\n  2\n 14\n -2"
     },
     "metadata": {},
     "execution_count": 5
    }
   ],
   "cell_type": "code",
   "source": [
    "map(x -> x^2 + 2x - 1, [1, 3, -1])"
   ],
   "metadata": {},
   "execution_count": 5
  },
  {
   "cell_type": "markdown",
   "source": [
    "### Return\n",
    "\n",
    "We can define the output type of the function"
   ],
   "metadata": {}
  },
  {
   "outputs": [
    {
     "output_type": "execute_result",
     "data": {
      "text/plain": "Int8"
     },
     "metadata": {},
     "execution_count": 6
    }
   ],
   "cell_type": "code",
   "source": [
    "function g(x, y)::Int8\n",
    "    return x * y\n",
    "end\n",
    "typeof(g(3, 2))"
   ],
   "metadata": {},
   "execution_count": 6
  },
  {
   "cell_type": "markdown",
   "source": [
    "It is a convention to return nothing when the function does not need to return a value"
   ],
   "metadata": {}
  },
  {
   "outputs": [
    {
     "name": "stdout",
     "output_type": "stream",
     "text": [
      "x = 10.0\n"
     ]
    }
   ],
   "cell_type": "code",
   "source": [
    "function printx(x)\n",
    "    println(\"x = $x\")\n",
    "    return nothing\n",
    "end\n",
    "printx(10.0)"
   ],
   "metadata": {},
   "execution_count": 7
  },
  {
   "cell_type": "markdown",
   "source": [
    "Multiple values can be returned (tuple)"
   ],
   "metadata": {}
  },
  {
   "outputs": [
    {
     "output_type": "execute_result",
     "data": {
      "text/plain": "(3.0, 2.0)"
     },
     "metadata": {},
     "execution_count": 8
    }
   ],
   "cell_type": "code",
   "source": [
    "function maxmin(x, y)\n",
    "    return max(x, y), min(x, y)\n",
    "end\n",
    "maxmin(2, 3.0)\n",
    "typeof(maxmin(2, 3.0))\n",
    "a, b = maxmin(2, 3.0)"
   ],
   "metadata": {},
   "execution_count": 8
  },
  {
   "cell_type": "markdown",
   "source": [
    "### Varargs functions\n",
    "\n",
    "Functions with a variable number of arguments"
   ],
   "metadata": {}
  },
  {
   "outputs": [
    {
     "output_type": "execute_result",
     "data": {
      "text/plain": "(1, 2, (3, 4))"
     },
     "metadata": {},
     "execution_count": 9
    }
   ],
   "cell_type": "code",
   "source": [
    "bar(a, b, x...) = (a, b, x)\n",
    "\n",
    "bar(1, 2)\n",
    "bar(1, 2, 3)\n",
    "bar(1, 2, 3, 4)\n",
    "\n",
    "x = (3, 4)\n",
    "bar(1, 2, x...) # splat tuple or array appending ...\n",
    "x = [3, 4]\n",
    "bar(1, 2, x...) # splat tuple or array appending ..."
   ],
   "metadata": {},
   "execution_count": 9
  },
  {
   "cell_type": "markdown",
   "source": [
    "This also works for\n",
    "\n",
    "\n",
    "### Operators are functions"
   ],
   "metadata": {}
  },
  {
   "outputs": [
    {
     "output_type": "execute_result",
     "data": {
      "text/plain": "3-element Vector{Int64}:\n 1\n 4\n 9"
     },
     "metadata": {},
     "execution_count": 10
    }
   ],
   "cell_type": "code",
   "source": [
    "1 + 2 + 3\n",
    "+(1, 2, 3)\n",
    "mysum = +; mysum(1, 2, 3)\n",
    "\n",
    "f1(x) = x^2\n",
    "f1.([1, 2, 3])"
   ],
   "metadata": {},
   "execution_count": 10
  },
  {
   "cell_type": "markdown",
   "source": [
    "- Tuple"
   ],
   "metadata": {}
  },
  {
   "outputs": [
    {
     "output_type": "execute_result",
     "data": {
      "text/plain": "1"
     },
     "metadata": {},
     "execution_count": 11
    }
   ],
   "cell_type": "code",
   "source": [
    "x = (0xe01, 1 + 1, \"hello\", 'x')\n",
    "typeof(x)\n",
    "\n",
    "x = (a = 1, b = \"me\")\n",
    "x.a"
   ],
   "metadata": {},
   "execution_count": 11
  },
  {
   "cell_type": "markdown",
   "source": [
    "- Multiple return values"
   ],
   "metadata": {}
  },
  {
   "outputs": [
    {
     "output_type": "execute_result",
     "data": {
      "text/plain": "(5, -1)"
     },
     "metadata": {},
     "execution_count": 12
    }
   ],
   "cell_type": "code",
   "source": [
    "function foo(a, b)\n",
    "    a + b, a - b\n",
    "end\n",
    "foo(2, 3)\n",
    "x, y = foo(2, 3)"
   ],
   "metadata": {},
   "execution_count": 12
  },
  {
   "cell_type": "markdown",
   "source": [
    "- Argument destructuring\n",
    "\n",
    "minmax(x, y) = (y < x) ? (y, x) : (x, y)\n",
    "minmax(10, 2)\n",
    "minmax(2, 10)\n",
    "\n",
    "range((min, max)) = max - min\n",
    "range(minmax(10, 2))\n",
    "\n",
    "- Varargs functions\n",
    "\n",
    "bar(a, b, x...) = (a, b, x)\n",
    "bar(1, 2)\n",
    "bar(1, 2, 3)\n",
    "bar(1, 2, 3, 4)\n",
    "typeof(bar(1, 2, 3, 4)[3])\n",
    "\n",
    "x = (3, 4, 5)\n",
    "bar(1, x...)\n",
    "x = [3, 4, 5]\n",
    "bar(1, x...)\n",
    "\n",
    "### Optional arguments\n",
    "\n",
    "<!-- # using Dates -->\n",
    "<!-- # function Date(y::Int64, m::Int64=1, d::Int64=1) -->\n",
    "<!-- #     err = validargs(Date, y, m, d) -->\n",
    "<!-- #     err === nothing || throw(err) -->\n",
    "<!-- #     return Date(UTD(totaldays(y, m, d))) -->\n",
    "<!-- # end -->\n",
    "<!-- # Date(2000, 12, 12) -->\n",
    "<!--  -->\n",
    "\n",
    "### Function composition and piping"
   ],
   "metadata": {}
  },
  {
   "outputs": [
    {
     "output_type": "execute_result",
     "data": {
      "text/plain": "4-element Vector{Any}:\n  \"A\"\n  \"tsil\"\n  \"Of\"\n 7"
     },
     "metadata": {},
     "execution_count": 13
    }
   ],
   "cell_type": "code",
   "source": [
    "(sqrt ∘ +)(3, 6)\n",
    "map(first ∘ reverse ∘ uppercase, split(\"this is julia\"))\n",
    "\n",
    "(3, 6) |>\n",
    "    sum |>\n",
    "    sqrt\n",
    "\n",
    "[\"a\", \"list\", \"of\", \"strings\"] .|> [uppercase, reverse, titlecase, length]"
   ],
   "metadata": {},
   "execution_count": 13
  },
  {
   "cell_type": "markdown",
   "source": [
    "---\n",
    "\n",
    "*This notebook was generated using [Literate.jl](https://github.com/fredrikekre/Literate.jl).*"
   ],
   "metadata": {}
  }
 ],
 "nbformat_minor": 3,
 "metadata": {
  "language_info": {
   "file_extension": ".jl",
   "mimetype": "application/julia",
   "name": "julia",
   "version": "1.7.2"
  },
  "kernelspec": {
   "name": "julia-1.7",
   "display_name": "Julia 1.7.2",
   "language": "julia"
  }
 },
 "nbformat": 4
}
