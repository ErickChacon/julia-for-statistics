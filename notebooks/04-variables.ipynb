{
  "cells": [
    {
      "cell_type": "markdown",
      "source": [
        "## Variables\n\nA variable is a name that will be associated to a value through a memory space; these are\ncase-sensitive.\n\n### Defining variables\n\nVariables are defined and modified using `=`, see some examples below."
      ],
      "metadata": {}
    },
    {
      "outputs": [],
      "cell_type": "code",
      "source": [
        "x = 10\nprint(x, \", \", typeof(x))"
      ],
      "metadata": {},
      "execution_count": null
    },
    {
      "outputs": [],
      "cell_type": "code",
      "source": [
        "x = 10.0\nprint(x, \", \",  typeof(x))"
      ],
      "metadata": {},
      "execution_count": null
    },
    {
      "outputs": [],
      "cell_type": "code",
      "source": [
        "x = \"Hello World!\"\nprint(x, \", \",  typeof(x))"
      ],
      "metadata": {},
      "execution_count": null
    },
    {
      "outputs": [],
      "cell_type": "code",
      "source": [
        "x = 1 + 2im\nprint(x, \", \",  typeof(x))"
      ],
      "metadata": {},
      "execution_count": null
    },
    {
      "outputs": [],
      "cell_type": "code",
      "source": [
        "x = 1 // 2\nprint(x, \", \",  typeof(x))"
      ],
      "metadata": {},
      "execution_count": null
    },
    {
      "cell_type": "markdown",
      "source": [
        "### Define more than one variable\n\nMore that one variable can be defined using tuples syntax."
      ],
      "metadata": {}
    },
    {
      "outputs": [],
      "cell_type": "code",
      "source": [
        "(a, b) = (1, 10)\nprint(a, \", \", b)"
      ],
      "metadata": {},
      "execution_count": null
    },
    {
      "outputs": [],
      "cell_type": "code",
      "source": [
        "a, b = 1, 10\nprint(a, \", \", b)"
      ],
      "metadata": {},
      "execution_count": null
    },
    {
      "outputs": [],
      "cell_type": "code",
      "source": [
        "(a, b) = 1, 10\nprint(a, \", \", b)"
      ],
      "metadata": {},
      "execution_count": null
    },
    {
      "outputs": [],
      "cell_type": "code",
      "source": [
        "a, b = (1, 10)\nprint(a, \", \", b)\n# 1, 10"
      ],
      "metadata": {},
      "execution_count": null
    },
    {
      "cell_type": "markdown",
      "source": [
        "### Allowed variable names\n\n- Unicode names can be used. This is an interesting Julia feature."
      ],
      "metadata": {}
    },
    {
      "outputs": [],
      "cell_type": "code",
      "source": [
        "μ = 0\nprint(μ)\n\nσ = 1\nprint(σ)\n\nα = 0.1\nprint(α)\n\nβ = 10.0\nprint(β)"
      ],
      "metadata": {},
      "execution_count": null
    },
    {
      "cell_type": "markdown",
      "source": [
        "- Built-in constants or functions cannot be replaced after being used."
      ],
      "metadata": {}
    },
    {
      "outputs": [],
      "cell_type": "code",
      "source": [
        "pi; pi = 3\n# ERROR: cannot assign a value to variable MathConstants.pi from module Main\n# Stacktrace:\n#  [1] top-level scope at REPL[95]:1"
      ],
      "metadata": {},
      "execution_count": null
    },
    {
      "outputs": [],
      "cell_type": "code",
      "source": [
        "sqrt(4); sqrt = 4\n# ERROR: cannot assign a value to variable Base.sqrt from module Main\n# Stacktrace:\n#  [1] top-level scope at REPL[97]:1"
      ],
      "metadata": {},
      "execution_count": null
    },
    {
      "cell_type": "markdown",
      "source": [
        "- Built-in keywords cannot be modify."
      ],
      "metadata": {}
    },
    {
      "outputs": [],
      "cell_type": "code",
      "source": [
        "else = false\n# ERROR: syntax: unexpected \"else\"\n# Stacktrace:\n#  [1] top-level scope at none:1"
      ],
      "metadata": {},
      "execution_count": null
    },
    {
      "cell_type": "markdown",
      "source": [
        "- Some Julia naming conventions:\n    - Use lower case for variables, functions, and macros (e.g. `name = \"Julia\"`).\n    - Underscore (`_`) use is discouraged (e.g. `lastname = \"Montalvan\"`).\n    - Use *uper camel case* for `Types` and `Modules`.\n    - Use `!` at the end of a function name when it mutates its arguments."
      ],
      "metadata": {}
    }
  ],
  "nbformat_minor": 2,
  "metadata": {
    "language_info": {
      "file_extension": ".jl",
      "mimetype": "application/julia",
      "name": "julia",
      "version": "1.6.0"
    },
    "kernelspec": {
      "name": "julia-1.6",
      "display_name": "Julia 1.6.0",
      "language": "julia"
    }
  },
  "nbformat": 4
}
