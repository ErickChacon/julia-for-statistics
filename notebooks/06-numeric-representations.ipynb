{
 "cells": [
  {
   "cell_type": "markdown",
   "source": [
    "## Numeric representations\n",
    "\n",
    "These are the basic units for arithmetic operations. Their built-in representations are\n",
    "called numeric primitives, while the immediate values (e.g. `10`, `10.0`) are known as\n",
    "numeric literals.\n",
    "\n",
    "### Integers\n",
    "\n",
    "- **Integer types**\n",
    "\n",
    "Default integer type depends of the target system (`Sys.WORD_SIZE`). Nowadays, 64-bits is\n",
    "the most common type."
   ],
   "metadata": {}
  },
  {
   "outputs": [
    {
     "name": "stdout",
     "output_type": "stream",
     "text": [
      "10\n"
     ]
    },
    {
     "output_type": "execute_result",
     "data": {
      "text/plain": "Int64"
     },
     "metadata": {},
     "execution_count": 1
    }
   ],
   "cell_type": "code",
   "source": [
    "println(10); typeof(10)"
   ],
   "metadata": {},
   "execution_count": 1
  },
  {
   "cell_type": "markdown",
   "source": [
    "We can explicitely define another integer type. For example, the function `Int8` allows to\n",
    "define 8-bits integers (from -128 to 127). The function `UInt8` is used to define positive\n",
    "8-bits integers (from 0 to 255). Other common bit sizes are `16`, `32`, `64` and `128`."
   ],
   "metadata": {}
  },
  {
   "outputs": [
    {
     "name": "stdout",
     "output_type": "stream",
     "text": [
      "10\n"
     ]
    },
    {
     "output_type": "execute_result",
     "data": {
      "text/plain": "(-128, 127)"
     },
     "metadata": {},
     "execution_count": 2
    }
   ],
   "cell_type": "code",
   "source": [
    "println(Int8(10)); typeof(Int8(10))\n",
    "(typemin(Int8), typemax(Int8))"
   ],
   "metadata": {},
   "execution_count": 2
  },
  {
   "cell_type": "markdown",
   "source": [
    "- **Overflowing**\n",
    "\n",
    "In case the maximum value of a integer type has been reached, adding `1` unit will return\n",
    "the minimum value of the associated integer type. This behaviour is known as\n",
    "**wraparound** when **overflowing** an integer type."
   ],
   "metadata": {}
  },
  {
   "outputs": [
    {
     "output_type": "execute_result",
     "data": {
      "text/plain": "-128"
     },
     "metadata": {},
     "execution_count": 3
    }
   ],
   "cell_type": "code",
   "source": [
    "Int8(127) + Int8(1)"
   ],
   "metadata": {},
   "execution_count": 3
  },
  {
   "cell_type": "markdown",
   "source": [
    "As an example, we can see that `10^19` is represented as a negative value due to excedding\n",
    "the maximum limit value."
   ],
   "metadata": {}
  },
  {
   "outputs": [
    {
     "name": "stdout",
     "output_type": "stream",
     "text": [
      "-8446744073709551616\n"
     ]
    },
    {
     "output_type": "execute_result",
     "data": {
      "text/plain": "Int64"
     },
     "metadata": {},
     "execution_count": 4
    }
   ],
   "cell_type": "code",
   "source": [
    "println(10^19); typeof(10^19)"
   ],
   "metadata": {},
   "execution_count": 4
  },
  {
   "cell_type": "markdown",
   "source": [
    "- **Big values**\n",
    "\n",
    "In case, we wish to properly define big integer values, we can use the `big` function."
   ],
   "metadata": {}
  },
  {
   "outputs": [
    {
     "name": "stdout",
     "output_type": "stream",
     "text": [
      "10000000000000000000\n"
     ]
    },
    {
     "output_type": "execute_result",
     "data": {
      "text/plain": "BigInt"
     },
     "metadata": {},
     "execution_count": 5
    }
   ],
   "cell_type": "code",
   "source": [
    "println(big(10) ^ 19); typeof(big(10) ^ 19)"
   ],
   "metadata": {},
   "execution_count": 5
  },
  {
   "cell_type": "markdown",
   "source": [
    "- **Integer division**\n",
    "\n",
    "The function `div` execute **integer division**. It throw an error when dividing by zero\n",
    "and, dividing the lowest negative number by `-1`.\n",
    "\n",
    "```julia\n",
    "div(1, 0)\n",
    "# ERROR: DivideError: integer division error\n",
    "\n",
    "div(typemin(Int64), -1)\n",
    "# ERROR: DivideError: integer division error\n",
    "```\n",
    "\n",
    "### Floating-point numbers\n",
    "\n",
    "- **Floating-point number type**\n",
    "\n",
    "Number in the real line are represented using floating-point numbers. Similar to integers,\n",
    "the floating-point number type depends of the target system."
   ],
   "metadata": {}
  },
  {
   "outputs": [
    {
     "name": "stdout",
     "output_type": "stream",
     "text": [
      "10.0\n"
     ]
    },
    {
     "output_type": "execute_result",
     "data": {
      "text/plain": "Float64"
     },
     "metadata": {},
     "execution_count": 6
    }
   ],
   "cell_type": "code",
   "source": [
    "println(10.0); typeof(10.0)"
   ],
   "metadata": {},
   "execution_count": 6
  },
  {
   "cell_type": "markdown",
   "source": [
    "Scientific notation can also be used when using floating-point numbers."
   ],
   "metadata": {}
  },
  {
   "outputs": [
    {
     "name": "stdout",
     "output_type": "stream",
     "text": [
      "180.0\n",
      "180.0\n"
     ]
    },
    {
     "output_type": "execute_result",
     "data": {
      "text/plain": "Float32"
     },
     "metadata": {},
     "execution_count": 7
    }
   ],
   "cell_type": "code",
   "source": [
    "println(1.8e2); typeof(1.8e2)\n",
    "println(1.8f2); typeof(1.8f2)"
   ],
   "metadata": {},
   "execution_count": 7
  },
  {
   "cell_type": "markdown",
   "source": [
    "We can explicitely define another floating-point type. For example, the function `Float16`\n",
    "allows to define 16-bits floating-point number. Possible bit sizes are `16`, `32` and\n",
    "`64`."
   ],
   "metadata": {}
  },
  {
   "outputs": [
    {
     "name": "stdout",
     "output_type": "stream",
     "text": [
      "10.0\n"
     ]
    },
    {
     "output_type": "execute_result",
     "data": {
      "text/plain": "Float16"
     },
     "metadata": {},
     "execution_count": 8
    }
   ],
   "cell_type": "code",
   "source": [
    "println(Float16(10)); typeof(Float16(10))"
   ],
   "metadata": {},
   "execution_count": 8
  },
  {
   "cell_type": "markdown",
   "source": [
    "Optionally, an underscore (`_`) can be used as digit separator (e.g. `10_000`, `0.000_1`).\n",
    "Bit representation of floating-point numbers can be obtained with the `bitstring`\n",
    "function."
   ],
   "metadata": {}
  },
  {
   "outputs": [
    {
     "output_type": "execute_result",
     "data": {
      "text/plain": "\"0100000000100100000000000000000000000000000000000000000000000000\""
     },
     "metadata": {},
     "execution_count": 9
    }
   ],
   "cell_type": "code",
   "source": [
    "bitstring(10.0)"
   ],
   "metadata": {},
   "execution_count": 9
  },
  {
   "cell_type": "markdown",
   "source": [
    "- **Special values**\n",
    "\n",
    "Julia have representations of special values as `Inf`, `-Inf`, `NaN` (not-a-number),\n",
    "`missing`; and common mathematical operation can be performed with these values."
   ],
   "metadata": {}
  },
  {
   "outputs": [
    {
     "output_type": "execute_result",
     "data": {
      "text/plain": "0.0"
     },
     "metadata": {},
     "execution_count": 10
    }
   ],
   "cell_type": "code",
   "source": [
    "1 / Inf"
   ],
   "metadata": {},
   "execution_count": 10
  },
  {
   "outputs": [
    {
     "output_type": "execute_result",
     "data": {
      "text/plain": "Inf"
     },
     "metadata": {},
     "execution_count": 11
    }
   ],
   "cell_type": "code",
   "source": [
    "1 / 0"
   ],
   "metadata": {},
   "execution_count": 11
  },
  {
   "outputs": [
    {
     "output_type": "execute_result",
     "data": {
      "text/plain": "NaN"
     },
     "metadata": {},
     "execution_count": 12
    }
   ],
   "cell_type": "code",
   "source": [
    "0 / 0"
   ],
   "metadata": {},
   "execution_count": 12
  },
  {
   "outputs": [
    {
     "output_type": "execute_result",
     "data": {
      "text/plain": "Inf"
     },
     "metadata": {},
     "execution_count": 13
    }
   ],
   "cell_type": "code",
   "source": [
    "Inf + 100"
   ],
   "metadata": {},
   "execution_count": 13
  },
  {
   "outputs": [
    {
     "output_type": "execute_result",
     "data": {
      "text/plain": "-Inf"
     },
     "metadata": {},
     "execution_count": 14
    }
   ],
   "cell_type": "code",
   "source": [
    "- Inf + 100"
   ],
   "metadata": {},
   "execution_count": 14
  },
  {
   "outputs": [
    {
     "output_type": "execute_result",
     "data": {
      "text/plain": "NaN"
     },
     "metadata": {},
     "execution_count": 15
    }
   ],
   "cell_type": "code",
   "source": [
    "0 * Inf"
   ],
   "metadata": {},
   "execution_count": 15
  },
  {
   "cell_type": "markdown",
   "source": [
    "- **Machine epsilon**\n",
    "\n",
    "Distance between two adjacent representable floating-point numbers (not neccesarily\n",
    "constant)."
   ],
   "metadata": {}
  },
  {
   "outputs": [
    {
     "output_type": "execute_result",
     "data": {
      "text/plain": "Float16(0.000977)"
     },
     "metadata": {},
     "execution_count": 16
    }
   ],
   "cell_type": "code",
   "source": [
    "eps(Float64)\n",
    "eps(Float32)\n",
    "eps(Float16)"
   ],
   "metadata": {},
   "execution_count": 16
  },
  {
   "cell_type": "markdown",
   "source": [
    "Use `nextfloat(x)`(or `prevfloat(x)`) to obtain the next (or previous) floating-point\n",
    "number with respect to `x`."
   ],
   "metadata": {}
  },
  {
   "outputs": [
    {
     "output_type": "execute_result",
     "data": {
      "text/plain": "9.999999999999998"
     },
     "metadata": {},
     "execution_count": 17
    }
   ],
   "cell_type": "code",
   "source": [
    "nextfloat(10.0)\n",
    "10.0 + eps(10.0)\n",
    "prevfloat(10.0)"
   ],
   "metadata": {},
   "execution_count": 17
  },
  {
   "cell_type": "markdown",
   "source": [
    "- **Big values**\n",
    "\n",
    "For bigger values of integers and floating-point numbers than supported by default, you ca\n",
    "use `BigInt` and `BigFloat` that allows arbitrary precision. Use quotes `\"` to adequately\n",
    "use these functions."
   ],
   "metadata": {}
  },
  {
   "outputs": [
    {
     "output_type": "execute_result",
     "data": {
      "text/plain": "1.2345678901234566904321354741114191710948944091796875"
     },
     "metadata": {},
     "execution_count": 18
    }
   ],
   "cell_type": "code",
   "source": [
    "BigFloat(1.23456789012345678901)"
   ],
   "metadata": {},
   "execution_count": 18
  },
  {
   "cell_type": "markdown",
   "source": [
    "1.2345678901234566904321354741114191710948944091796875"
   ],
   "metadata": {}
  },
  {
   "outputs": [
    {
     "output_type": "execute_result",
     "data": {
      "text/plain": "1.234567890123456789010000000000000000000000000000000000000000000000000000000004"
     },
     "metadata": {},
     "execution_count": 19
    }
   ],
   "cell_type": "code",
   "source": [
    "BigFloat(\"1.23456789012345678901\")"
   ],
   "metadata": {},
   "execution_count": 19
  },
  {
   "cell_type": "markdown",
   "source": [
    "1.234567890123456789010000000000000000000000000000000000000000000000000000000004"
   ],
   "metadata": {}
  },
  {
   "cell_type": "markdown",
   "source": [
    "Default precision and rounding method for `BigFloat` can be defined with `setrounding` and\n",
    "`setprecision`.\n",
    "\n",
    "### Literal zero and one\n",
    "\n",
    "Literal zeros and ones can be defined with the function `zero` and `one` with specific\n",
    "type."
   ],
   "metadata": {}
  },
  {
   "outputs": [
    {
     "output_type": "execute_result",
     "data": {
      "text/plain": "Float16(1.0)"
     },
     "metadata": {},
     "execution_count": 20
    }
   ],
   "cell_type": "code",
   "source": [
    "zero(Int8)\n",
    "one(Float16)"
   ],
   "metadata": {},
   "execution_count": 20
  },
  {
   "cell_type": "markdown",
   "source": [
    "### Complex and rational-number (non-primitives):"
   ],
   "metadata": {}
  },
  {
   "outputs": [
    {
     "name": "stdout",
     "output_type": "stream",
     "text": [
      "1 + 2im\n",
      "1 + 2im\n"
     ]
    },
    {
     "output_type": "execute_result",
     "data": {
      "text/plain": "1.1071487177940904"
     },
     "metadata": {},
     "execution_count": 21
    }
   ],
   "cell_type": "code",
   "source": [
    "print(1 + 2im, \"\\n\"); typeof(1 + 2im)\n",
    "print(complex(1, 2), \"\\n\"); typeof(complex(1, 2))\n",
    "\n",
    "real(1 + 2im)\n",
    "imag(1 + 2im)\n",
    "conj(1 + 2im)\n",
    "abs(1 + 2im)\n",
    "abs2(1 + 2im)\n",
    "angle(1 + 2im)"
   ],
   "metadata": {},
   "execution_count": 21
  },
  {
   "cell_type": "markdown",
   "source": [
    "### Rational Numbers"
   ],
   "metadata": {}
  },
  {
   "outputs": [
    {
     "output_type": "execute_result",
     "data": {
      "text/plain": "true"
     },
     "metadata": {},
     "execution_count": 22
    }
   ],
   "cell_type": "code",
   "source": [
    "2 // 3\n",
    "5 // 15\n",
    "\n",
    "(numerator(2 // 3), denominator(2 // 3))\n",
    "1 // 3 == 5 // 15 # can be compared"
   ],
   "metadata": {},
   "execution_count": 22
  },
  {
   "cell_type": "markdown",
   "source": [
    "### Arrays"
   ],
   "metadata": {}
  },
  {
   "outputs": [
    {
     "output_type": "execute_result",
     "data": {
      "text/plain": "10×10 Matrix{Float64}:\n 0.881219   0.455061   0.381656  0.213586   …  0.133169   0.163646   0.389164\n 0.457629   0.491725   0.313481  0.780127      0.0915915  0.569628   0.377174\n 0.788639   0.272297   0.106073  0.618949      0.4412     0.0888116  0.276595\n 0.256172   0.963307   0.232655  0.567405      0.639967   0.914984   0.562484\n 0.199344   0.0573724  0.734354  0.771881      0.533828   0.834549   0.112574\n 0.384047   0.739924   0.765028  0.730364   …  0.789129   0.414704   0.884637\n 0.829176   0.119178   0.351812  0.430995      0.791682   0.815862   0.468141\n 0.925741   0.292003   0.344427  0.172975      0.445553   0.860853   0.23612\n 0.477004   0.684844   0.368312  0.965611      0.0566334  0.677543   0.701806\n 0.0433093  0.450991   0.639003  0.0504459     0.615396   0.781213   0.561267"
     },
     "metadata": {},
     "execution_count": 23
    }
   ],
   "cell_type": "code",
   "source": [
    "A = Array{Float64,2}(undef, 2, 3)\n",
    "A\n",
    "\n",
    "ones(Float64, 2, 3)\n",
    "zeros(Float64, 2, 3)\n",
    "rand(Float64, 2, 3)\n",
    "\n",
    "range(10, stop = 20, length = 3)\n",
    "\n",
    "[1, 2, 3]\n",
    "[1, 2.3, 4//5]\n",
    "[1:2, 4:5]\n",
    "\n",
    "rand(10, 10)"
   ],
   "metadata": {},
   "execution_count": 23
  },
  {
   "cell_type": "markdown",
   "source": [
    "---\n",
    "\n",
    "*This notebook was generated using [Literate.jl](https://github.com/fredrikekre/Literate.jl).*"
   ],
   "metadata": {}
  }
 ],
 "nbformat_minor": 3,
 "metadata": {
  "language_info": {
   "file_extension": ".jl",
   "mimetype": "application/julia",
   "name": "julia",
   "version": "1.7.2"
  },
  "kernelspec": {
   "name": "julia-1.7",
   "display_name": "Julia 1.7.2",
   "language": "julia"
  }
 },
 "nbformat": 4
}
