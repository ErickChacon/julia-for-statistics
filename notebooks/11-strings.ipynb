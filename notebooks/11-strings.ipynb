{
 "cells": [
  {
   "cell_type": "markdown",
   "source": [
    "## Characters and strings"
   ],
   "metadata": {}
  },
  {
   "outputs": [
    {
     "output_type": "execute_result",
     "data": {
      "text/plain": "false"
     },
     "metadata": {},
     "execution_count": 1
    }
   ],
   "cell_type": "code",
   "source": [
    "'x'\n",
    "typeof('x')\n",
    "Int('x')\n",
    "Char(120)\n",
    "isvalid(Char, 0x110000)"
   ],
   "metadata": {},
   "execution_count": 1
  },
  {
   "outputs": [
    {
     "output_type": "execute_result",
     "data": {
      "text/plain": "true"
     },
     "metadata": {},
     "execution_count": 2
    }
   ],
   "cell_type": "code",
   "source": [
    "'A' < 'a'\n",
    "Int('A')\n",
    "Int('a')\n",
    "'A' <= 'a' <= 'z'"
   ],
   "metadata": {},
   "execution_count": 2
  },
  {
   "outputs": [
    {
     "output_type": "execute_result",
     "data": {
      "text/plain": "\"Hello, world.\\n\""
     },
     "metadata": {},
     "execution_count": 3
    }
   ],
   "cell_type": "code",
   "source": [
    "str = \"Hello, world.\\n\""
   ],
   "metadata": {},
   "execution_count": 3
  },
  {
   "cell_type": "markdown",
   "source": [
    "\"\"\"Contains \"quote\" characters\"\"\""
   ],
   "metadata": {}
  },
  {
   "outputs": [
    {
     "output_type": "execute_result",
     "data": {
      "text/plain": "\"lo, wo\""
     },
     "metadata": {},
     "execution_count": 4
    }
   ],
   "cell_type": "code",
   "source": [
    "str[begin]\n",
    "str[1]\n",
    "str[6]\n",
    "str[end]\n",
    "str[end-1]\n",
    "str[4:9]"
   ],
   "metadata": {},
   "execution_count": 4
  },
  {
   "cell_type": "markdown",
   "source": [
    "```julia\n",
    "typeof(SubString(str, 1, 5))\n",
    "\n",
    "firstindex(str)\n",
    "lastindex(str)\n",
    "\n",
    "s = \"\\u2200 x \\u2203 y\"\n",
    "s[1]\n",
    "s[2]\n",
    "s[4]\n",
    "nextind(s, 1)\n",
    "nextind(s, 5)\n",
    "\n",
    "stri = \"\"\"\n",
    "Hello you,\n",
    "Small text.\n",
    "Cheers,\n",
    "Me\n",
    "\"\"\"\n",
    "```\n",
    "\n",
    "\n",
    "### Regular expressions\n",
    "\n",
    "```julia\n",
    "r\"^he\"\n",
    "typeof(ans)\n",
    "\n",
    "occursin(r\"^he\", \"hello\")\n",
    "m = match(r\"^he\", \"hello\")\n",
    "m.match\n",
    "m.captures\n",
    "```"
   ],
   "metadata": {}
  },
  {
   "outputs": [],
   "cell_type": "code",
   "source": [
    "### Concatenation"
   ],
   "metadata": {},
   "execution_count": 5
  },
  {
   "cell_type": "markdown",
   "source": [
    "greet = \"Hello\"\n",
    "whom = \"you\"\n",
    "string(greet, \", \", whom, \".\\n\")\n",
    "greet * \", \" * whom * \".\\n\"\n",
    "\"$greet, $whom.\\n\"\n",
    "\"1 + 2 = $(1 + 2)\""
   ],
   "metadata": {}
  },
  {
   "cell_type": "markdown",
   "source": [
    "---\n",
    "\n",
    "*This notebook was generated using [Literate.jl](https://github.com/fredrikekre/Literate.jl).*"
   ],
   "metadata": {}
  }
 ],
 "nbformat_minor": 3,
 "metadata": {
  "language_info": {
   "file_extension": ".jl",
   "mimetype": "application/julia",
   "name": "julia",
   "version": "1.7.2"
  },
  "kernelspec": {
   "name": "julia-1.7",
   "display_name": "Julia 1.7.2",
   "language": "julia"
  }
 },
 "nbformat": 4
}
