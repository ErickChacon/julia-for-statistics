{
  "cells": [
    {
      "cell_type": "markdown",
      "source": [
        "## Basic concepts\n\n- **Values**: Julia can work with different type of values like numbers, characters,\n  strings, etc. Below, we see an example of an string value and a numeric value."
      ],
      "metadata": {}
    },
    {
      "outputs": [],
      "cell_type": "code",
      "source": [
        "\"Hello\""
      ],
      "metadata": {},
      "execution_count": null
    },
    {
      "outputs": [],
      "cell_type": "code",
      "source": [
        "2021"
      ],
      "metadata": {},
      "execution_count": null
    },
    {
      "cell_type": "markdown",
      "source": [
        "- **Variables**: A value can be assigned to a variable. Below, the variable `greet` is\n  defined with the assigned value `\"Hello\"`."
      ],
      "metadata": {}
    },
    {
      "outputs": [],
      "cell_type": "code",
      "source": [
        "greet = \"Hello\""
      ],
      "metadata": {},
      "execution_count": null
    },
    {
      "cell_type": "markdown",
      "source": [
        "- **Functions**: To define a function, we start with the `function` key followed by the name\n  of the function with braces, and it finish with the `end` key. The output value can be\n  explicitely defined using the `return` key. See an example below."
      ],
      "metadata": {}
    },
    {
      "outputs": [],
      "cell_type": "code",
      "source": [
        "function greet_name(x)\n    out = \"Hello, \"  * x\n    return out\nend"
      ],
      "metadata": {},
      "execution_count": null
    },
    {
      "outputs": [],
      "cell_type": "code",
      "source": [
        "greet_name(\"Julia\")"
      ],
      "metadata": {},
      "execution_count": null
    },
    {
      "cell_type": "markdown",
      "source": [
        "- **Printing**: The most common function to print a text is `print`, while `println` has\n  the same behaviour but adds a newline at the end. We can use `$` to interpolate the\n  value of a vairable. You can use braces for expressions (e.g. `$(1 + 1)`). In the\n  example below, variables `who` and `greet` are interpolated in the printed text."
      ],
      "metadata": {}
    },
    {
      "outputs": [],
      "cell_type": "code",
      "source": [
        "who = \"Erick\"\ngreet = \"Hello\"\nprintln(\"Welcome! $greet, $(who)!\")"
      ],
      "metadata": {},
      "execution_count": null
    }
  ],
  "nbformat_minor": 2,
  "metadata": {
    "language_info": {
      "file_extension": ".jl",
      "mimetype": "application/julia",
      "name": "julia",
      "version": "1.6.0"
    },
    "kernelspec": {
      "name": "julia-1.6",
      "display_name": "Julia 1.6.0",
      "language": "julia"
    }
  },
  "nbformat": 4
}
