{
  "cells": [
    {
      "cell_type": "markdown",
      "source": [
        "## Common values\n\nIn this section, we provide a quick introduction to common basic objects. The function\n`typeof` used below returns the type of object provided as argument.\n\n- Integers"
      ],
      "metadata": {}
    },
    {
      "outputs": [],
      "cell_type": "code",
      "source": [
        "1\ntypeof(1)\n# Int64"
      ],
      "metadata": {},
      "execution_count": null
    },
    {
      "cell_type": "markdown",
      "source": [
        "- Floating-Point numbers"
      ],
      "metadata": {}
    },
    {
      "outputs": [],
      "cell_type": "code",
      "source": [
        "10.0\ntypeof(10.0)\n# Float64"
      ],
      "metadata": {},
      "execution_count": null
    },
    {
      "cell_type": "markdown",
      "source": [
        "- Complex numbers"
      ],
      "metadata": {}
    },
    {
      "outputs": [],
      "cell_type": "code",
      "source": [
        "1 + 2im\ntypeof(1 + 2im)\n# Complex{Int64}"
      ],
      "metadata": {},
      "execution_count": null
    },
    {
      "cell_type": "markdown",
      "source": [
        "- Rational numbers"
      ],
      "metadata": {}
    },
    {
      "outputs": [],
      "cell_type": "code",
      "source": [
        "10 // 15\ntypeof(10 // 15)\n# Rational{Int64}"
      ],
      "metadata": {},
      "execution_count": null
    },
    {
      "cell_type": "markdown",
      "source": [
        "- Character"
      ],
      "metadata": {}
    },
    {
      "outputs": [],
      "cell_type": "code",
      "source": [
        "'x'\ntypeof('x')\n# Char"
      ],
      "metadata": {},
      "execution_count": null
    },
    {
      "cell_type": "markdown",
      "source": [
        "- Strings"
      ],
      "metadata": {}
    },
    {
      "outputs": [],
      "cell_type": "code",
      "source": [
        "\"julia\"\ntypeof(\"julia\")\n# String"
      ],
      "metadata": {},
      "execution_count": null
    },
    {
      "cell_type": "markdown",
      "source": [
        "- Tuples: fixed-length container holding any values"
      ],
      "metadata": {}
    },
    {
      "outputs": [],
      "cell_type": "code",
      "source": [
        "(10.0, 2, \"string\")\ntypeof((10.0, 2, \"string\"))\n# Tuple{Float64,Int64,String}"
      ],
      "metadata": {},
      "execution_count": null
    },
    {
      "cell_type": "markdown",
      "source": [
        "- Named tuples: Tuples with element names"
      ],
      "metadata": {}
    },
    {
      "outputs": [],
      "cell_type": "code",
      "source": [
        "(a = 10.0, b = 2, c = \"string\")\ntypeof((a = 10.0, b = 2, c = \"string\"))\n# NamedTuple{(:a, :b, :c),Tuple{Float64,Int64,String}}"
      ],
      "metadata": {},
      "execution_count": null
    }
  ],
  "nbformat_minor": 2,
  "metadata": {
    "language_info": {
      "file_extension": ".jl",
      "mimetype": "application/julia",
      "name": "julia",
      "version": "1.6.0"
    },
    "kernelspec": {
      "name": "julia-1.6",
      "display_name": "Julia 1.6.0",
      "language": "julia"
    }
  },
  "nbformat": 4
}
